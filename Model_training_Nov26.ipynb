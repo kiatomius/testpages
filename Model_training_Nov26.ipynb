{
 "cells": [
  {
   "cell_type": "code",
   "execution_count": 18,
   "metadata": {},
   "outputs": [],
   "source": [
    "import json\n",
    "import numpy as np\n",
    "import scipy as sp\n",
    "import matplotlib as mpl\n",
    "import matplotlib.cm as cm\n",
    "import matplotlib.pyplot as plt\n",
    "import pandas as pd\n",
    "from collections import Counter\n",
    "import os\n",
    "import re \n",
    "import tweepy \n",
    "from tweepy import OAuthHandler \n",
    "from textblob import TextBlob \n",
    "from plotly.offline import download_plotlyjs, init_notebook_mode, plot, iplot\n",
    "import plotly as py\n",
    "import plotly.graph_objs as go"
   ]
  },
  {
   "cell_type": "code",
   "execution_count": 19,
   "metadata": {},
   "outputs": [],
   "source": [
    "import numpy as np\n",
    "import pandas as pd\n",
    "import matplotlib\n",
    "import matplotlib.pyplot as plt\n",
    "import seaborn as sns\n",
    "sns.set()\n",
    "\n",
    "from sklearn.decomposition import PCA\n",
    "from sklearn.linear_model import LogisticRegression\n",
    "from sklearn.linear_model import LogisticRegressionCV\n",
    "from sklearn.discriminant_analysis import LinearDiscriminantAnalysis\n",
    "from sklearn.discriminant_analysis import QuadraticDiscriminantAnalysis\n",
    "from sklearn.preprocessing import PolynomialFeatures\n",
    "from sklearn.neighbors import KNeighborsClassifier\n",
    "from sklearn.model_selection import train_test_split\n",
    "from sklearn.model_selection import cross_val_score\n",
    "from sklearn.model_selection import KFold\n",
    "from sklearn.metrics import accuracy_score\n",
    "from sklearn.tree import DecisionTreeClassifier\n",
    "from sklearn.tree import export_graphviz\n",
    "from sklearn.pipeline import make_pipeline\n",
    "from sklearn.datasets import make_blobs\n",
    "\n",
    "from pandas.api.types import is_numeric_dtype\n",
    "\n",
    "from sklearn.ensemble import RandomForestRegressor\n",
    "from sklearn.model_selection import GridSearchCV\n",
    "\n",
    "from sklearn.model_selection import cross_val_score\n",
    "from sklearn.utils import resample\n",
    "from sklearn.tree import DecisionTreeClassifier\n",
    "from sklearn.ensemble import RandomForestClassifier\n",
    "from sklearn.ensemble import AdaBoostClassifier\n",
    "from sklearn.metrics import accuracy_score\n"
   ]
  },
  {
   "cell_type": "code",
   "execution_count": 20,
   "metadata": {},
   "outputs": [],
   "source": [
    "from sklearn.utils import shuffle"
   ]
  },
  {
   "cell_type": "code",
   "execution_count": 21,
   "metadata": {},
   "outputs": [],
   "source": [
    "os.getcwd()\n",
    "pd.set_option('display.max_columns', 100)"
   ]
  },
  {
   "cell_type": "code",
   "execution_count": 22,
   "metadata": {},
   "outputs": [
    {
     "name": "stderr",
     "output_type": "stream",
     "text": [
      "C:\\Users\\motoa\\Anaconda3\\lib\\site-packages\\IPython\\core\\interactiveshell.py:2785: DtypeWarning:\n",
      "\n",
      "Columns (0) have mixed types. Specify dtype option on import or set low_memory=False.\n",
      "\n"
     ]
    },
    {
     "name": "stdout",
     "output_type": "stream",
     "text": [
      "817.3177892918826\n"
     ]
    }
   ],
   "source": [
    "df_gen_tweets = pd.read_csv('datasets_full.csv/genuine_accounts.csv/tweets.csv')\n",
    "df_gen_users = pd.read_csv('datasets_full.csv/genuine_accounts.csv/users.csv')\n",
    "\n",
    "print(len(df_gen_tweets)/len(df_gen_users))\n",
    "\n",
    "df_gen = pd.merge(df_gen_tweets, df_gen_users, how = 'left',left_on='user_id', right_on='id')"
   ]
  },
  {
   "cell_type": "code",
   "execution_count": 23,
   "metadata": {},
   "outputs": [
    {
     "name": "stderr",
     "output_type": "stream",
     "text": [
      "C:\\Users\\motoa\\Anaconda3\\lib\\site-packages\\IPython\\core\\interactiveshell.py:2785: DtypeWarning:\n",
      "\n",
      "Columns (10) have mixed types. Specify dtype option on import or set low_memory=False.\n",
      "\n",
      "C:\\Users\\motoa\\Anaconda3\\lib\\site-packages\\IPython\\core\\interactiveshell.py:2785: DtypeWarning:\n",
      "\n",
      "Columns (7,10) have mixed types. Specify dtype option on import or set low_memory=False.\n",
      "\n"
     ]
    }
   ],
   "source": [
    "df_bot1_tweets = pd.read_csv('datasets_full.csv/social_spambots_1.csv/tweets.csv')\n",
    "df_bot1_users = pd.read_csv('datasets_full.csv/social_spambots_1.csv/users.csv')\n",
    "df_bot1_merge = pd.merge(df_bot1_tweets, df_bot1_users, how = 'left', left_on='user_id', right_on='id')\n",
    "\n",
    "df_bot2_tweets = pd.read_csv('datasets_full.csv/social_spambots_2.csv/tweets.csv')\n",
    "df_bot2_users = pd.read_csv('datasets_full.csv/social_spambots_2.csv/users.csv')\n",
    "df_bot2_merge = pd.merge(df_bot2_tweets, df_bot2_users, how = 'left', left_on='user_id', right_on='id')\n",
    "\n",
    "df_bot3_tweets = pd.read_csv('datasets_full.csv/social_spambots_3.csv/tweets.csv')\n",
    "df_bot3_users = pd.read_csv('datasets_full.csv/social_spambots_3.csv/users.csv')\n",
    "df_bot3_merge = pd.merge(df_bot3_tweets, df_bot3_users, how = 'left', left_on='user_id', right_on='id')"
   ]
  },
  {
   "cell_type": "code",
   "execution_count": 24,
   "metadata": {},
   "outputs": [],
   "source": [
    "df_bot4_tweets = pd.read_csv('datasets_full.csv/traditional_spambots_1.csv/tweets.csv')\n",
    "df_bot4_users = pd.read_csv('datasets_full.csv/social_spambots_1.csv/users.csv')\n",
    "df_bot4_merge = pd.merge(df_bot4_tweets, df_bot4_users, how = 'left', left_on='user_id', right_on='id')"
   ]
  },
  {
   "cell_type": "code",
   "execution_count": 25,
   "metadata": {},
   "outputs": [
    {
     "name": "stderr",
     "output_type": "stream",
     "text": [
      "C:\\Users\\motoa\\Anaconda3\\lib\\site-packages\\ipykernel_launcher.py:1: FutureWarning:\n",
      "\n",
      "Sorting because non-concatenation axis is not aligned. A future version\n",
      "of pandas will change to not sort by default.\n",
      "\n",
      "To accept the future behavior, pass 'sort=False'.\n",
      "\n",
      "To retain the current behavior and silence the warning, pass 'sort=True'.\n",
      "\n",
      "\n"
     ]
    }
   ],
   "source": [
    "df_bot = pd.concat([df_bot2_merge, df_bot3_merge, df_bot4_merge])"
   ]
  },
  {
   "cell_type": "code",
   "execution_count": 26,
   "metadata": {},
   "outputs": [
    {
     "data": {
      "text/plain": [
       "(2839362, 1992193)"
      ]
     },
     "execution_count": 26,
     "metadata": {},
     "output_type": "execute_result"
    }
   ],
   "source": [
    "len(df_gen), len(df_bot)"
   ]
  },
  {
   "cell_type": "code",
   "execution_count": 27,
   "metadata": {},
   "outputs": [],
   "source": [
    "df_gen['bot']=0\n",
    "df_bot['bot']=1"
   ]
  },
  {
   "cell_type": "code",
   "execution_count": 29,
   "metadata": {},
   "outputs": [
    {
     "name": "stderr",
     "output_type": "stream",
     "text": [
      "C:\\Users\\motoa\\Anaconda3\\lib\\site-packages\\ipykernel_launcher.py:6: FutureWarning:\n",
      "\n",
      "Sorting because non-concatenation axis is not aligned. A future version\n",
      "of pandas will change to not sort by default.\n",
      "\n",
      "To accept the future behavior, pass 'sort=False'.\n",
      "\n",
      "To retain the current behavior and silence the warning, pass 'sort=True'.\n",
      "\n",
      "\n"
     ]
    }
   ],
   "source": [
    "df_gen_no_dup = df_gen.drop_duplicates(subset = 'user_id', keep = 'first')\n",
    "df_bot_no_dup = df_bot.drop_duplicates(subset = 'id_y', keep = 'first')\n",
    "\n",
    "number = 1000\n",
    "\n",
    "df_all = pd.concat([df_gen_no_dup.sample(number), df_bot_no_dup.sample(number)])"
   ]
  },
  {
   "cell_type": "code",
   "execution_count": 30,
   "metadata": {},
   "outputs": [],
   "source": [
    "#define data cleaning functions\n",
    "\n",
    "#cleaning step 1: check if screen_name has a word 'bot' in it\n",
    "\n",
    "def screen_name_check (df):\n",
    "    \n",
    "    word = 'bot'\n",
    "    bot_name = []\n",
    "    k = 0\n",
    "\n",
    "    for i in range (len(df)):\n",
    "        if pd.isnull(df.iloc[i,:]['screen_name']):\n",
    "                k = 0\n",
    "        else: \n",
    "            if word in df.iloc[i,:]['screen_name']:\n",
    "                k = 1\n",
    "            else:\n",
    "                k = 0\n",
    "        bot_name.append(k)\n",
    "    \n",
    "    return bot_name\n",
    "\n",
    "\n",
    "#cleaning step 2: check if location parameter is present\n",
    "\n",
    "def location_check(df):\n",
    "    \n",
    "    loc = []\n",
    "\n",
    "    for i in range (len(df)):\n",
    "        if pd.isnull(df.iloc[i,:]['location']):\n",
    "            loc.append(0)\n",
    "        else:\n",
    "            loc.append(1)\n",
    "            \n",
    "    return loc\n",
    "\n",
    "# cleaning step 3\n",
    "# Set description to 1 if it contains either of these words: \n",
    "#‘bot’, ‘robot’, ‘artificial’, ‘intelligence’, ‘neural’, ‘network’, ‘automatic’ and 0 otherwise.\n",
    "\n",
    "def description_check(df):\n",
    "    keyword = ['bot', 'robot', 'artificial', 'intelligence', 'neural', 'network', 'automatic']\n",
    "    bot_des = []\n",
    "    k = 0\n",
    "\n",
    "    for i in range (len(df)):\n",
    "        for keyword in keyword:\n",
    "            if pd.isnull(df.iloc[i,:]['description']):\n",
    "                k = 0\n",
    "            else:\n",
    "                if df.iloc[i,:]['description'].find(keyword) == -1:\n",
    "                    k = 0\n",
    "                else:\n",
    "                    k = 1\n",
    "        bot_des.append(k)\n",
    "        \n",
    "    return bot_des\n",
    "\n",
    "#cleaning step 4:\n",
    "#Set verified to 1 if the sample’s verified features contents are True and 0 otherwise.\n",
    "\n",
    "def verified_check(df):\n",
    "    ver = []\n",
    "\n",
    "    for i in range (len(df)):\n",
    "        if pd.isnull(df.iloc[i,:]['verified']):\n",
    "            ver.append(0)\n",
    "        else:\n",
    "            ver.append(1)\n",
    "    return ver\n",
    "\n",
    "#cleaning step 5:\n",
    "#Check if default profile exists or not.\n",
    "\n",
    "def default_profile_check (df):\n",
    "    \n",
    "    default_profile = []\n",
    "\n",
    "    for i in range (len(df)):\n",
    "        if pd.isnull(df.iloc[i,:]['default_profile']):\n",
    "            default_profile.append(0)\n",
    "        else:\n",
    "            default_profile.append(1)\n",
    "    \n",
    "    return default_profile\n",
    "\n",
    "#cleaning step 6:\n",
    "#Check if default profile image is used or not.\n",
    "\n",
    "def default_image_check (df):\n",
    "    \n",
    "    default_profile_image = []\n",
    "\n",
    "    for i in range (len(df)):\n",
    "        if pd.isnull(df.iloc[i,:]['default_profile_image']):\n",
    "            default_profile_image.append(0)\n",
    "        else:\n",
    "            default_profile_image.append(1)\n",
    "    \n",
    "    return default_profile_image"
   ]
  },
  {
   "cell_type": "code",
   "execution_count": 31,
   "metadata": {},
   "outputs": [],
   "source": [
    "def master_clean (df):\n",
    "    bot_name = screen_name_check (df)\n",
    "    loc = location_check (df)\n",
    "    bot_des = description_check (df)\n",
    "    ver = verified_check (df)\n",
    "    default_profile = default_profile_check (df)\n",
    "    default_profile_image = default_image_check (df)\n",
    "    \n",
    "    df = pd.DataFrame({'tweet':df['text'], \n",
    "                       'screen_name': df['screen_name'],\n",
    "                       'name': df['name'],\n",
    "                       'bot_in_name':bot_name,\n",
    "                       'bot_in_des':bot_des,\n",
    "                       'location': loc,\n",
    "                       'verified': ver,\n",
    "                       'default_profile': default_profile,\n",
    "                       'default_profile_image': default_profile_image,\n",
    "                       'followers_count': df['followers_count'],\n",
    "                       'listed_count': df['listed_count'],\n",
    "                       'friends_count': df['friends_count'],\n",
    "                       'favourites_count': df['favourites_count'],\n",
    "                       'statuses_count': df['statuses_count'],\n",
    "                       'bot_or_not':df['bot']\n",
    "                       })\n",
    "    \n",
    "    return df"
   ]
  },
  {
   "cell_type": "code",
   "execution_count": 32,
   "metadata": {},
   "outputs": [],
   "source": [
    "df_clean = master_clean(df_all)"
   ]
  },
  {
   "cell_type": "code",
   "execution_count": 33,
   "metadata": {},
   "outputs": [],
   "source": [
    "'''\n",
    "Converts features ‘followers_count’, ‘listed_count’, ‘friends_count’, \n",
    "‘favorites_count’, ‘statuses_count’ from string to int and \n",
    "normalizes their values. (for KNN algorithm implementation)\n",
    "'''\n",
    "\n",
    "def normalize (df):\n",
    "    con_var = ['followers_count', 'listed_count', 'friends_count', 'favourites_count', 'statuses_count']\n",
    "\n",
    "    for var in con_var:\n",
    "        x = df[var]\n",
    "        x = (x - x.mean())/x.std()\n",
    "        df[var + str(2)] = x\n"
   ]
  },
  {
   "cell_type": "markdown",
   "metadata": {},
   "source": [
    "(backup for removing outliers) \n",
    "def remove_outlier(df):\n",
    "    low = .05\n",
    "    high = .95\n",
    "    quant_df = df.quantile([low, high])\n",
    "    for name in list(df.columns):\n",
    "        if is_numeric_dtype(df[name]):\n",
    "            df = df[(df[name] > quant_df.loc[low, name]) & (df[name] < quant_df.loc[high, name])]\n",
    "    return df\n",
    "\n",
    "\n",
    "con_var = ['followers_count', 'listed_count', 'friends_count', 'favourites_count', 'statuses_count']\n",
    "\n",
    "for var in con_var:\n",
    "    df_clean[var] = remove_outlier(df_clean[[var]])\n",
    "\n",
    "df_clean = df_clean.dropna()"
   ]
  },
  {
   "cell_type": "code",
   "execution_count": 34,
   "metadata": {},
   "outputs": [
    {
     "data": {
      "text/html": [
       "<div>\n",
       "<style scoped>\n",
       "    .dataframe tbody tr th:only-of-type {\n",
       "        vertical-align: middle;\n",
       "    }\n",
       "\n",
       "    .dataframe tbody tr th {\n",
       "        vertical-align: top;\n",
       "    }\n",
       "\n",
       "    .dataframe thead th {\n",
       "        text-align: right;\n",
       "    }\n",
       "</style>\n",
       "<table border=\"1\" class=\"dataframe\">\n",
       "  <thead>\n",
       "    <tr style=\"text-align: right;\">\n",
       "      <th></th>\n",
       "      <th>tweet</th>\n",
       "      <th>screen_name</th>\n",
       "      <th>name</th>\n",
       "      <th>bot_in_name</th>\n",
       "      <th>bot_in_des</th>\n",
       "      <th>location</th>\n",
       "      <th>verified</th>\n",
       "      <th>default_profile</th>\n",
       "      <th>default_profile_image</th>\n",
       "      <th>followers_count</th>\n",
       "      <th>listed_count</th>\n",
       "      <th>friends_count</th>\n",
       "      <th>favourites_count</th>\n",
       "      <th>statuses_count</th>\n",
       "      <th>bot_or_not</th>\n",
       "    </tr>\n",
       "  </thead>\n",
       "  <tbody>\n",
       "    <tr>\n",
       "      <th>2414065</th>\n",
       "      <td>You should read \"poems\" on #Wattpad #poetry ht...</td>\n",
       "      <td>Gaara823</td>\n",
       "      <td>Alex Estrada</td>\n",
       "      <td>0</td>\n",
       "      <td>0</td>\n",
       "      <td>1</td>\n",
       "      <td>0</td>\n",
       "      <td>1</td>\n",
       "      <td>0</td>\n",
       "      <td>36.0</td>\n",
       "      <td>0.0</td>\n",
       "      <td>229.0</td>\n",
       "      <td>41.0</td>\n",
       "      <td>36.0</td>\n",
       "      <td>0</td>\n",
       "    </tr>\n",
       "    <tr>\n",
       "      <th>1709995</th>\n",
       "      <td>Boracay! :) http://t.co/sxNH7TTXX9</td>\n",
       "      <td>emeraldgayle</td>\n",
       "      <td>Emerald Fabillar</td>\n",
       "      <td>0</td>\n",
       "      <td>1</td>\n",
       "      <td>1</td>\n",
       "      <td>0</td>\n",
       "      <td>0</td>\n",
       "      <td>0</td>\n",
       "      <td>179.0</td>\n",
       "      <td>4.0</td>\n",
       "      <td>339.0</td>\n",
       "      <td>257.0</td>\n",
       "      <td>2485.0</td>\n",
       "      <td>0</td>\n",
       "    </tr>\n",
       "    <tr>\n",
       "      <th>2078683</th>\n",
       "      <td>@fion_li @NiuB great place. Like a giant free ...</td>\n",
       "      <td>koonnang</td>\n",
       "      <td>Koonnang</td>\n",
       "      <td>0</td>\n",
       "      <td>0</td>\n",
       "      <td>1</td>\n",
       "      <td>0</td>\n",
       "      <td>1</td>\n",
       "      <td>0</td>\n",
       "      <td>123.0</td>\n",
       "      <td>3.0</td>\n",
       "      <td>702.0</td>\n",
       "      <td>59.0</td>\n",
       "      <td>666.0</td>\n",
       "      <td>0</td>\n",
       "    </tr>\n",
       "    <tr>\n",
       "      <th>1545738</th>\n",
       "      <td>RT @CBS6Cody: Good morning! Time to wake up an...</td>\n",
       "      <td>CBS6Albany</td>\n",
       "      <td>CBS 6 Albany - WRGB</td>\n",
       "      <td>0</td>\n",
       "      <td>0</td>\n",
       "      <td>1</td>\n",
       "      <td>1</td>\n",
       "      <td>0</td>\n",
       "      <td>0</td>\n",
       "      <td>27856.0</td>\n",
       "      <td>605.0</td>\n",
       "      <td>756.0</td>\n",
       "      <td>291.0</td>\n",
       "      <td>54344.0</td>\n",
       "      <td>0</td>\n",
       "    </tr>\n",
       "    <tr>\n",
       "      <th>729205</th>\n",
       "      <td>this is exciting, ambulance just pulled up in ...</td>\n",
       "      <td>andyinsdca</td>\n",
       "      <td>andyinsdca</td>\n",
       "      <td>0</td>\n",
       "      <td>0</td>\n",
       "      <td>1</td>\n",
       "      <td>0</td>\n",
       "      <td>0</td>\n",
       "      <td>0</td>\n",
       "      <td>534.0</td>\n",
       "      <td>22.0</td>\n",
       "      <td>860.0</td>\n",
       "      <td>41.0</td>\n",
       "      <td>16942.0</td>\n",
       "      <td>0</td>\n",
       "    </tr>\n",
       "  </tbody>\n",
       "</table>\n",
       "</div>"
      ],
      "text/plain": [
       "                                                     tweet   screen_name  \\\n",
       "2414065  You should read \"poems\" on #Wattpad #poetry ht...      Gaara823   \n",
       "1709995                 Boracay! :) http://t.co/sxNH7TTXX9  emeraldgayle   \n",
       "2078683  @fion_li @NiuB great place. Like a giant free ...      koonnang   \n",
       "1545738  RT @CBS6Cody: Good morning! Time to wake up an...    CBS6Albany   \n",
       "729205   this is exciting, ambulance just pulled up in ...    andyinsdca   \n",
       "\n",
       "                        name  bot_in_name  bot_in_des  location  verified  \\\n",
       "2414065         Alex Estrada            0           0         1         0   \n",
       "1709995     Emerald Fabillar            0           1         1         0   \n",
       "2078683             Koonnang            0           0         1         0   \n",
       "1545738  CBS 6 Albany - WRGB            0           0         1         1   \n",
       "729205            andyinsdca            0           0         1         0   \n",
       "\n",
       "         default_profile  default_profile_image  followers_count  \\\n",
       "2414065                1                      0             36.0   \n",
       "1709995                0                      0            179.0   \n",
       "2078683                1                      0            123.0   \n",
       "1545738                0                      0          27856.0   \n",
       "729205                 0                      0            534.0   \n",
       "\n",
       "         listed_count  friends_count  favourites_count  statuses_count  \\\n",
       "2414065           0.0          229.0              41.0            36.0   \n",
       "1709995           4.0          339.0             257.0          2485.0   \n",
       "2078683           3.0          702.0              59.0           666.0   \n",
       "1545738         605.0          756.0             291.0         54344.0   \n",
       "729205           22.0          860.0              41.0         16942.0   \n",
       "\n",
       "         bot_or_not  \n",
       "2414065           0  \n",
       "1709995           0  \n",
       "2078683           0  \n",
       "1545738           0  \n",
       "729205            0  "
      ]
     },
     "execution_count": 34,
     "metadata": {},
     "output_type": "execute_result"
    }
   ],
   "source": [
    "df_clean.head()"
   ]
  },
  {
   "cell_type": "code",
   "execution_count": 35,
   "metadata": {},
   "outputs": [
    {
     "data": {
      "text/plain": [
       "<matplotlib.legend.Legend at 0x252d45657f0>"
      ]
     },
     "execution_count": 35,
     "metadata": {},
     "output_type": "execute_result"
    },
    {
     "data": {
      "image/png": "[encoded data removed]",
      "text/plain": [
       "<Figure size 1080x360 with 2 Axes>"
      ]
     },
     "metadata": {},
     "output_type": "display_data"
    }
   ],
   "source": [
    "fig, ax = plt.subplots(1,2, figsize = (15, 5))\n",
    "\n",
    "ax[0].plot(df_clean[df_clean['bot_or_not']==1]['followers_count'],\n",
    "         df_clean[df_clean['bot_or_not']==1]['friends_count'],\n",
    "         'o', color = 'red', markersize = 2, alpha = 0.5, label = 'bot')\n",
    "\n",
    "ax[0].plot(df_clean[df_clean['bot_or_not']==0]['followers_count'],\n",
    "         df_clean[df_clean['bot_or_not']==0]['friends_count'],\n",
    "         'o', color = 'blue',markersize = 2, alpha = 0.5, label = 'human')\n",
    "ax[0].set_xlabel('followers_count')\n",
    "ax[0].set_ylabel('friends_count')\n",
    "ax[0].legend()\n",
    "\n",
    "ax[1].plot(df_clean[df_clean['bot_or_not']==1]['listed_count'],\n",
    "         df_clean[df_clean['bot_or_not']==1]['friends_count'],\n",
    "         'o', color = 'red', markersize = 2, alpha = 0.5, label = 'bot')\n",
    "\n",
    "ax[1].plot(df_clean[df_clean['bot_or_not']==0]['listed_count'],\n",
    "         df_clean[df_clean['bot_or_not']==0]['friends_count'],\n",
    "         'o', color = 'blue',markersize = 2, alpha = 0.5, label = 'human')\n",
    "ax[1].set_xlabel('listed_count')\n",
    "ax[1].set_ylabel('friends_count')\n",
    "ax[1].legend()"
   ]
  },
  {
   "cell_type": "code",
   "execution_count": 36,
   "metadata": {},
   "outputs": [
    {
     "data": {
      "text/plain": [
       "Text(0.5,0,'statuses_count')"
      ]
     },
     "execution_count": 36,
     "metadata": {},
     "output_type": "execute_result"
    },
    {
     "data": {
      "image/png": "[encoded data removed]",
      "text/plain": [
       "<Figure size 720x216 with 6 Axes>"
      ]
     },
     "metadata": {},
     "output_type": "display_data"
    }
   ],
   "source": [
    "fig, ax = plt.subplots (2,3, figsize = (10,3))\n",
    "fig.subplots_adjust(bottom = -0.8, top = 1)\n",
    "\n",
    "size = 5\n",
    "\n",
    "ax[0,0].plot(df_clean['friends_count'], df_clean['bot_or_not'], 'o', markersize = size, alpha =0.3)\n",
    "ax[0,0].set_xlabel('friends_count')\n",
    "\n",
    "ax[0,1].plot(df_clean['followers_count'], df_clean['bot_or_not'], 'o', markersize = size, alpha =0.3)\n",
    "ax[0,1].set_xlabel('followers_count')\n",
    "\n",
    "ax[0,2].plot(df_clean['listed_count'], df_clean['bot_or_not'], 'o', markersize = size, alpha =0.3)\n",
    "ax[0,2].set_xlabel('listed_count')\n",
    "\n",
    "ax[1,0].plot(df_clean['favourites_count'], df_clean['bot_or_not'], 'o', markersize = size, alpha =0.3)\n",
    "ax[1,0].set_xlabel('favourites_count')\n",
    "\n",
    "ax[1,1].plot(df_clean['statuses_count'], df_clean['bot_or_not'], 'o', markersize = size, alpha =0.3)\n",
    "ax[1,1].set_xlabel('statuses_count')"
   ]
  },
  {
   "cell_type": "code",
   "execution_count": 37,
   "metadata": {},
   "outputs": [
    {
     "data": {
      "text/plain": [
       "Text(0.5,1,'favourites_count')"
      ]
     },
     "execution_count": 37,
     "metadata": {},
     "output_type": "execute_result"
    },
    {
     "data": {
      "image/png": "[encoded data removed]",
      "text/plain": [
       "<Figure size 720x216 with 2 Axes>"
      ]
     },
     "metadata": {},
     "output_type": "display_data"
    }
   ],
   "source": [
    "fig, ax = plt.subplots(1,2, figsize = (10, 3))\n",
    "size = 0.5\n",
    "alpha = 0.5\n",
    "\n",
    "var1 = 'favourites_count'\n",
    "\n",
    "ax[0].hist(df_clean[df_clean['bot_or_not']==1][var1],color = 'red',  alpha = alpha, label = 'bot',\n",
    "           bins =np.arange(0, 100, 10))\n",
    "\n",
    "ax[0].legend()\n",
    "\n",
    "ax[1].hist(df_clean[df_clean['bot_or_not']==0][var1],color = 'blue', alpha = alpha, label = 'human',\n",
    "          bins = np.arange(0, 10000, 100))\n",
    "ax[1].legend()\n",
    "\n",
    "ax[0].set_title(var1)\n",
    "ax[1].set_title(var1)"
   ]
  },
  {
   "cell_type": "code",
   "execution_count": 38,
   "metadata": {},
   "outputs": [
    {
     "data": {
      "text/plain": [
       "Text(0.5,1,'friends_count')"
      ]
     },
     "execution_count": 38,
     "metadata": {},
     "output_type": "execute_result"
    },
    {
     "data": {
      "image/png": "[encoded data removed]",
      "text/plain": [
       "<Figure size 720x216 with 2 Axes>"
      ]
     },
     "metadata": {},
     "output_type": "display_data"
    }
   ],
   "source": [
    "fig, ax = plt.subplots(1,2, figsize = (10, 3))\n",
    "size = 0.5\n",
    "alpha = 0.5\n",
    "\n",
    "var1 = 'friends_count'\n",
    "\n",
    "ax[0].hist(df_clean[df_clean['bot_or_not']==1][var1],color = 'red',  alpha = alpha, label = 'bot',\n",
    "           bins =np.arange(0, 4000, 100))\n",
    "\n",
    "ax[0].legend()\n",
    "ax[1].hist(df_clean[df_clean['bot_or_not']==0][var1],color = 'blue', alpha = alpha, label = 'human',\n",
    "          bins = np.arange(0, 4000, 100))\n",
    "ax[1].legend()\n",
    "\n",
    "ax[0].set_title(var1)\n",
    "ax[1].set_title(var1)"
   ]
  },
  {
   "cell_type": "code",
   "execution_count": 39,
   "metadata": {},
   "outputs": [
    {
     "data": {
      "text/plain": [
       "Text(0.5,1,'followers_count')"
      ]
     },
     "execution_count": 39,
     "metadata": {},
     "output_type": "execute_result"
    },
    {
     "data": {
      "image/png": "[encoded data removed]",
      "text/plain": [
       "<Figure size 720x216 with 2 Axes>"
      ]
     },
     "metadata": {},
     "output_type": "display_data"
    }
   ],
   "source": [
    "fig, ax = plt.subplots(1,2, figsize = (10, 3))\n",
    "size = 0.5\n",
    "alpha = 0.5\n",
    "\n",
    "var1 = 'followers_count'\n",
    "\n",
    "ax[0].hist(df_clean[df_clean['bot_or_not']==1][var1],color = 'red',  alpha = alpha, label = 'bot',\n",
    "           bins =np.arange(0, 4000, 100))\n",
    "\n",
    "ax[0].legend()\n",
    "ax[1].hist(df_clean[df_clean['bot_or_not']==0][var1],color = 'blue', alpha = alpha, label = 'human',\n",
    "          bins = np.arange(0, 4000, 100))\n",
    "ax[1].legend()\n",
    "\n",
    "ax[0].set_title(var1)\n",
    "ax[1].set_title(var1)"
   ]
  },
  {
   "cell_type": "code",
   "execution_count": 40,
   "metadata": {},
   "outputs": [
    {
     "data": {
      "text/plain": [
       "Text(0.5,1,'listed_count')"
      ]
     },
     "execution_count": 40,
     "metadata": {},
     "output_type": "execute_result"
    },
    {
     "data": {
      "image/png": "[encoded data removed]",
      "text/plain": [
       "<Figure size 720x216 with 2 Axes>"
      ]
     },
     "metadata": {},
     "output_type": "display_data"
    }
   ],
   "source": [
    "fig, ax = plt.subplots(1,2, figsize = (10, 3))\n",
    "size = 0.5\n",
    "alpha = 0.5\n",
    "\n",
    "var1 = 'listed_count'\n",
    "\n",
    "ax[0].hist(df_clean[df_clean['bot_or_not']==1][var1],color = 'red',  alpha = alpha, label = 'bot',\n",
    "           bins =np.arange(0, 100, 1))\n",
    "\n",
    "ax[0].legend()\n",
    "ax[1].hist(df_clean[df_clean['bot_or_not']==0][var1],color = 'blue', alpha = alpha, label = 'human',\n",
    "          bins = np.arange(0, 100, 1))\n",
    "ax[1].legend()\n",
    "\n",
    "ax[0].set_title(var1)\n",
    "ax[1].set_title(var1)"
   ]
  },
  {
   "cell_type": "code",
   "execution_count": 41,
   "metadata": {},
   "outputs": [
    {
     "data": {
      "text/plain": [
       "Text(0.5,1,'statuses_count')"
      ]
     },
     "execution_count": 41,
     "metadata": {},
     "output_type": "execute_result"
    },
    {
     "data": {
      "image/png": "[encoded data removed]",
      "text/plain": [
       "<Figure size 720x216 with 2 Axes>"
      ]
     },
     "metadata": {},
     "output_type": "display_data"
    }
   ],
   "source": [
    "fig, ax = plt.subplots(1,2, figsize = (10, 3))\n",
    "size = 0.5\n",
    "alpha = 0.5\n",
    "\n",
    "var1 = 'statuses_count'\n",
    "\n",
    "ax[0].hist(df_clean[df_clean['bot_or_not']==1][var1],color = 'red',  alpha = alpha, label = 'bot',\n",
    "           bins =np.arange(0, 10000, 100))\n",
    "\n",
    "ax[0].legend()\n",
    "ax[1].hist(df_clean[df_clean['bot_or_not']==0][var1],color = 'blue', alpha = alpha, label = 'human',\n",
    "          bins = np.arange(0, 10000, 100))\n",
    "ax[1].legend()\n",
    "\n",
    "ax[0].set_title(var1)\n",
    "ax[1].set_title(var1)"
   ]
  },
  {
   "cell_type": "code",
   "execution_count": 42,
   "metadata": {},
   "outputs": [],
   "source": [
    "df_clean_2 = df_clean.drop(columns=['tweet', 'screen_name','name']).dropna()\n",
    "df_clean_3 = shuffle(df_clean_2)"
   ]
  },
  {
   "cell_type": "code",
   "execution_count": 43,
   "metadata": {},
   "outputs": [],
   "source": [
    "df_X = df_clean_3.drop(columns='bot_or_not')\n",
    "df_y = df_clean_3[['bot_or_not']]"
   ]
  },
  {
   "cell_type": "code",
   "execution_count": 44,
   "metadata": {},
   "outputs": [
    {
     "data": {
      "text/html": [
       "<div>\n",
       "<style scoped>\n",
       "    .dataframe tbody tr th:only-of-type {\n",
       "        vertical-align: middle;\n",
       "    }\n",
       "\n",
       "    .dataframe tbody tr th {\n",
       "        vertical-align: top;\n",
       "    }\n",
       "\n",
       "    .dataframe thead th {\n",
       "        text-align: right;\n",
       "    }\n",
       "</style>\n",
       "<table border=\"1\" class=\"dataframe\">\n",
       "  <thead>\n",
       "    <tr style=\"text-align: right;\">\n",
       "      <th></th>\n",
       "      <th>bot_in_name</th>\n",
       "      <th>bot_in_des</th>\n",
       "      <th>location</th>\n",
       "      <th>verified</th>\n",
       "      <th>default_profile</th>\n",
       "      <th>default_profile_image</th>\n",
       "      <th>followers_count</th>\n",
       "      <th>listed_count</th>\n",
       "      <th>friends_count</th>\n",
       "      <th>favourites_count</th>\n",
       "      <th>statuses_count</th>\n",
       "    </tr>\n",
       "  </thead>\n",
       "  <tbody>\n",
       "    <tr>\n",
       "      <th>701774</th>\n",
       "      <td>0</td>\n",
       "      <td>1</td>\n",
       "      <td>0</td>\n",
       "      <td>0</td>\n",
       "      <td>0</td>\n",
       "      <td>0</td>\n",
       "      <td>4520.0</td>\n",
       "      <td>0.0</td>\n",
       "      <td>230.0</td>\n",
       "      <td>89.0</td>\n",
       "      <td>416.0</td>\n",
       "    </tr>\n",
       "    <tr>\n",
       "      <th>2104380</th>\n",
       "      <td>0</td>\n",
       "      <td>1</td>\n",
       "      <td>0</td>\n",
       "      <td>0</td>\n",
       "      <td>1</td>\n",
       "      <td>0</td>\n",
       "      <td>524.0</td>\n",
       "      <td>1.0</td>\n",
       "      <td>510.0</td>\n",
       "      <td>4532.0</td>\n",
       "      <td>9352.0</td>\n",
       "    </tr>\n",
       "    <tr>\n",
       "      <th>219222</th>\n",
       "      <td>0</td>\n",
       "      <td>0</td>\n",
       "      <td>0</td>\n",
       "      <td>0</td>\n",
       "      <td>0</td>\n",
       "      <td>0</td>\n",
       "      <td>6.0</td>\n",
       "      <td>0.0</td>\n",
       "      <td>29.0</td>\n",
       "      <td>0.0</td>\n",
       "      <td>55.0</td>\n",
       "    </tr>\n",
       "    <tr>\n",
       "      <th>1085798</th>\n",
       "      <td>0</td>\n",
       "      <td>1</td>\n",
       "      <td>1</td>\n",
       "      <td>0</td>\n",
       "      <td>1</td>\n",
       "      <td>0</td>\n",
       "      <td>283.0</td>\n",
       "      <td>1.0</td>\n",
       "      <td>225.0</td>\n",
       "      <td>956.0</td>\n",
       "      <td>2071.0</td>\n",
       "    </tr>\n",
       "    <tr>\n",
       "      <th>1072834</th>\n",
       "      <td>0</td>\n",
       "      <td>1</td>\n",
       "      <td>0</td>\n",
       "      <td>0</td>\n",
       "      <td>1</td>\n",
       "      <td>0</td>\n",
       "      <td>652.0</td>\n",
       "      <td>2.0</td>\n",
       "      <td>1198.0</td>\n",
       "      <td>0.0</td>\n",
       "      <td>9904.0</td>\n",
       "    </tr>\n",
       "  </tbody>\n",
       "</table>\n",
       "</div>"
      ],
      "text/plain": [
       "         bot_in_name  bot_in_des  location  verified  default_profile  \\\n",
       "701774             0           1         0         0                0   \n",
       "2104380            0           1         0         0                1   \n",
       "219222             0           0         0         0                0   \n",
       "1085798            0           1         1         0                1   \n",
       "1072834            0           1         0         0                1   \n",
       "\n",
       "         default_profile_image  followers_count  listed_count  friends_count  \\\n",
       "701774                       0           4520.0           0.0          230.0   \n",
       "2104380                      0            524.0           1.0          510.0   \n",
       "219222                       0              6.0           0.0           29.0   \n",
       "1085798                      0            283.0           1.0          225.0   \n",
       "1072834                      0            652.0           2.0         1198.0   \n",
       "\n",
       "         favourites_count  statuses_count  \n",
       "701774               89.0           416.0  \n",
       "2104380            4532.0          9352.0  \n",
       "219222                0.0            55.0  \n",
       "1085798             956.0          2071.0  \n",
       "1072834               0.0          9904.0  "
      ]
     },
     "metadata": {},
     "output_type": "display_data"
    },
    {
     "data": {
      "text/html": [
       "<div>\n",
       "<style scoped>\n",
       "    .dataframe tbody tr th:only-of-type {\n",
       "        vertical-align: middle;\n",
       "    }\n",
       "\n",
       "    .dataframe tbody tr th {\n",
       "        vertical-align: top;\n",
       "    }\n",
       "\n",
       "    .dataframe thead th {\n",
       "        text-align: right;\n",
       "    }\n",
       "</style>\n",
       "<table border=\"1\" class=\"dataframe\">\n",
       "  <thead>\n",
       "    <tr style=\"text-align: right;\">\n",
       "      <th></th>\n",
       "      <th>bot_or_not</th>\n",
       "    </tr>\n",
       "  </thead>\n",
       "  <tbody>\n",
       "    <tr>\n",
       "      <th>701774</th>\n",
       "      <td>0</td>\n",
       "    </tr>\n",
       "    <tr>\n",
       "      <th>2104380</th>\n",
       "      <td>0</td>\n",
       "    </tr>\n",
       "    <tr>\n",
       "      <th>219222</th>\n",
       "      <td>1</td>\n",
       "    </tr>\n",
       "    <tr>\n",
       "      <th>1085798</th>\n",
       "      <td>0</td>\n",
       "    </tr>\n",
       "    <tr>\n",
       "      <th>1072834</th>\n",
       "      <td>1</td>\n",
       "    </tr>\n",
       "  </tbody>\n",
       "</table>\n",
       "</div>"
      ],
      "text/plain": [
       "         bot_or_not\n",
       "701774            0\n",
       "2104380           0\n",
       "219222            1\n",
       "1085798           0\n",
       "1072834           1"
      ]
     },
     "metadata": {},
     "output_type": "display_data"
    }
   ],
   "source": [
    "display(df_X.head())\n",
    "display(df_y.head())"
   ]
  },
  {
   "cell_type": "code",
   "execution_count": 45,
   "metadata": {},
   "outputs": [],
   "source": [
    "X_train, X_test, y_train, y_test = train_test_split(df_X, df_y, test_size = 0.2, shuffle = True)"
   ]
  },
  {
   "cell_type": "code",
   "execution_count": 46,
   "metadata": {},
   "outputs": [
    {
     "name": "stderr",
     "output_type": "stream",
     "text": [
      "C:\\Users\\motoa\\Anaconda3\\lib\\site-packages\\ipykernel_launcher.py:8: DataConversionWarning:\n",
      "\n",
      "A column-vector y was passed when a 1d array was expected. Please change the shape of y to (n_samples,), for example using ravel().\n",
      "\n"
     ]
    },
    {
     "name": "stdout",
     "output_type": "stream",
     "text": [
      "accuracy score of the training set is 100.0%\n",
      "accuracy score of the test set is 98.5%\n"
     ]
    }
   ],
   "source": [
    "depth = 100\n",
    "N = 100\n",
    "\n",
    "rf_model = RandomForestClassifier(n_estimators = N, criterion='gini', \n",
    "                                  max_features='auto', max_depth = depth, bootstrap=True,\n",
    "                                 oob_score=True)\n",
    "\n",
    "rf_model.fit(X_train, y_train)\n",
    "y_pred_train = rf_model.predict(X_train)\n",
    "y_pred_test = rf_model.predict(X_test)\n",
    "\n",
    "train_score = accuracy_score(y_train, y_pred_train) * 100\n",
    "test_score = accuracy_score(y_test, y_pred_test) * 100\n",
    "\n",
    "oobs_score = rf_model.oob_score_\n",
    "\n",
    "print('accuracy score of the training set is {}%'.format(train_score))\n",
    "print('accuracy score of the test set is {}%'.format(test_score))"
   ]
  },
  {
   "cell_type": "code",
   "execution_count": 47,
   "metadata": {},
   "outputs": [
    {
     "data": {
      "text/plain": [
       "<matplotlib.axes._subplots.AxesSubplot at 0x252e65d4208>"
      ]
     },
     "execution_count": 47,
     "metadata": {},
     "output_type": "execute_result"
    },
    {
     "data": {
      "image/png": "[encoded data removed]",
      "text/plain": [
       "<Figure size 432x288 with 1 Axes>"
      ]
     },
     "metadata": {},
     "output_type": "display_data"
    }
   ],
   "source": [
    "pd.Series(rf_model.feature_importances_,index=list(X_train)).sort_values().plot(kind=\"barh\")"
   ]
  },
  {
   "cell_type": "code",
   "execution_count": null,
   "metadata": {},
   "outputs": [],
   "source": []
  }
 ],
 "metadata": {
  "kernelspec": {
   "display_name": "Python 3",
   "language": "python",
   "name": "python3"
  },
  "language_info": {
   "codemirror_mode": {
    "name": "ipython",
    "version": 3
   },
   "file_extension": ".py",
   "mimetype": "text/x-python",
   "name": "python",
   "nbconvert_exporter": "python",
   "pygments_lexer": "ipython3",
   "version": "3.6.6"
  }
 },
 "nbformat": 4,
 "nbformat_minor": 2
}
