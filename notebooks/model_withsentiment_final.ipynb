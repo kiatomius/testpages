{
 "cells": [
  {
   "cell_type": "code",
   "execution_count": 44,
   "metadata": {},
   "outputs": [],
   "source": [
    "import json\n",
    "import numpy as np\n",
    "import matplotlib.pyplot as plt\n",
    "import pandas as pd\n",
    "import os\n",
    "import re \n",
    "import seaborn as sns\n",
    "\n",
    "from sklearn.decomposition import PCA\n",
    "from sklearn.linear_model import LogisticRegression\n",
    "from sklearn.linear_model import LogisticRegressionCV\n",
    "from sklearn.discriminant_analysis import LinearDiscriminantAnalysis\n",
    "from sklearn.discriminant_analysis import QuadraticDiscriminantAnalysis\n",
    "from sklearn.preprocessing import PolynomialFeatures\n",
    "from sklearn.neighbors import KNeighborsClassifier\n",
    "from sklearn.model_selection import train_test_split\n",
    "from sklearn.model_selection import cross_val_score\n",
    "from sklearn.model_selection import KFold\n",
    "from sklearn.metrics import accuracy_score\n",
    "from sklearn.tree import DecisionTreeClassifier\n",
    "from sklearn.tree import export_graphviz\n",
    "from sklearn.pipeline import make_pipeline\n",
    "from sklearn.datasets import make_blobs\n",
    "\n",
    "from sklearn.ensemble import RandomForestRegressor\n",
    "from sklearn.model_selection import GridSearchCV\n",
    "\n",
    "from sklearn.model_selection import cross_val_score\n",
    "from sklearn.utils import resample\n",
    "from sklearn.tree import DecisionTreeClassifier\n",
    "from sklearn.ensemble import RandomForestClassifier\n",
    "from sklearn.ensemble import AdaBoostClassifier\n",
    "from sklearn.ensemble import BaggingClassifier\n",
    "from sklearn.metrics import accuracy_score\n",
    "\n",
    "from sklearn.utils import shuffle"
   ]
  },
  {
   "cell_type": "code",
   "execution_count": 45,
   "metadata": {},
   "outputs": [],
   "source": [
    "os.getcwd()\n",
    "pd.set_option('display.max_columns', 100)"
   ]
  },
  {
   "cell_type": "code",
   "execution_count": 46,
   "metadata": {},
   "outputs": [],
   "source": [
    "#download data for genuine users\n",
    "\n",
    "df_gen_users = pd.read_csv('datasets_full.csv/genuine_accounts.csv/users.csv')\n",
    "\n",
    "#define columns to keep for investigation\n",
    "\n",
    "columns_to_keep = ['id', 'name', 'screen_name', 'statuses_count', 'followers_count',\n",
    "       'friends_count', 'favourites_count', 'listed_count', 'url', 'lang',\n",
    "       'time_zone', 'location', 'default_profile', 'default_profile_image',\n",
    "       'geo_enabled', 'profile_image_url', 'profile_banner_url',\n",
    "       'profile_use_background_image', 'profile_background_image_url_https',\n",
    "       'profile_text_color', 'profile_image_url_https','follow_request_sent', \n",
    "       'verified','description', 'following']\n",
    "\n",
    "# trim the bot data and add a binary column = 1 to indicate that this data is human data\n",
    "\n",
    "df_gen_users = df_gen_users[columns_to_keep]\n",
    "df_gen_users['bot'] = 0"
   ]
  },
  {
   "cell_type": "code",
   "execution_count": 47,
   "metadata": {},
   "outputs": [],
   "source": [
    "#features from tweet data\n",
    "columns_to_keep_t = ['retweet_count','favorite_count','num_hashtags','num_urls','num_mentions']"
   ]
  },
  {
   "cell_type": "code",
   "execution_count": 48,
   "metadata": {
    "scrolled": true
   },
   "outputs": [
    {
     "name": "stderr",
     "output_type": "stream",
     "text": [
      "/anaconda3/lib/python3.6/site-packages/IPython/core/interactiveshell.py:2785: DtypeWarning: Columns (0) have mixed types. Specify dtype option on import or set low_memory=False.\n",
      "  interactivity=interactivity, compiler=compiler, result=result)\n"
     ]
    }
   ],
   "source": [
    "#combining with tweet data\n",
    "df_gen_tweets = pd.read_csv('datasets_full.csv/genuine_accounts.csv/tweets.csv')\n",
    "temp = df_gen_tweets.groupby(\"user_id\").mean()\n",
    "temp = temp[columns_to_keep_t]\n",
    "df_gen_user_mix = pd.merge(df_gen_users, temp, how = 'left',left_on='id', right_on='user_id')"
   ]
  },
  {
   "cell_type": "code",
   "execution_count": 49,
   "metadata": {},
   "outputs": [],
   "source": [
    "# download data for traditional bots for training purpose\n",
    "# use trad_bot_1 since it was the main focus of the 'traditional model'\n",
    "\n",
    "df_trad_bot1_users = pd.read_csv('datasets_full.csv/traditional_spambots_1.csv/users.csv')\n",
    "\n",
    "# trim the bot data and add a binary column = 1 to indicate that this data is bot data\n",
    "df_trad_bot1_users = df_trad_bot1_users[columns_to_keep]\n",
    "df_trad_bot1_users['bot'] = 1"
   ]
  },
  {
   "cell_type": "code",
   "execution_count": 50,
   "metadata": {
    "scrolled": false
   },
   "outputs": [],
   "source": [
    "#combining with tweet data\n",
    "df_trad_bot1_tweets = pd.read_csv('datasets_full.csv/traditional_spambots_1.csv/tweets.csv')\n",
    "temp = df_trad_bot1_tweets.groupby(\"user_id\").mean()\n",
    "temp = temp[columns_to_keep_t]\n",
    "df_trad_bot1_mix = pd.merge(df_trad_bot1_users, temp, how = 'left',left_on='id', right_on='user_id')"
   ]
  },
  {
   "cell_type": "code",
   "execution_count": 51,
   "metadata": {},
   "outputs": [],
   "source": [
    "# calling results of sentiment analysis\n",
    "df_gen_sentiment = pd.read_csv('datasets_full.csv/sentiments/df_gen_tweets_sentiments.csv')\n",
    "df_trad_bot1_sentiment = pd.read_csv('datasets_full.csv/sentiments/df_trad_bot1_tweets_sentiments_spare.csv')\n",
    "df_test_bot3_sentiment = pd.read_csv('datasets_full.csv/sentiments/df_bot3_tweets_sentiments.csv')\n",
    "df_gen_sentiment_user=df_gen_sentiment.groupby(\"user_id\").mean()\n",
    "df_trad_bot1_sentiment_user=df_trad_bot1_sentiment.groupby(\"user_id\").mean()\n",
    "df_test_bot3_sentiment_user=df_test_bot3_sentiment.groupby(\"user_id\").mean()"
   ]
  },
  {
   "cell_type": "code",
   "execution_count": 52,
   "metadata": {},
   "outputs": [],
   "source": [
    "# combine sentiment data and split the genuine data into training set and test set to avoid overlap\n",
    "df_gen_user_mix = pd.merge(df_gen_user_mix, df_gen_sentiment_user, how = 'left',left_on='id', right_on='user_id')\n",
    "df_trad_bot1_mix = pd.merge(df_trad_bot1_mix, df_trad_bot1_sentiment_user, how = 'left',left_on='id', right_on='user_id')\n",
    "\n",
    "df_gen_train, df_gen_test = train_test_split(df_gen_user_mix, test_size = 0.5, shuffle = True)"
   ]
  },
  {
   "cell_type": "code",
   "execution_count": 53,
   "metadata": {
    "scrolled": true
   },
   "outputs": [],
   "source": [
    "#create training dataset by concatenating the training split of genuine data and trad_bot_1 data\n",
    "df_train = pd.concat([df_gen_train.sample(len(df_trad_bot1_mix)), df_trad_bot1_mix])\n",
    "df_train = shuffle(df_train)"
   ]
  },
  {
   "cell_type": "code",
   "execution_count": 54,
   "metadata": {},
   "outputs": [
    {
     "name": "stderr",
     "output_type": "stream",
     "text": [
      "/anaconda3/lib/python3.6/site-packages/IPython/core/interactiveshell.py:2785: DtypeWarning: Columns (7,10) have mixed types. Specify dtype option on import or set low_memory=False.\n",
      "  interactivity=interactivity, compiler=compiler, result=result)\n"
     ]
    }
   ],
   "source": [
    "# Create the test set\n",
    "# Use social spambots #3 as the separate test data set (social spambots #1 contain Italian tweets and cannot be used for sentiment analysis)\n",
    "\n",
    "df_test_bot3_users = pd.read_csv('datasets_full.csv/social_spambots_3.csv/users.csv')\n",
    "df_test_bot3_users = df_test_bot3_users[columns_to_keep]\n",
    "df_test_bot3_users['bot'] = 1\n",
    "\n",
    "#combining with tweet data\n",
    "df_test_bot3_tweets = pd.read_csv('datasets_full.csv/social_spambots_3.csv/tweets.csv')\n",
    "temp2 = df_test_bot3_tweets.groupby(\"user_id\").mean()\n",
    "temp2 = temp2[columns_to_keep_t]\n",
    "df_test_bot3_mix = pd.merge(df_test_bot3_users, temp2, how = 'left',left_on='id', right_on='user_id')\n",
    "df_test_bot3_mix = pd.merge(df_test_bot3_mix, df_test_bot3_sentiment_user, how = 'left',left_on='id', right_on='user_id')\n",
    "\n",
    "#create test set with 50% genuine data, and 50% social spambot data\n",
    "df_test_3 = pd.concat([df_gen_test.sample(len(df_test_bot3_mix)), df_test_bot3_mix])\n",
    "df_test_3 = shuffle(df_test_3)"
   ]
  },
  {
   "cell_type": "code",
   "execution_count": 55,
   "metadata": {},
   "outputs": [],
   "source": [
    "#define data cleaning functions\n",
    "\n",
    "#cleaning step 1: check if screen_name has a word 'bot' in it\n",
    "\n",
    "def screen_name_check (df):\n",
    "    \n",
    "    word = 'bot'\n",
    "    bot_name = []\n",
    "    k = 0\n",
    "\n",
    "    for i in range (len(df)):\n",
    "        if pd.isnull(df.iloc[i,:]['screen_name']):\n",
    "                k = 0\n",
    "        else: \n",
    "            if word in df.iloc[i,:]['screen_name']:\n",
    "                k = 1\n",
    "            else:\n",
    "                k = 0\n",
    "        bot_name.append(k)\n",
    "    \n",
    "    return bot_name\n",
    "\n",
    "\n",
    "#cleaning step 2: check if location parameter is present\n",
    "\n",
    "def location_check(df):\n",
    "    \n",
    "    loc = []\n",
    "\n",
    "    for i in range (len(df)):\n",
    "        if pd.isnull(df.iloc[i,:]['location']):\n",
    "            loc.append(0)\n",
    "        else:\n",
    "            loc.append(1)\n",
    "            \n",
    "    return loc\n",
    "\n",
    "# cleaning step 3\n",
    "# Set description to 1 if it contains either of these words: \n",
    "#‘bot’, ‘robot’, ‘artificial’, ‘intelligence’, ‘neural’, ‘network’, ‘automatic’ and 0 otherwise.\n",
    "\n",
    "def description_check(df):\n",
    "    keyword = ['bot', 'robot', 'artificial', 'intelligence', 'neural', 'network', 'automatic']\n",
    "    bot_des = []\n",
    "    k = 0\n",
    "\n",
    "    for i in range (len(df)):\n",
    "        for keyword in keyword:\n",
    "            if pd.isnull(df.iloc[i,:]['description']):\n",
    "                k = 0\n",
    "            else:\n",
    "                if df.iloc[i,:]['description'].find(keyword) == -1:\n",
    "                    k = 0\n",
    "                else:\n",
    "                    k = 1\n",
    "        bot_des.append(k)\n",
    "        \n",
    "    return bot_des\n",
    "\n",
    "#cleaning step 4:\n",
    "#Set verified to 1 if the sample’s verified features contents are True and 0 otherwise.\n",
    "\n",
    "def verified_check(df):\n",
    "    ver = []\n",
    "\n",
    "    for i in range (len(df)):\n",
    "        if pd.isnull(df.iloc[i,:]['verified']):\n",
    "            ver.append(0)\n",
    "        else:\n",
    "            ver.append(1)\n",
    "    return ver\n",
    "\n",
    "#cleaning step 5:\n",
    "#Check if default profile exists or not.\n",
    "\n",
    "def default_profile_check (df):\n",
    "    \n",
    "    default_profile = []\n",
    "\n",
    "    for i in range (len(df)):\n",
    "        if pd.isnull(df.iloc[i,:]['default_profile']):\n",
    "            default_profile.append(0)\n",
    "        else:\n",
    "            default_profile.append(1)\n",
    "    \n",
    "    return default_profile\n",
    "\n",
    "#cleaning step 6:\n",
    "#Check if default profile image is used or not.\n",
    "\n",
    "def default_image_check (df):\n",
    "    \n",
    "    default_profile_image = []\n",
    "\n",
    "    for i in range (len(df)):\n",
    "        if pd.isnull(df.iloc[i,:]['default_profile_image']):\n",
    "            default_profile_image.append(0)\n",
    "        else:\n",
    "            default_profile_image.append(1)\n",
    "    \n",
    "    return default_profile_image"
   ]
  },
  {
   "cell_type": "code",
   "execution_count": 56,
   "metadata": {},
   "outputs": [],
   "source": [
    "def master_clean (df):\n",
    "    bot_name = screen_name_check (df)\n",
    "    loc = location_check (df)\n",
    "    bot_des = description_check (df)\n",
    "    ver = verified_check (df)\n",
    "    default_profile = default_profile_check (df)\n",
    "    default_profile_image = default_image_check (df)\n",
    "    \n",
    "    df = pd.DataFrame({'screen_name': df['screen_name'],\n",
    "                       'name': df['name'],\n",
    "                       'bot_in_name':bot_name,\n",
    "                       'bot_in_des':bot_des,\n",
    "                       'location': loc,\n",
    "                       'verified': ver,\n",
    "                       'default_profile': default_profile,\n",
    "                       'default_profile_image': default_profile_image,\n",
    "                       'followers_count': df['followers_count'],\n",
    "                       'listed_count': df['listed_count'],\n",
    "                       'friends_count': df['friends_count'],\n",
    "                       'favourites_count': df['favourites_count'],\n",
    "                       'statuses_count': df['statuses_count'],\n",
    "                       'retweet_count_mean':df['retweet_count'],\n",
    "                       'favorite_count_mean':df['favorite_count'],\n",
    "                       'num_hashtags_mean':df['num_hashtags'],\n",
    "                       'num_urls_mean':df['num_urls'],\n",
    "                       'num_mentions_mean':df['num_mentions'],\n",
    "                       'polarity':df['polarity'],\n",
    "                       'subjectivity':df['subjectivity'],\n",
    "                       'bot_or_not':df['bot']\n",
    "                       })\n",
    "    \n",
    "    return df"
   ]
  },
  {
   "cell_type": "code",
   "execution_count": 57,
   "metadata": {},
   "outputs": [],
   "source": [
    "#apply the cleaning function to training set and testing set\n",
    "df_train = master_clean(df_train)\n",
    "df_test_3 = master_clean(df_test_3)"
   ]
  },
  {
   "cell_type": "code",
   "execution_count": 58,
   "metadata": {},
   "outputs": [],
   "source": [
    "#add a feature of missingness\n",
    "def add_missingness(df):\n",
    "    inds = np.where(df.isnull())\n",
    "    inds = np.array(inds).tolist()\n",
    "    inds\n",
    "    inds_list = []\n",
    "    for i in inds[0]:\n",
    "        if i not in inds_list:\n",
    "            inds_list.append(i)\n",
    "    df[\"Missingness\"] = 0\n",
    "    for i in inds_list:\n",
    "        df.iloc[i,-1] = 1\n",
    "    return df"
   ]
  },
  {
   "cell_type": "code",
   "execution_count": 59,
   "metadata": {},
   "outputs": [],
   "source": [
    "df_train_2=add_missingness(df_train)\n",
    "df_test_3_2=add_missingness(df_test_3)"
   ]
  },
  {
   "cell_type": "code",
   "execution_count": 76,
   "metadata": {},
   "outputs": [
    {
     "data": {
      "image/png": "[encoded data removed]",
      "text/plain": [
       "<Figure size 432x288 with 1 Axes>"
      ]
     },
     "metadata": {},
     "output_type": "display_data"
    }
   ],
   "source": [
    "#checking bias of missingness\n",
    "plt.hist(df_train_2.favourites_count[df_train_2.Missingness==1],bins=20,label='NaN',density=True)\n",
    "plt.hist(df_train_2.favourites_count[df_train_2.Missingness==0],bins=20,label='non-NaN',density=True)\n",
    "plt.legend()\n",
    "plt.xlabel(\"favourites_count\")\n",
    "plt.ylabel(\"density\");"
   ]
  },
  {
   "cell_type": "code",
   "execution_count": 66,
   "metadata": {},
   "outputs": [
    {
     "data": {
      "text/plain": [
       "<matplotlib.legend.Legend at 0x1a4f5f7cc0>"
      ]
     },
     "execution_count": 66,
     "metadata": {},
     "output_type": "execute_result"
    },
    {
     "data": {
      "image/png": "[encoded data removed]",
      "text/plain": [
       "<Figure size 432x288 with 1 Axes>"
      ]
     },
     "metadata": {},
     "output_type": "display_data"
    }
   ],
   "source": [
    "plt.hist(df_train_2.bot_or_not[df_train_2.Missingness==1],bins=20,label='NaN',density=True)\n",
    "plt.hist(df_train_2.bot_or_not[df_train_2.Missingness==0],bins=20,label='non-NaN',density=True)\n",
    "plt.legend()"
   ]
  },
  {
   "cell_type": "code",
   "execution_count": 77,
   "metadata": {},
   "outputs": [],
   "source": [
    "# index of rows which contain NaN\n",
    "inds = np.where(df_train_2.isna())\n",
    "inds = np.array(inds).tolist()\n",
    "inds_list = []\n",
    "for i in inds[0]:\n",
    "    if i not in inds_list:\n",
    "        inds_list.append(i)"
   ]
  },
  {
   "cell_type": "code",
   "execution_count": 78,
   "metadata": {},
   "outputs": [],
   "source": [
    "#prepare for imputation\n",
    "columns_to_keep_nan = ['retweet_count_mean', 'favorite_count_mean', 'num_hashtags_mean', 'num_urls_mean', 'num_mentions_mean', 'polarity','subjectivity']"
   ]
  },
  {
   "cell_type": "code",
   "execution_count": 79,
   "metadata": {},
   "outputs": [],
   "source": [
    "#linear regression imputation\n",
    "from sklearn.linear_model import LinearRegression\n",
    "\n",
    "def linear_imputation(df,columns_withna):\n",
    "    df2=df.copy()\n",
    "    df3=df.copy()\n",
    "    df2=df2.drop(columns=[\"screen_name\",\"name\"])\n",
    "    df_dropna=df2.dropna()\n",
    "    for feature in columns_withna:\n",
    "        x_set = df_dropna[df_dropna.columns.difference(columns_withna)]\n",
    "        y_set = df_dropna[feature]\n",
    "        \n",
    "        linear_reg = LinearRegression()\n",
    "        linear_reg.fit(x_set,y_set)\n",
    "        ytest_hat = linear_reg.predict(df2[df2.columns.difference(columns_withna)])\n",
    "        df3[feature]=ytest_hat\n",
    "    df3.update(df)\n",
    "    return df3"
   ]
  },
  {
   "cell_type": "code",
   "execution_count": 80,
   "metadata": {},
   "outputs": [],
   "source": [
    "df_train_3 = linear_imputation(df_train_2, columns_to_keep_nan)\n",
    "df_test_3_3 = linear_imputation(df_test_3_2, columns_to_keep_nan)"
   ]
  },
  {
   "cell_type": "code",
   "execution_count": 81,
   "metadata": {
    "scrolled": true
   },
   "outputs": [
    {
     "name": "stdout",
     "output_type": "stream",
     "text": [
      "(2000, 22)\n"
     ]
    },
    {
     "data": {
      "text/html": [
       "<div>\n",
       "<style scoped>\n",
       "    .dataframe tbody tr th:only-of-type {\n",
       "        vertical-align: middle;\n",
       "    }\n",
       "\n",
       "    .dataframe tbody tr th {\n",
       "        vertical-align: top;\n",
       "    }\n",
       "\n",
       "    .dataframe thead th {\n",
       "        text-align: right;\n",
       "    }\n",
       "</style>\n",
       "<table border=\"1\" class=\"dataframe\">\n",
       "  <thead>\n",
       "    <tr style=\"text-align: right;\">\n",
       "      <th></th>\n",
       "      <th>screen_name</th>\n",
       "      <th>name</th>\n",
       "      <th>bot_in_name</th>\n",
       "      <th>bot_in_des</th>\n",
       "      <th>location</th>\n",
       "      <th>verified</th>\n",
       "      <th>default_profile</th>\n",
       "      <th>default_profile_image</th>\n",
       "      <th>followers_count</th>\n",
       "      <th>listed_count</th>\n",
       "      <th>friends_count</th>\n",
       "      <th>favourites_count</th>\n",
       "      <th>statuses_count</th>\n",
       "      <th>retweet_count_mean</th>\n",
       "      <th>favorite_count_mean</th>\n",
       "      <th>num_hashtags_mean</th>\n",
       "      <th>num_urls_mean</th>\n",
       "      <th>num_mentions_mean</th>\n",
       "      <th>polarity</th>\n",
       "      <th>subjectivity</th>\n",
       "      <th>bot_or_not</th>\n",
       "      <th>Missingness</th>\n",
       "    </tr>\n",
       "  </thead>\n",
       "  <tbody>\n",
       "    <tr>\n",
       "      <th>2861</th>\n",
       "      <td>nic_thebrit</td>\n",
       "      <td>Nicole</td>\n",
       "      <td>0</td>\n",
       "      <td>0</td>\n",
       "      <td>1</td>\n",
       "      <td>0</td>\n",
       "      <td>0</td>\n",
       "      <td>0</td>\n",
       "      <td>1285</td>\n",
       "      <td>10</td>\n",
       "      <td>586</td>\n",
       "      <td>1255</td>\n",
       "      <td>25362</td>\n",
       "      <td>723.604156</td>\n",
       "      <td>0.199390</td>\n",
       "      <td>0.281984</td>\n",
       "      <td>0.148255</td>\n",
       "      <td>0.838666</td>\n",
       "      <td>0.079159</td>\n",
       "      <td>0.270335</td>\n",
       "      <td>0</td>\n",
       "      <td>1</td>\n",
       "    </tr>\n",
       "    <tr>\n",
       "      <th>638</th>\n",
       "      <td>scloneski_vip</td>\n",
       "      <td>' \\u03dfFuck-Uk</td>\n",
       "      <td>0</td>\n",
       "      <td>0</td>\n",
       "      <td>0</td>\n",
       "      <td>0</td>\n",
       "      <td>0</td>\n",
       "      <td>0</td>\n",
       "      <td>510</td>\n",
       "      <td>0</td>\n",
       "      <td>1338</td>\n",
       "      <td>1</td>\n",
       "      <td>152</td>\n",
       "      <td>0.000000</td>\n",
       "      <td>0.000000</td>\n",
       "      <td>0.000000</td>\n",
       "      <td>0.644737</td>\n",
       "      <td>0.019737</td>\n",
       "      <td>0.164439</td>\n",
       "      <td>0.188297</td>\n",
       "      <td>1</td>\n",
       "      <td>0</td>\n",
       "    </tr>\n",
       "    <tr>\n",
       "      <th>2857</th>\n",
       "      <td>nestorflecha</td>\n",
       "      <td>Néstor Flecha</td>\n",
       "      <td>0</td>\n",
       "      <td>1</td>\n",
       "      <td>1</td>\n",
       "      <td>0</td>\n",
       "      <td>0</td>\n",
       "      <td>0</td>\n",
       "      <td>11617</td>\n",
       "      <td>89</td>\n",
       "      <td>815</td>\n",
       "      <td>862</td>\n",
       "      <td>12033</td>\n",
       "      <td>800.318039</td>\n",
       "      <td>0.664446</td>\n",
       "      <td>0.297004</td>\n",
       "      <td>0.113244</td>\n",
       "      <td>1.042411</td>\n",
       "      <td>0.097596</td>\n",
       "      <td>0.300916</td>\n",
       "      <td>0</td>\n",
       "      <td>1</td>\n",
       "    </tr>\n",
       "    <tr>\n",
       "      <th>37</th>\n",
       "      <td>frankly_scarlet</td>\n",
       "      <td>Weight Loss Advice</td>\n",
       "      <td>0</td>\n",
       "      <td>0</td>\n",
       "      <td>0</td>\n",
       "      <td>0</td>\n",
       "      <td>0</td>\n",
       "      <td>0</td>\n",
       "      <td>2782</td>\n",
       "      <td>34</td>\n",
       "      <td>2063</td>\n",
       "      <td>0</td>\n",
       "      <td>806</td>\n",
       "      <td>0.000000</td>\n",
       "      <td>0.000000</td>\n",
       "      <td>0.000000</td>\n",
       "      <td>0.997519</td>\n",
       "      <td>0.000000</td>\n",
       "      <td>0.108748</td>\n",
       "      <td>0.319755</td>\n",
       "      <td>1</td>\n",
       "      <td>0</td>\n",
       "    </tr>\n",
       "    <tr>\n",
       "      <th>429</th>\n",
       "      <td>Elizabeth99xa</td>\n",
       "      <td>Elizabeth</td>\n",
       "      <td>0</td>\n",
       "      <td>0</td>\n",
       "      <td>0</td>\n",
       "      <td>0</td>\n",
       "      <td>0</td>\n",
       "      <td>0</td>\n",
       "      <td>47</td>\n",
       "      <td>1</td>\n",
       "      <td>203</td>\n",
       "      <td>0</td>\n",
       "      <td>1</td>\n",
       "      <td>0.000000</td>\n",
       "      <td>0.000000</td>\n",
       "      <td>0.000000</td>\n",
       "      <td>1.000000</td>\n",
       "      <td>0.000000</td>\n",
       "      <td>0.000000</td>\n",
       "      <td>0.066667</td>\n",
       "      <td>1</td>\n",
       "      <td>0</td>\n",
       "    </tr>\n",
       "  </tbody>\n",
       "</table>\n",
       "</div>"
      ],
      "text/plain": [
       "          screen_name                name  bot_in_name  bot_in_des  location  \\\n",
       "2861      nic_thebrit              Nicole            0           0         1   \n",
       "638     scloneski_vip    ' \\u03dfFuck-Uk             0           0         0   \n",
       "2857     nestorflecha       Néstor Flecha            0           1         1   \n",
       "37    frankly_scarlet  Weight Loss Advice            0           0         0   \n",
       "429     Elizabeth99xa           Elizabeth            0           0         0   \n",
       "\n",
       "      verified  default_profile  default_profile_image  followers_count  \\\n",
       "2861         0                0                      0             1285   \n",
       "638          0                0                      0              510   \n",
       "2857         0                0                      0            11617   \n",
       "37           0                0                      0             2782   \n",
       "429          0                0                      0               47   \n",
       "\n",
       "      listed_count  friends_count  favourites_count  statuses_count  \\\n",
       "2861            10            586              1255           25362   \n",
       "638              0           1338                 1             152   \n",
       "2857            89            815               862           12033   \n",
       "37              34           2063                 0             806   \n",
       "429              1            203                 0               1   \n",
       "\n",
       "      retweet_count_mean  favorite_count_mean  num_hashtags_mean  \\\n",
       "2861          723.604156             0.199390           0.281984   \n",
       "638             0.000000             0.000000           0.000000   \n",
       "2857          800.318039             0.664446           0.297004   \n",
       "37              0.000000             0.000000           0.000000   \n",
       "429             0.000000             0.000000           0.000000   \n",
       "\n",
       "      num_urls_mean  num_mentions_mean  polarity  subjectivity  bot_or_not  \\\n",
       "2861       0.148255           0.838666  0.079159      0.270335           0   \n",
       "638        0.644737           0.019737  0.164439      0.188297           1   \n",
       "2857       0.113244           1.042411  0.097596      0.300916           0   \n",
       "37         0.997519           0.000000  0.108748      0.319755           1   \n",
       "429        1.000000           0.000000  0.000000      0.066667           1   \n",
       "\n",
       "      Missingness  \n",
       "2861            1  \n",
       "638             0  \n",
       "2857            1  \n",
       "37              0  \n",
       "429             0  "
      ]
     },
     "metadata": {},
     "output_type": "display_data"
    },
    {
     "name": "stdout",
     "output_type": "stream",
     "text": [
      "(928, 22)\n"
     ]
    },
    {
     "data": {
      "text/html": [
       "<div>\n",
       "<style scoped>\n",
       "    .dataframe tbody tr th:only-of-type {\n",
       "        vertical-align: middle;\n",
       "    }\n",
       "\n",
       "    .dataframe tbody tr th {\n",
       "        vertical-align: top;\n",
       "    }\n",
       "\n",
       "    .dataframe thead th {\n",
       "        text-align: right;\n",
       "    }\n",
       "</style>\n",
       "<table border=\"1\" class=\"dataframe\">\n",
       "  <thead>\n",
       "    <tr style=\"text-align: right;\">\n",
       "      <th></th>\n",
       "      <th>screen_name</th>\n",
       "      <th>name</th>\n",
       "      <th>bot_in_name</th>\n",
       "      <th>bot_in_des</th>\n",
       "      <th>location</th>\n",
       "      <th>verified</th>\n",
       "      <th>default_profile</th>\n",
       "      <th>default_profile_image</th>\n",
       "      <th>followers_count</th>\n",
       "      <th>listed_count</th>\n",
       "      <th>friends_count</th>\n",
       "      <th>favourites_count</th>\n",
       "      <th>statuses_count</th>\n",
       "      <th>retweet_count_mean</th>\n",
       "      <th>favorite_count_mean</th>\n",
       "      <th>num_hashtags_mean</th>\n",
       "      <th>num_urls_mean</th>\n",
       "      <th>num_mentions_mean</th>\n",
       "      <th>polarity</th>\n",
       "      <th>subjectivity</th>\n",
       "      <th>bot_or_not</th>\n",
       "      <th>Missingness</th>\n",
       "    </tr>\n",
       "  </thead>\n",
       "  <tbody>\n",
       "    <tr>\n",
       "      <th>372</th>\n",
       "      <td>Cuthillvibe</td>\n",
       "      <td>Krystina Cuthill</td>\n",
       "      <td>0</td>\n",
       "      <td>0</td>\n",
       "      <td>0</td>\n",
       "      <td>0</td>\n",
       "      <td>1</td>\n",
       "      <td>0</td>\n",
       "      <td>1308</td>\n",
       "      <td>7</td>\n",
       "      <td>926</td>\n",
       "      <td>1</td>\n",
       "      <td>12725</td>\n",
       "      <td>0.010157</td>\n",
       "      <td>0.014466</td>\n",
       "      <td>0.000000</td>\n",
       "      <td>0.473992</td>\n",
       "      <td>0.000000</td>\n",
       "      <td>0.180576</td>\n",
       "      <td>0.366099</td>\n",
       "      <td>1</td>\n",
       "      <td>1</td>\n",
       "    </tr>\n",
       "    <tr>\n",
       "      <th>3227</th>\n",
       "      <td>suggnite</td>\n",
       "      <td>kt got bandz</td>\n",
       "      <td>0</td>\n",
       "      <td>0</td>\n",
       "      <td>1</td>\n",
       "      <td>0</td>\n",
       "      <td>0</td>\n",
       "      <td>0</td>\n",
       "      <td>170</td>\n",
       "      <td>0</td>\n",
       "      <td>174</td>\n",
       "      <td>2292</td>\n",
       "      <td>3258</td>\n",
       "      <td>778.808660</td>\n",
       "      <td>0.304069</td>\n",
       "      <td>0.374590</td>\n",
       "      <td>0.143861</td>\n",
       "      <td>0.853546</td>\n",
       "      <td>0.090164</td>\n",
       "      <td>0.300368</td>\n",
       "      <td>0</td>\n",
       "      <td>1</td>\n",
       "    </tr>\n",
       "    <tr>\n",
       "      <th>1999</th>\n",
       "      <td>crxwnxfthxrns</td>\n",
       "      <td>Minnie</td>\n",
       "      <td>0</td>\n",
       "      <td>1</td>\n",
       "      <td>1</td>\n",
       "      <td>0</td>\n",
       "      <td>0</td>\n",
       "      <td>0</td>\n",
       "      <td>777</td>\n",
       "      <td>8</td>\n",
       "      <td>88</td>\n",
       "      <td>3836</td>\n",
       "      <td>102429</td>\n",
       "      <td>-55.540521</td>\n",
       "      <td>-0.009621</td>\n",
       "      <td>0.186847</td>\n",
       "      <td>0.226841</td>\n",
       "      <td>0.800216</td>\n",
       "      <td>0.059558</td>\n",
       "      <td>0.276441</td>\n",
       "      <td>0</td>\n",
       "      <td>1</td>\n",
       "    </tr>\n",
       "    <tr>\n",
       "      <th>335</th>\n",
       "      <td>Wolleydig</td>\n",
       "      <td>Elin Wolley</td>\n",
       "      <td>0</td>\n",
       "      <td>0</td>\n",
       "      <td>0</td>\n",
       "      <td>0</td>\n",
       "      <td>1</td>\n",
       "      <td>0</td>\n",
       "      <td>1203</td>\n",
       "      <td>9</td>\n",
       "      <td>975</td>\n",
       "      <td>0</td>\n",
       "      <td>11313</td>\n",
       "      <td>0.007769</td>\n",
       "      <td>0.036358</td>\n",
       "      <td>0.000000</td>\n",
       "      <td>0.459602</td>\n",
       "      <td>0.000000</td>\n",
       "      <td>0.181080</td>\n",
       "      <td>0.366572</td>\n",
       "      <td>1</td>\n",
       "      <td>1</td>\n",
       "    </tr>\n",
       "    <tr>\n",
       "      <th>1300</th>\n",
       "      <td>Seabazzking707</td>\n",
       "      <td>Colombian Mamba</td>\n",
       "      <td>0</td>\n",
       "      <td>0</td>\n",
       "      <td>0</td>\n",
       "      <td>0</td>\n",
       "      <td>0</td>\n",
       "      <td>0</td>\n",
       "      <td>145</td>\n",
       "      <td>0</td>\n",
       "      <td>109</td>\n",
       "      <td>1484</td>\n",
       "      <td>1304</td>\n",
       "      <td>755.641151</td>\n",
       "      <td>0.276059</td>\n",
       "      <td>0.010718</td>\n",
       "      <td>0.108846</td>\n",
       "      <td>0.645887</td>\n",
       "      <td>0.128214</td>\n",
       "      <td>0.332279</td>\n",
       "      <td>0</td>\n",
       "      <td>1</td>\n",
       "    </tr>\n",
       "  </tbody>\n",
       "</table>\n",
       "</div>"
      ],
      "text/plain": [
       "         screen_name              name  bot_in_name  bot_in_des  location  \\\n",
       "372      Cuthillvibe  Krystina Cuthill            0           0         0   \n",
       "3227        suggnite      kt got bandz            0           0         1   \n",
       "1999   crxwnxfthxrns            Minnie            0           1         1   \n",
       "335        Wolleydig       Elin Wolley            0           0         0   \n",
       "1300  Seabazzking707   Colombian Mamba            0           0         0   \n",
       "\n",
       "      verified  default_profile  default_profile_image  followers_count  \\\n",
       "372          0                1                      0             1308   \n",
       "3227         0                0                      0              170   \n",
       "1999         0                0                      0              777   \n",
       "335          0                1                      0             1203   \n",
       "1300         0                0                      0              145   \n",
       "\n",
       "      listed_count  friends_count  favourites_count  statuses_count  \\\n",
       "372              7            926                 1           12725   \n",
       "3227             0            174              2292            3258   \n",
       "1999             8             88              3836          102429   \n",
       "335              9            975                 0           11313   \n",
       "1300             0            109              1484            1304   \n",
       "\n",
       "      retweet_count_mean  favorite_count_mean  num_hashtags_mean  \\\n",
       "372             0.010157             0.014466           0.000000   \n",
       "3227          778.808660             0.304069           0.374590   \n",
       "1999          -55.540521            -0.009621           0.186847   \n",
       "335             0.007769             0.036358           0.000000   \n",
       "1300          755.641151             0.276059           0.010718   \n",
       "\n",
       "      num_urls_mean  num_mentions_mean  polarity  subjectivity  bot_or_not  \\\n",
       "372        0.473992           0.000000  0.180576      0.366099           1   \n",
       "3227       0.143861           0.853546  0.090164      0.300368           0   \n",
       "1999       0.226841           0.800216  0.059558      0.276441           0   \n",
       "335        0.459602           0.000000  0.181080      0.366572           1   \n",
       "1300       0.108846           0.645887  0.128214      0.332279           0   \n",
       "\n",
       "      Missingness  \n",
       "372             1  \n",
       "3227            1  \n",
       "1999            1  \n",
       "335             1  \n",
       "1300            1  "
      ]
     },
     "metadata": {},
     "output_type": "display_data"
    }
   ],
   "source": [
    "print(df_train_3.shape)\n",
    "display(df_train_3.head())\n",
    "print(df_test_3_3.shape)\n",
    "display(df_test_3_3.head())"
   ]
  },
  {
   "cell_type": "code",
   "execution_count": 82,
   "metadata": {},
   "outputs": [],
   "source": [
    "#########\n",
    "#Model by dropping NaN"
   ]
  },
  {
   "cell_type": "code",
   "execution_count": 83,
   "metadata": {},
   "outputs": [
    {
     "name": "stdout",
     "output_type": "stream",
     "text": [
      "(1097, 22)\n"
     ]
    },
    {
     "data": {
      "text/html": [
       "<div>\n",
       "<style scoped>\n",
       "    .dataframe tbody tr th:only-of-type {\n",
       "        vertical-align: middle;\n",
       "    }\n",
       "\n",
       "    .dataframe tbody tr th {\n",
       "        vertical-align: top;\n",
       "    }\n",
       "\n",
       "    .dataframe thead th {\n",
       "        text-align: right;\n",
       "    }\n",
       "</style>\n",
       "<table border=\"1\" class=\"dataframe\">\n",
       "  <thead>\n",
       "    <tr style=\"text-align: right;\">\n",
       "      <th></th>\n",
       "      <th>screen_name</th>\n",
       "      <th>name</th>\n",
       "      <th>bot_in_name</th>\n",
       "      <th>bot_in_des</th>\n",
       "      <th>location</th>\n",
       "      <th>verified</th>\n",
       "      <th>default_profile</th>\n",
       "      <th>default_profile_image</th>\n",
       "      <th>followers_count</th>\n",
       "      <th>listed_count</th>\n",
       "      <th>friends_count</th>\n",
       "      <th>favourites_count</th>\n",
       "      <th>statuses_count</th>\n",
       "      <th>retweet_count_mean</th>\n",
       "      <th>favorite_count_mean</th>\n",
       "      <th>num_hashtags_mean</th>\n",
       "      <th>num_urls_mean</th>\n",
       "      <th>num_mentions_mean</th>\n",
       "      <th>polarity</th>\n",
       "      <th>subjectivity</th>\n",
       "      <th>bot_or_not</th>\n",
       "      <th>Missingness</th>\n",
       "    </tr>\n",
       "  </thead>\n",
       "  <tbody>\n",
       "    <tr>\n",
       "      <th>638</th>\n",
       "      <td>scloneski_vip</td>\n",
       "      <td>' \\u03dfFuck-Uk</td>\n",
       "      <td>0</td>\n",
       "      <td>0</td>\n",
       "      <td>0</td>\n",
       "      <td>0</td>\n",
       "      <td>0</td>\n",
       "      <td>0</td>\n",
       "      <td>510</td>\n",
       "      <td>0</td>\n",
       "      <td>1338</td>\n",
       "      <td>1</td>\n",
       "      <td>152</td>\n",
       "      <td>0.0</td>\n",
       "      <td>0.0</td>\n",
       "      <td>0.000000</td>\n",
       "      <td>0.644737</td>\n",
       "      <td>0.019737</td>\n",
       "      <td>0.164439</td>\n",
       "      <td>0.188297</td>\n",
       "      <td>1</td>\n",
       "      <td>0</td>\n",
       "    </tr>\n",
       "    <tr>\n",
       "      <th>37</th>\n",
       "      <td>frankly_scarlet</td>\n",
       "      <td>Weight Loss Advice</td>\n",
       "      <td>0</td>\n",
       "      <td>0</td>\n",
       "      <td>0</td>\n",
       "      <td>0</td>\n",
       "      <td>0</td>\n",
       "      <td>0</td>\n",
       "      <td>2782</td>\n",
       "      <td>34</td>\n",
       "      <td>2063</td>\n",
       "      <td>0</td>\n",
       "      <td>806</td>\n",
       "      <td>0.0</td>\n",
       "      <td>0.0</td>\n",
       "      <td>0.000000</td>\n",
       "      <td>0.997519</td>\n",
       "      <td>0.000000</td>\n",
       "      <td>0.108748</td>\n",
       "      <td>0.319755</td>\n",
       "      <td>1</td>\n",
       "      <td>0</td>\n",
       "    </tr>\n",
       "    <tr>\n",
       "      <th>429</th>\n",
       "      <td>Elizabeth99xa</td>\n",
       "      <td>Elizabeth</td>\n",
       "      <td>0</td>\n",
       "      <td>0</td>\n",
       "      <td>0</td>\n",
       "      <td>0</td>\n",
       "      <td>0</td>\n",
       "      <td>0</td>\n",
       "      <td>47</td>\n",
       "      <td>1</td>\n",
       "      <td>203</td>\n",
       "      <td>0</td>\n",
       "      <td>1</td>\n",
       "      <td>0.0</td>\n",
       "      <td>0.0</td>\n",
       "      <td>0.000000</td>\n",
       "      <td>1.000000</td>\n",
       "      <td>0.000000</td>\n",
       "      <td>0.000000</td>\n",
       "      <td>0.066667</td>\n",
       "      <td>1</td>\n",
       "      <td>0</td>\n",
       "    </tr>\n",
       "    <tr>\n",
       "      <th>679</th>\n",
       "      <td>FUCKYUNGBERG</td>\n",
       "      <td>FUCKYUNGBERG</td>\n",
       "      <td>0</td>\n",
       "      <td>0</td>\n",
       "      <td>0</td>\n",
       "      <td>0</td>\n",
       "      <td>0</td>\n",
       "      <td>0</td>\n",
       "      <td>227</td>\n",
       "      <td>1</td>\n",
       "      <td>1413</td>\n",
       "      <td>0</td>\n",
       "      <td>256</td>\n",
       "      <td>0.0</td>\n",
       "      <td>0.0</td>\n",
       "      <td>0.003906</td>\n",
       "      <td>0.910156</td>\n",
       "      <td>0.292969</td>\n",
       "      <td>0.114763</td>\n",
       "      <td>0.176900</td>\n",
       "      <td>1</td>\n",
       "      <td>0</td>\n",
       "    </tr>\n",
       "    <tr>\n",
       "      <th>949</th>\n",
       "      <td>laio_araujo</td>\n",
       "      <td>laio araujo</td>\n",
       "      <td>0</td>\n",
       "      <td>0</td>\n",
       "      <td>1</td>\n",
       "      <td>0</td>\n",
       "      <td>0</td>\n",
       "      <td>0</td>\n",
       "      <td>798</td>\n",
       "      <td>2</td>\n",
       "      <td>1847</td>\n",
       "      <td>2</td>\n",
       "      <td>50</td>\n",
       "      <td>0.0</td>\n",
       "      <td>0.0</td>\n",
       "      <td>0.280000</td>\n",
       "      <td>0.400000</td>\n",
       "      <td>0.160000</td>\n",
       "      <td>0.018667</td>\n",
       "      <td>0.031333</td>\n",
       "      <td>1</td>\n",
       "      <td>0</td>\n",
       "    </tr>\n",
       "  </tbody>\n",
       "</table>\n",
       "</div>"
      ],
      "text/plain": [
       "         screen_name                name  bot_in_name  bot_in_des  location  \\\n",
       "638    scloneski_vip    ' \\u03dfFuck-Uk             0           0         0   \n",
       "37   frankly_scarlet  Weight Loss Advice            0           0         0   \n",
       "429    Elizabeth99xa           Elizabeth            0           0         0   \n",
       "679     FUCKYUNGBERG        FUCKYUNGBERG            0           0         0   \n",
       "949      laio_araujo         laio araujo            0           0         1   \n",
       "\n",
       "     verified  default_profile  default_profile_image  followers_count  \\\n",
       "638         0                0                      0              510   \n",
       "37          0                0                      0             2782   \n",
       "429         0                0                      0               47   \n",
       "679         0                0                      0              227   \n",
       "949         0                0                      0              798   \n",
       "\n",
       "     listed_count  friends_count  favourites_count  statuses_count  \\\n",
       "638             0           1338                 1             152   \n",
       "37             34           2063                 0             806   \n",
       "429             1            203                 0               1   \n",
       "679             1           1413                 0             256   \n",
       "949             2           1847                 2              50   \n",
       "\n",
       "     retweet_count_mean  favorite_count_mean  num_hashtags_mean  \\\n",
       "638                 0.0                  0.0           0.000000   \n",
       "37                  0.0                  0.0           0.000000   \n",
       "429                 0.0                  0.0           0.000000   \n",
       "679                 0.0                  0.0           0.003906   \n",
       "949                 0.0                  0.0           0.280000   \n",
       "\n",
       "     num_urls_mean  num_mentions_mean  polarity  subjectivity  bot_or_not  \\\n",
       "638       0.644737           0.019737  0.164439      0.188297           1   \n",
       "37        0.997519           0.000000  0.108748      0.319755           1   \n",
       "429       1.000000           0.000000  0.000000      0.066667           1   \n",
       "679       0.910156           0.292969  0.114763      0.176900           1   \n",
       "949       0.400000           0.160000  0.018667      0.031333           1   \n",
       "\n",
       "     Missingness  \n",
       "638            0  \n",
       "37             0  \n",
       "429            0  \n",
       "679            0  \n",
       "949            0  "
      ]
     },
     "metadata": {},
     "output_type": "display_data"
    },
    {
     "name": "stdout",
     "output_type": "stream",
     "text": [
      "(381, 22)\n"
     ]
    },
    {
     "data": {
      "text/html": [
       "<div>\n",
       "<style scoped>\n",
       "    .dataframe tbody tr th:only-of-type {\n",
       "        vertical-align: middle;\n",
       "    }\n",
       "\n",
       "    .dataframe tbody tr th {\n",
       "        vertical-align: top;\n",
       "    }\n",
       "\n",
       "    .dataframe thead th {\n",
       "        text-align: right;\n",
       "    }\n",
       "</style>\n",
       "<table border=\"1\" class=\"dataframe\">\n",
       "  <thead>\n",
       "    <tr style=\"text-align: right;\">\n",
       "      <th></th>\n",
       "      <th>screen_name</th>\n",
       "      <th>name</th>\n",
       "      <th>bot_in_name</th>\n",
       "      <th>bot_in_des</th>\n",
       "      <th>location</th>\n",
       "      <th>verified</th>\n",
       "      <th>default_profile</th>\n",
       "      <th>default_profile_image</th>\n",
       "      <th>followers_count</th>\n",
       "      <th>listed_count</th>\n",
       "      <th>friends_count</th>\n",
       "      <th>favourites_count</th>\n",
       "      <th>statuses_count</th>\n",
       "      <th>retweet_count_mean</th>\n",
       "      <th>favorite_count_mean</th>\n",
       "      <th>num_hashtags_mean</th>\n",
       "      <th>num_urls_mean</th>\n",
       "      <th>num_mentions_mean</th>\n",
       "      <th>polarity</th>\n",
       "      <th>subjectivity</th>\n",
       "      <th>bot_or_not</th>\n",
       "      <th>Missingness</th>\n",
       "    </tr>\n",
       "  </thead>\n",
       "  <tbody>\n",
       "    <tr>\n",
       "      <th>1856</th>\n",
       "      <td>blue_raven</td>\n",
       "      <td>Ange</td>\n",
       "      <td>0</td>\n",
       "      <td>1</td>\n",
       "      <td>1</td>\n",
       "      <td>0</td>\n",
       "      <td>0</td>\n",
       "      <td>0</td>\n",
       "      <td>332</td>\n",
       "      <td>45</td>\n",
       "      <td>833</td>\n",
       "      <td>1862</td>\n",
       "      <td>59052</td>\n",
       "      <td>34.080000</td>\n",
       "      <td>0.138769</td>\n",
       "      <td>0.036000</td>\n",
       "      <td>0.009538</td>\n",
       "      <td>0.559077</td>\n",
       "      <td>0.061415</td>\n",
       "      <td>0.347669</td>\n",
       "      <td>0</td>\n",
       "      <td>0</td>\n",
       "    </tr>\n",
       "    <tr>\n",
       "      <th>53</th>\n",
       "      <td>safariiguide</td>\n",
       "      <td>Safari iGuide</td>\n",
       "      <td>0</td>\n",
       "      <td>1</td>\n",
       "      <td>0</td>\n",
       "      <td>0</td>\n",
       "      <td>0</td>\n",
       "      <td>0</td>\n",
       "      <td>931</td>\n",
       "      <td>7</td>\n",
       "      <td>1369</td>\n",
       "      <td>0</td>\n",
       "      <td>11088</td>\n",
       "      <td>0.006830</td>\n",
       "      <td>0.013350</td>\n",
       "      <td>0.000000</td>\n",
       "      <td>0.456380</td>\n",
       "      <td>0.000000</td>\n",
       "      <td>0.179567</td>\n",
       "      <td>0.366387</td>\n",
       "      <td>1</td>\n",
       "      <td>0</td>\n",
       "    </tr>\n",
       "    <tr>\n",
       "      <th>3408</th>\n",
       "      <td>xenanimous</td>\n",
       "      <td>Xena Joyce</td>\n",
       "      <td>0</td>\n",
       "      <td>1</td>\n",
       "      <td>1</td>\n",
       "      <td>0</td>\n",
       "      <td>0</td>\n",
       "      <td>0</td>\n",
       "      <td>1243</td>\n",
       "      <td>3</td>\n",
       "      <td>777</td>\n",
       "      <td>52</td>\n",
       "      <td>5340</td>\n",
       "      <td>778.340945</td>\n",
       "      <td>0.233657</td>\n",
       "      <td>0.044729</td>\n",
       "      <td>0.030028</td>\n",
       "      <td>1.058805</td>\n",
       "      <td>0.062540</td>\n",
       "      <td>0.214486</td>\n",
       "      <td>0</td>\n",
       "      <td>0</td>\n",
       "    </tr>\n",
       "    <tr>\n",
       "      <th>98</th>\n",
       "      <td>ILOVEMONOPOLY</td>\n",
       "      <td>I Love Monopoly</td>\n",
       "      <td>0</td>\n",
       "      <td>1</td>\n",
       "      <td>0</td>\n",
       "      <td>0</td>\n",
       "      <td>0</td>\n",
       "      <td>0</td>\n",
       "      <td>905</td>\n",
       "      <td>9</td>\n",
       "      <td>1940</td>\n",
       "      <td>1</td>\n",
       "      <td>12461</td>\n",
       "      <td>0.005234</td>\n",
       "      <td>0.013547</td>\n",
       "      <td>0.000000</td>\n",
       "      <td>0.463362</td>\n",
       "      <td>0.000000</td>\n",
       "      <td>0.189263</td>\n",
       "      <td>0.370571</td>\n",
       "      <td>1</td>\n",
       "      <td>0</td>\n",
       "    </tr>\n",
       "    <tr>\n",
       "      <th>118</th>\n",
       "      <td>ilovejohnnya</td>\n",
       "      <td>Johnny Adams</td>\n",
       "      <td>0</td>\n",
       "      <td>1</td>\n",
       "      <td>0</td>\n",
       "      <td>0</td>\n",
       "      <td>0</td>\n",
       "      <td>0</td>\n",
       "      <td>925</td>\n",
       "      <td>3</td>\n",
       "      <td>1569</td>\n",
       "      <td>1</td>\n",
       "      <td>12111</td>\n",
       "      <td>0.005578</td>\n",
       "      <td>0.012395</td>\n",
       "      <td>0.000000</td>\n",
       "      <td>0.464208</td>\n",
       "      <td>0.000000</td>\n",
       "      <td>0.185093</td>\n",
       "      <td>0.364978</td>\n",
       "      <td>1</td>\n",
       "      <td>0</td>\n",
       "    </tr>\n",
       "  </tbody>\n",
       "</table>\n",
       "</div>"
      ],
      "text/plain": [
       "        screen_name             name  bot_in_name  bot_in_des  location  \\\n",
       "1856     blue_raven             Ange            0           1         1   \n",
       "53     safariiguide    Safari iGuide            0           1         0   \n",
       "3408     xenanimous       Xena Joyce            0           1         1   \n",
       "98    ILOVEMONOPOLY  I Love Monopoly            0           1         0   \n",
       "118    ilovejohnnya     Johnny Adams            0           1         0   \n",
       "\n",
       "      verified  default_profile  default_profile_image  followers_count  \\\n",
       "1856         0                0                      0              332   \n",
       "53           0                0                      0              931   \n",
       "3408         0                0                      0             1243   \n",
       "98           0                0                      0              905   \n",
       "118          0                0                      0              925   \n",
       "\n",
       "      listed_count  friends_count  favourites_count  statuses_count  \\\n",
       "1856            45            833              1862           59052   \n",
       "53               7           1369                 0           11088   \n",
       "3408             3            777                52            5340   \n",
       "98               9           1940                 1           12461   \n",
       "118              3           1569                 1           12111   \n",
       "\n",
       "      retweet_count_mean  favorite_count_mean  num_hashtags_mean  \\\n",
       "1856           34.080000             0.138769           0.036000   \n",
       "53              0.006830             0.013350           0.000000   \n",
       "3408          778.340945             0.233657           0.044729   \n",
       "98              0.005234             0.013547           0.000000   \n",
       "118             0.005578             0.012395           0.000000   \n",
       "\n",
       "      num_urls_mean  num_mentions_mean  polarity  subjectivity  bot_or_not  \\\n",
       "1856       0.009538           0.559077  0.061415      0.347669           0   \n",
       "53         0.456380           0.000000  0.179567      0.366387           1   \n",
       "3408       0.030028           1.058805  0.062540      0.214486           0   \n",
       "98         0.463362           0.000000  0.189263      0.370571           1   \n",
       "118        0.464208           0.000000  0.185093      0.364978           1   \n",
       "\n",
       "      Missingness  \n",
       "1856            0  \n",
       "53              0  \n",
       "3408            0  \n",
       "98              0  \n",
       "118             0  "
      ]
     },
     "metadata": {},
     "output_type": "display_data"
    }
   ],
   "source": [
    "df_train_dn = df_train.dropna()\n",
    "print(df_train_dn.shape)\n",
    "display(df_train_dn.head())\n",
    "df_test_3_dn = df_test_3.dropna()\n",
    "print(df_test_3_dn.shape)\n",
    "display(df_test_3_dn.head())"
   ]
  },
  {
   "cell_type": "code",
   "execution_count": 84,
   "metadata": {},
   "outputs": [],
   "source": [
    "#Prepare dataset to feed into the model\n",
    "\n",
    "# X_train from df_train\n",
    "X_train = df_train_3.drop(columns=['bot_or_not', 'screen_name', 'name'])\n",
    "X_train_dn = df_train_dn.drop(columns=['bot_or_not', 'screen_name', 'name'])\n",
    "\n",
    "# y_trian from df_train\n",
    "y_train = df_train_3[['bot_or_not']]\n",
    "y_train_dn = df_train_dn[['bot_or_not']]\n",
    "\n",
    "# X_test_3 from df_test_3\n",
    "X_test_3 = df_test_3_3.drop(columns=['bot_or_not', 'screen_name', 'name'])\n",
    "X_test_dn = df_test_3_dn.drop(columns=['bot_or_not', 'screen_name', 'name'])\n",
    "\n",
    "# y_test_3 from df_test_3\n",
    "y_test_3 = df_test_3_3[['bot_or_not']]\n",
    "y_test_dn = df_test_3_dn[['bot_or_not']]"
   ]
  },
  {
   "cell_type": "code",
   "execution_count": 85,
   "metadata": {},
   "outputs": [],
   "source": [
    "# standardize dataset\n",
    "\n",
    "def standardize (df,df_train):\n",
    "    con_var = ['followers_count', 'listed_count', 'friends_count', 'favourites_count', 'statuses_count',\n",
    "               'retweet_count_mean','favorite_count_mean','num_hashtags_mean','num_urls_mean','num_mentions_mean',\n",
    "              'polarity','subjectivity']\n",
    "\n",
    "    for var in con_var:\n",
    "        x = df[var]\n",
    "        x = (x - x.mean())/x.std()\n",
    "        df[var] = x\n",
    "    \n",
    "    return df\n",
    "\n",
    "X_train_norm = standardize(X_train,X_train)\n",
    "X_test_3_norm = standardize(X_test_3,X_train)\n",
    "X_train_norm_dn = standardize(X_train_dn,X_train_dn)\n",
    "X_test_3_norm_dn = standardize(X_test_dn,X_train_dn)"
   ]
  },
  {
   "cell_type": "code",
   "execution_count": 86,
   "metadata": {},
   "outputs": [
    {
     "name": "stdout",
     "output_type": "stream",
     "text": [
      "accuracy score of the training set is 100.0%\n",
      "accuracy score of the test set with social spambot #3 is 49.137931034482754%\n"
     ]
    }
   ],
   "source": [
    "# Simple Decision Tree with linear imputation\n",
    "\n",
    "decision_model = DecisionTreeClassifier(criterion='gini', splitter='best', max_depth=3)\n",
    "decision_model.fit(X_train, y_train)\n",
    "\n",
    "y_pred_train_dec = decision_model.predict(X_train_norm)\n",
    "y_pred_test_3_dec = decision_model.predict(X_test_3_norm)\n",
    "\n",
    "train_score_dec = accuracy_score(y_train, y_pred_train_dec) * 100\n",
    "test_score_3_dec = accuracy_score(y_test_3, y_pred_test_3_dec) * 100\n",
    "\n",
    "print('accuracy score of the training set is {}%'.format(train_score_dec))\n",
    "print('accuracy score of the test set with social spambot #3 is {}%'.format(test_score_3_dec))"
   ]
  },
  {
   "cell_type": "code",
   "execution_count": 87,
   "metadata": {},
   "outputs": [
    {
     "name": "stdout",
     "output_type": "stream",
     "text": [
      "accuracy score of the training set is 100.0%\n",
      "accuracy score of the test set with social spambot #3 is 93.7007874015748%\n"
     ]
    }
   ],
   "source": [
    "# Simple Decision Tree with dropna\n",
    "\n",
    "decision_model = DecisionTreeClassifier(criterion='gini', splitter='best', max_depth=3)\n",
    "decision_model.fit(X_train_dn, y_train_dn)\n",
    "\n",
    "y_pred_train_dec = decision_model.predict(X_train_norm_dn)\n",
    "y_pred_test_3_dec = decision_model.predict(X_test_3_norm_dn)\n",
    "\n",
    "train_score_dec = accuracy_score(y_train_dn, y_pred_train_dec) * 100\n",
    "test_score_3_dec = accuracy_score(y_test_dn, y_pred_test_3_dec) * 100\n",
    "\n",
    "print('accuracy score of the training set is {}%'.format(train_score_dec))\n",
    "print('accuracy score of the test set with social spambot #3 is {}%'.format(test_score_3_dec))"
   ]
  },
  {
   "cell_type": "code",
   "execution_count": 88,
   "metadata": {},
   "outputs": [],
   "source": [
    "depth = np.arange(2,30,1)\n",
    "decision_score_mean=[]\n",
    "decision_score_std=[]\n",
    "test_1_score = []\n",
    "test_3_score = []\n",
    "\n",
    "for i in depth:\n",
    "    decision_model = DecisionTreeClassifier(criterion='gini', splitter='best', max_depth=i)\n",
    "    decision_model.fit(X_train_norm, y_train)\n",
    "    score = cross_val_score(estimator = decision_model, X = X_train_norm, y = y_train, cv = 5)\n",
    "    decision_score_mean.append(score.mean())\n",
    "    decision_score_std.append(score.std())\n",
    "    test_3_score.append(accuracy_score(y_test_3, decision_model.predict(X_test_3_norm)))"
   ]
  },
  {
   "cell_type": "code",
   "execution_count": 89,
   "metadata": {},
   "outputs": [
    {
     "data": {
      "text/plain": [
       "Text(0,0.5,'test set accuracy score')"
      ]
     },
     "execution_count": 89,
     "metadata": {},
     "output_type": "execute_result"
    },
    {
     "data": {
      "image/png": "[encoded data removed]",
      "text/plain": [
       "<Figure size 1080x360 with 2 Axes>"
      ]
     },
     "metadata": {},
     "output_type": "display_data"
    }
   ],
   "source": [
    "fig, ax = plt.subplots(1,2, figsize = (15,5))\n",
    "\n",
    "ax[0].plot(depth, decision_score_mean, '-*')\n",
    "ax[0].fill_between(\n",
    "    depth,\n",
    "    np.array(decision_score_mean) - 2 * np.array(decision_score_std),\n",
    "    np.array(decision_score_mean) + 2 * np.array(decision_score_std),\n",
    "    alpha=.3)\n",
    "ax[0].set_title('validation accuracy vs depth')\n",
    "ax[0].set_xlabel('max depth')\n",
    "ax[0].set_ylabel('validation accuracy +- 2 std')\n",
    "\n",
    "ax[1].plot(depth, test_3_score)\n",
    "ax[1].set_title('spambots3 test set accuracy vs depth')\n",
    "ax[1].set_xlabel('max depth')\n",
    "ax[1].set_ylabel('test set accuracy score')"
   ]
  },
  {
   "cell_type": "code",
   "execution_count": 91,
   "metadata": {},
   "outputs": [],
   "source": [
    "depth = np.arange(2,30,1)\n",
    "decision_score_mean=[]\n",
    "decision_score_std=[]\n",
    "test_1_score = []\n",
    "test_3_score = []\n",
    "\n",
    "for i in depth:\n",
    "    decision_model = DecisionTreeClassifier(criterion='gini', splitter='best', max_depth=i)\n",
    "    decision_model.fit(X_train_norm_dn, y_train_dn)\n",
    "    score = cross_val_score(estimator = decision_model, X = X_train_norm_dn, y = y_train_dn, cv = 5)\n",
    "    decision_score_mean.append(score.mean())\n",
    "    decision_score_std.append(score.std())\n",
    "    test_3_score.append(accuracy_score(y_test_dn, decision_model.predict(X_test_3_norm_dn)))"
   ]
  },
  {
   "cell_type": "code",
   "execution_count": 92,
   "metadata": {},
   "outputs": [
    {
     "data": {
      "text/plain": [
       "Text(0,0.5,'test set accuracy score')"
      ]
     },
     "execution_count": 92,
     "metadata": {},
     "output_type": "execute_result"
    },
    {
     "data": {
      "image/png": "[encoded data removed]",
      "text/plain": [
       "<Figure size 1080x360 with 2 Axes>"
      ]
     },
     "metadata": {},
     "output_type": "display_data"
    }
   ],
   "source": [
    "fig, ax = plt.subplots(1,2, figsize = (15,5))\n",
    "\n",
    "ax[0].plot(depth, decision_score_mean, '-*')\n",
    "ax[0].fill_between(\n",
    "    depth,\n",
    "    np.array(decision_score_mean) - 2 * np.array(decision_score_std),\n",
    "    np.array(decision_score_mean) + 2 * np.array(decision_score_std),\n",
    "    alpha=.3)\n",
    "ax[0].set_title('validation accuracy vs depth')\n",
    "ax[0].set_xlabel('max depth')\n",
    "ax[0].set_ylabel('validation accuracy +- 2 std')\n",
    "\n",
    "ax[1].plot(depth, test_3_score)\n",
    "ax[1].set_title('spambots3 test set accuracy vs depth')\n",
    "ax[1].set_xlabel('max depth')\n",
    "ax[1].set_ylabel('test set accuracy score')"
   ]
  },
  {
   "cell_type": "code",
   "execution_count": 30,
   "metadata": {},
   "outputs": [
    {
     "name": "stderr",
     "output_type": "stream",
     "text": [
      "/anaconda3/lib/python3.6/site-packages/sklearn/utils/validation.py:578: DataConversionWarning: A column-vector y was passed when a 1d array was expected. Please change the shape of y to (n_samples, ), for example using ravel().\n",
      "  y = column_or_1d(y, warn=True)\n"
     ]
    },
    {
     "name": "stdout",
     "output_type": "stream",
     "text": [
      "accuracy score of the training set is 100.0%\n",
      "accuracy score of the test set with social spambot #3 is 94.07327586206897%\n"
     ]
    }
   ],
   "source": [
    "# bagging with linear imputation\n",
    "overfit_depth = 100\n",
    "N = 100\n",
    "\n",
    "bagging_model = BaggingClassifier(DecisionTreeClassifier(criterion='gini', splitter='best', max_depth=overfit_depth), \n",
    "                                  n_estimators = N, bootstrap = True, oob_score = True)\n",
    "bagging_model.fit(X_train_norm, y_train)\n",
    "\n",
    "y_pred_train_bag = bagging_model.predict(X_train_norm)\n",
    "y_pred_test_3_bag = bagging_model.predict(X_test_3_norm)\n",
    "\n",
    "train_score_bag = accuracy_score(y_train, y_pred_train_bag) * 100\n",
    "test_score_3_bag = accuracy_score(y_test_3, y_pred_test_3_bag) * 100\n",
    "\n",
    "print('accuracy score of the training set is {}%'.format(train_score_bag))\n",
    "print('accuracy score of the test set with social spambot #3 is {}%'.format(test_score_3_bag))"
   ]
  },
  {
   "cell_type": "code",
   "execution_count": 31,
   "metadata": {},
   "outputs": [
    {
     "name": "stdout",
     "output_type": "stream",
     "text": [
      "accuracy score of the training set is 100.0%\n",
      "accuracy score of the test set with social spambot #3 is 95.07772020725389%\n"
     ]
    },
    {
     "name": "stderr",
     "output_type": "stream",
     "text": [
      "/anaconda3/lib/python3.6/site-packages/sklearn/utils/validation.py:578: DataConversionWarning: A column-vector y was passed when a 1d array was expected. Please change the shape of y to (n_samples, ), for example using ravel().\n",
      "  y = column_or_1d(y, warn=True)\n"
     ]
    }
   ],
   "source": [
    "# bagging with dropna\n",
    "overfit_depth = 100\n",
    "N = 100\n",
    "\n",
    "bagging_model = BaggingClassifier(DecisionTreeClassifier(criterion='gini', splitter='best', max_depth=overfit_depth), \n",
    "                                  n_estimators = N, bootstrap = True, oob_score = True)\n",
    "bagging_model.fit(X_train_norm_dn, y_train_dn)\n",
    "\n",
    "y_pred_train_bag = bagging_model.predict(X_train_norm_dn)\n",
    "y_pred_test_3_bag = bagging_model.predict(X_test_3_norm_dn)\n",
    "\n",
    "train_score_bag = accuracy_score(y_train_dn, y_pred_train_bag) * 100\n",
    "test_score_3_bag = accuracy_score(y_test_dn, y_pred_test_3_bag) * 100\n",
    "\n",
    "print('accuracy score of the training set is {}%'.format(train_score_bag))\n",
    "print('accuracy score of the test set with social spambot #3 is {}%'.format(test_score_3_bag))"
   ]
  },
  {
   "cell_type": "code",
   "execution_count": 32,
   "metadata": {},
   "outputs": [
    {
     "name": "stdout",
     "output_type": "stream",
     "text": [
      "accuracy score of the training set is 100.0%\n",
      "accuracy score of the test set with social spambot #3 is 82.4353448275862%\n"
     ]
    },
    {
     "name": "stderr",
     "output_type": "stream",
     "text": [
      "/anaconda3/lib/python3.6/site-packages/sklearn/utils/validation.py:578: DataConversionWarning: A column-vector y was passed when a 1d array was expected. Please change the shape of y to (n_samples, ), for example using ravel().\n",
      "  y = column_or_1d(y, warn=True)\n"
     ]
    }
   ],
   "source": [
    "#ada boosting with linear imputation\n",
    "ada_model = AdaBoostClassifier(base_estimator=DecisionTreeClassifier(max_depth=3),  \n",
    "                               n_estimators=800, learning_rate=0.05)\n",
    "\n",
    "ada_model.fit(X_train_norm, y_train)\n",
    "\n",
    "y_pred_train_ada = ada_model.predict(X_train_norm)\n",
    "y_pred_test_3_ada = ada_model.predict(X_test_3_norm)\n",
    "\n",
    "train_score_ada = accuracy_score(y_train, y_pred_train_ada) * 100\n",
    "test_score_3_ada = accuracy_score(y_test_3, y_pred_test_3_ada) * 100\n",
    "\n",
    "print('accuracy score of the training set is {}%'.format(train_score_ada))\n",
    "print('accuracy score of the test set with social spambot #3 is {}%'.format(test_score_3_ada))"
   ]
  },
  {
   "cell_type": "code",
   "execution_count": 33,
   "metadata": {},
   "outputs": [
    {
     "name": "stdout",
     "output_type": "stream",
     "text": [
      "accuracy score of the training set is 100.0%\n",
      "accuracy score of the test set with social spambot #3 is 95.07772020725389%\n"
     ]
    },
    {
     "name": "stderr",
     "output_type": "stream",
     "text": [
      "/anaconda3/lib/python3.6/site-packages/sklearn/utils/validation.py:578: DataConversionWarning: A column-vector y was passed when a 1d array was expected. Please change the shape of y to (n_samples, ), for example using ravel().\n",
      "  y = column_or_1d(y, warn=True)\n"
     ]
    }
   ],
   "source": [
    "#ada boosting with dropna\n",
    "ada_model = AdaBoostClassifier(base_estimator=DecisionTreeClassifier(max_depth=3),  \n",
    "                               n_estimators=800, learning_rate=0.05)\n",
    "\n",
    "ada_model.fit(X_train_norm_dn, y_train_dn)\n",
    "\n",
    "y_pred_train_ada = ada_model.predict(X_train_norm_dn)\n",
    "y_pred_test_3_ada = ada_model.predict(X_test_3_norm_dn)\n",
    "\n",
    "train_score_ada = accuracy_score(y_train_dn, y_pred_train_ada) * 100\n",
    "test_score_3_ada = accuracy_score(y_test_dn, y_pred_test_3_ada) * 100\n",
    "\n",
    "print('accuracy score of the training set is {}%'.format(train_score_ada))\n",
    "print('accuracy score of the test set with social spambot #3 is {}%'.format(test_score_3_ada))"
   ]
  },
  {
   "cell_type": "code",
   "execution_count": 34,
   "metadata": {},
   "outputs": [
    {
     "name": "stderr",
     "output_type": "stream",
     "text": [
      "/anaconda3/lib/python3.6/site-packages/ipykernel_launcher.py:8: DataConversionWarning: A column-vector y was passed when a 1d array was expected. Please change the shape of y to (n_samples,), for example using ravel().\n",
      "  \n"
     ]
    },
    {
     "name": "stdout",
     "output_type": "stream",
     "text": [
      "accuracy score of the training set is 100.0%\n",
      "accuracy score of the test set with social spambot #3 is 83.1896551724138%\n"
     ]
    }
   ],
   "source": [
    "#Random Forests with linear imputation\n",
    "overfit_depth = 100\n",
    "N = 100\n",
    "\n",
    "rf_model = RandomForestClassifier(n_estimators = N, criterion='gini', \n",
    "                                  max_features='auto', max_depth = overfit_depth, bootstrap=True,\n",
    "                                 oob_score=True)\n",
    "rf_model.fit(X_train_norm, y_train)\n",
    "\n",
    "y_pred_train = rf_model.predict(X_train_norm)\n",
    "y_pred_test_3 = rf_model.predict(X_test_3_norm)\n",
    "\n",
    "train_score = accuracy_score(y_train, y_pred_train) * 100\n",
    "test_score_3 = accuracy_score(y_test_3, y_pred_test_3) * 100\n",
    "\n",
    "oobs_score = rf_model.oob_score_\n",
    "\n",
    "print('accuracy score of the training set is {}%'.format(train_score))\n",
    "print('accuracy score of the test set with social spambot #3 is {}%'.format(test_score_3))"
   ]
  },
  {
   "cell_type": "code",
   "execution_count": 35,
   "metadata": {},
   "outputs": [
    {
     "data": {
      "text/plain": [
       "<matplotlib.axes._subplots.AxesSubplot at 0x1a228d3080>"
      ]
     },
     "execution_count": 35,
     "metadata": {},
     "output_type": "execute_result"
    },
    {
     "data": {
      "image/png": "[encoded data removed]",
      "text/plain": [
       "<Figure size 432x288 with 1 Axes>"
      ]
     },
     "metadata": {},
     "output_type": "display_data"
    }
   ],
   "source": [
    "#showing significant features\n",
    "pd.Series(rf_model.feature_importances_,index=list(X_train_norm)).sort_values().plot(kind=\"barh\")"
   ]
  },
  {
   "cell_type": "code",
   "execution_count": 36,
   "metadata": {},
   "outputs": [
    {
     "name": "stderr",
     "output_type": "stream",
     "text": [
      "/anaconda3/lib/python3.6/site-packages/ipykernel_launcher.py:8: DataConversionWarning: A column-vector y was passed when a 1d array was expected. Please change the shape of y to (n_samples,), for example using ravel().\n",
      "  \n"
     ]
    },
    {
     "name": "stdout",
     "output_type": "stream",
     "text": [
      "accuracy score of the training set is 100.0%\n",
      "accuracy score of the test set with social spambot #3 is 96.6321243523316%\n"
     ]
    }
   ],
   "source": [
    "#Random Forests with dropna\n",
    "overfit_depth = 100\n",
    "N = 100\n",
    "\n",
    "rf_model = RandomForestClassifier(n_estimators = N, criterion='gini', \n",
    "                                  max_features='auto', max_depth = overfit_depth, bootstrap=True,\n",
    "                                 oob_score=True)\n",
    "rf_model.fit(X_train_norm_dn, y_train_dn)\n",
    "\n",
    "y_pred_train = rf_model.predict(X_train_norm_dn)\n",
    "y_pred_test_3 = rf_model.predict(X_test_3_norm_dn)\n",
    "\n",
    "train_score = accuracy_score(y_train_dn, y_pred_train) * 100\n",
    "test_score_3 = accuracy_score(y_test_dn, y_pred_test_3) * 100\n",
    "\n",
    "oobs_score = rf_model.oob_score_\n",
    "\n",
    "print('accuracy score of the training set is {}%'.format(train_score))\n",
    "print('accuracy score of the test set with social spambot #3 is {}%'.format(test_score_3))"
   ]
  },
  {
   "cell_type": "code",
   "execution_count": 37,
   "metadata": {},
   "outputs": [
    {
     "data": {
      "text/plain": [
       "<matplotlib.axes._subplots.AxesSubplot at 0x1a21919ef0>"
      ]
     },
     "execution_count": 37,
     "metadata": {},
     "output_type": "execute_result"
    },
    {
     "data": {
      "image/png": "[encoded data removed]",
      "text/plain": [
       "<Figure size 432x288 with 1 Axes>"
      ]
     },
     "metadata": {},
     "output_type": "display_data"
    }
   ],
   "source": [
    "#showing significant features\n",
    "pd.Series(rf_model.feature_importances_,index=list(X_train_norm_dn)).sort_values().plot(kind=\"barh\")"
   ]
  },
  {
   "cell_type": "code",
   "execution_count": 38,
   "metadata": {
    "scrolled": false
   },
   "outputs": [
    {
     "name": "stdout",
     "output_type": "stream",
     "text": [
      "accuracy score of the training set is 99.95%\n",
      "accuracy score of the test set with social spambot #3 is 95.6896551724138%\n"
     ]
    }
   ],
   "source": [
    "# Multinominal Logistic Regression with linear imputation\n",
    "\n",
    "log_model = LogisticRegressionCV(fit_intercept=True, cv=5, multi_class=\"ovr\", penalty='l2', max_iter=10000)\n",
    "log_model.fit(X_train, y_train.values.reshape(-1))\n",
    "\n",
    "y_pred_train_log = log_model.predict(X_train_norm)\n",
    "y_pred_test_3_log = log_model.predict(X_test_3_norm)\n",
    "\n",
    "train_score_log = accuracy_score(y_train, y_pred_train_log) * 100\n",
    "test_score_3_log = accuracy_score(y_test_3, y_pred_test_3_log) * 100\n",
    "\n",
    "print('accuracy score of the training set is {}%'.format(train_score_log))\n",
    "print('accuracy score of the test set with social spambot #3 is {}%'.format(test_score_3_log))"
   ]
  },
  {
   "cell_type": "code",
   "execution_count": 39,
   "metadata": {},
   "outputs": [
    {
     "name": "stdout",
     "output_type": "stream",
     "text": [
      "accuracy score of the training set is 100.0%\n",
      "accuracy score of the test set with social spambot #3 is 95.59585492227978%\n"
     ]
    }
   ],
   "source": [
    "# Multinominal Logistic Regression with dropna\n",
    "\n",
    "log_model = LogisticRegressionCV(fit_intercept=True, cv=5, multi_class=\"ovr\", penalty='l2', max_iter=10000)\n",
    "log_model.fit(X_train_dn, y_train_dn.values.reshape(-1))\n",
    "\n",
    "y_pred_train_log = log_model.predict(X_train_norm_dn)\n",
    "y_pred_test_3_log = log_model.predict(X_test_3_norm_dn)\n",
    "\n",
    "train_score_log = accuracy_score(y_train_dn, y_pred_train_log) * 100\n",
    "test_score_3_log = accuracy_score(y_test_dn, y_pred_test_3_log) * 100\n",
    "\n",
    "print('accuracy score of the training set is {}%'.format(train_score_log))\n",
    "print('accuracy score of the test set with social spambot #3 is {}%'.format(test_score_3_log))"
   ]
  },
  {
   "cell_type": "code",
   "execution_count": 40,
   "metadata": {},
   "outputs": [
    {
     "data": {
      "text/plain": [
       "Text(0,0.5,'Mean Accuracy Score')"
      ]
     },
     "execution_count": 40,
     "metadata": {},
     "output_type": "execute_result"
    },
    {
     "data": {
      "image/png": "[encoded data removed]",
      "text/plain": [
       "<Figure size 864x360 with 1 Axes>"
      ]
     },
     "metadata": {},
     "output_type": "display_data"
    }
   ],
   "source": [
    "#kNN  with linear imputation\n",
    "kvals = [1, 2, 5, 7, 10, 15, 20, 25, 30, 50]\n",
    "knn_score_train = []\n",
    "\n",
    "for i in kvals:\n",
    "    model_knn = KNeighborsClassifier(n_neighbors=i, weights = 'uniform')\n",
    "    train_score = cross_val_score(model_knn, X = X_train_norm, y = y_train.values.reshape(-1), cv=5)\n",
    "    knn_score_train.append(train_score.mean())\n",
    "\n",
    "fig, ax = plt.subplots(1,1, figsize = (12,5))\n",
    "\n",
    "ax.plot(kvals, knn_score_train)\n",
    "ax.set_title(\"Train Set Score\")\n",
    "ax.set_xlabel(\"kvals\")\n",
    "ax.set_ylabel(\"Mean Accuracy Score\")"
   ]
  },
  {
   "cell_type": "code",
   "execution_count": 41,
   "metadata": {
    "scrolled": true
   },
   "outputs": [
    {
     "name": "stdout",
     "output_type": "stream",
     "text": [
      "accuracy score of the training set is 100.0%\n",
      "accuracy score of the test set with social spambot #3 is 92.88793103448276%\n"
     ]
    }
   ],
   "source": [
    "knn_model = KNeighborsClassifier(n_neighbors=10,weights = 'uniform')\n",
    "knn_model.fit(X_train, y_train.values.reshape(-1))\n",
    "\n",
    "y_pred_train_knn = knn_model.predict(X_train)\n",
    "y_pred_test_3_knn = knn_model.predict(X_test_3)\n",
    "\n",
    "train_score_knn = accuracy_score(y_train, y_pred_train_knn) * 100\n",
    "test_score_3_knn = accuracy_score(y_test_3, y_pred_test_3_knn) * 100\n",
    "\n",
    "print('accuracy score of the training set is {}%'.format(train_score_log))\n",
    "print('accuracy score of the test set with social spambot #3 is {}%'.format(test_score_3_knn))"
   ]
  },
  {
   "cell_type": "code",
   "execution_count": 42,
   "metadata": {},
   "outputs": [
    {
     "data": {
      "text/plain": [
       "Text(0,0.5,'Mean Accuracy Score')"
      ]
     },
     "execution_count": 42,
     "metadata": {},
     "output_type": "execute_result"
    },
    {
     "data": {
      "image/png": "[encoded data removed]",
      "text/plain": [
       "<Figure size 864x360 with 1 Axes>"
      ]
     },
     "metadata": {},
     "output_type": "display_data"
    }
   ],
   "source": [
    "#kNN  with dropna\n",
    "kvals = [1, 2, 5, 7, 10, 15, 20, 25, 30, 50]\n",
    "knn_score_train = []\n",
    "\n",
    "for i in kvals:\n",
    "    model_knn = KNeighborsClassifier(n_neighbors=i, weights = 'uniform')\n",
    "    train_score = cross_val_score(model_knn, X = X_train_norm_dn, y = y_train_dn.values.reshape(-1), cv=5)\n",
    "    knn_score_train.append(train_score.mean())\n",
    "\n",
    "fig, ax = plt.subplots(1,1, figsize = (12,5))\n",
    "\n",
    "ax.plot(kvals, knn_score_train)\n",
    "ax.set_title(\"Train Set Score\")\n",
    "ax.set_xlabel(\"kvals\")\n",
    "ax.set_ylabel(\"Mean Accuracy Score\")"
   ]
  },
  {
   "cell_type": "code",
   "execution_count": 43,
   "metadata": {},
   "outputs": [
    {
     "name": "stdout",
     "output_type": "stream",
     "text": [
      "accuracy score of the training set is 100.0%\n",
      "accuracy score of the test set with social spambot #3 is 91.19170984455958%\n"
     ]
    }
   ],
   "source": [
    "knn_model = KNeighborsClassifier(n_neighbors=10,weights = 'uniform')\n",
    "knn_model.fit(X_train_dn, y_train_dn.values.reshape(-1))\n",
    "\n",
    "y_pred_train_knn = knn_model.predict(X_train_norm_dn)\n",
    "y_pred_test_3_knn = knn_model.predict(X_test_3_norm_dn)\n",
    "\n",
    "train_score_knn = accuracy_score(y_train_dn, y_pred_train_knn) * 100\n",
    "test_score_3_knn = accuracy_score(y_test_dn, y_pred_test_3_knn) * 100\n",
    "\n",
    "print('accuracy score of the training set is {}%'.format(train_score_log))\n",
    "print('accuracy score of the test set with social spambot #3 is {}%'.format(test_score_3_knn))"
   ]
  }
 ],
 "metadata": {
  "kernelspec": {
   "display_name": "Python 3",
   "language": "python",
   "name": "python3"
  },
  "language_info": {
   "codemirror_mode": {
    "name": "ipython",
    "version": 3
   },
   "file_extension": ".py",
   "mimetype": "text/x-python",
   "name": "python",
   "nbconvert_exporter": "python",
   "pygments_lexer": "ipython3",
   "version": "3.6.5"
  }
 },
 "nbformat": 4,
 "nbformat_minor": 2
}
