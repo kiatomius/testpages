{
 "cells": [
  {
   "cell_type": "code",
   "execution_count": 1,
   "metadata": {},
   "outputs": [
    {
     "name": "stderr",
     "output_type": "stream",
     "text": [
      "/anaconda3/lib/python3.6/site-packages/sklearn/ensemble/weight_boosting.py:29: DeprecationWarning: numpy.core.umath_tests is an internal NumPy module and should not be imported. It will be removed in a future NumPy release.\n",
      "  from numpy.core.umath_tests import inner1d\n"
     ]
    }
   ],
   "source": [
    "import json\n",
    "import numpy as np\n",
    "import matplotlib.pyplot as plt\n",
    "import pandas as pd\n",
    "import os\n",
    "import re \n",
    "import seaborn as sns\n",
    "\n",
    "from sklearn.decomposition import PCA\n",
    "from sklearn.linear_model import LogisticRegression\n",
    "from sklearn.linear_model import LogisticRegressionCV\n",
    "from sklearn.discriminant_analysis import LinearDiscriminantAnalysis\n",
    "from sklearn.discriminant_analysis import QuadraticDiscriminantAnalysis\n",
    "from sklearn.preprocessing import PolynomialFeatures\n",
    "from sklearn.neighbors import KNeighborsClassifier\n",
    "from sklearn.model_selection import train_test_split\n",
    "from sklearn.model_selection import cross_val_score\n",
    "from sklearn.model_selection import KFold\n",
    "from sklearn.metrics import accuracy_score\n",
    "from sklearn.tree import DecisionTreeClassifier\n",
    "from sklearn.tree import export_graphviz\n",
    "from sklearn.pipeline import make_pipeline\n",
    "from sklearn.datasets import make_blobs\n",
    "\n",
    "from sklearn.ensemble import RandomForestRegressor\n",
    "from sklearn.model_selection import GridSearchCV\n",
    "\n",
    "from sklearn.model_selection import cross_val_score\n",
    "from sklearn.utils import resample\n",
    "from sklearn.tree import DecisionTreeClassifier\n",
    "from sklearn.ensemble import RandomForestClassifier\n",
    "from sklearn.ensemble import AdaBoostClassifier\n",
    "from sklearn.ensemble import BaggingClassifier\n",
    "from sklearn.metrics import accuracy_score\n",
    "\n",
    "from sklearn.utils import shuffle"
   ]
  },
  {
   "cell_type": "code",
   "execution_count": 2,
   "metadata": {},
   "outputs": [],
   "source": [
    "os.getcwd()\n",
    "pd.set_option('display.max_columns', 100)"
   ]
  },
  {
   "cell_type": "code",
   "execution_count": 3,
   "metadata": {},
   "outputs": [],
   "source": [
    "#download data for genuine users\n",
    "\n",
    "df_gen_users = pd.read_csv('datasets_full.csv/genuine_accounts.csv/users.csv')\n",
    "\n",
    "#define columns to keep for investigation\n",
    "\n",
    "columns_to_keep = ['id', 'name', 'screen_name', 'statuses_count', 'followers_count',\n",
    "       'friends_count', 'favourites_count', 'listed_count', 'url', 'lang',\n",
    "       'time_zone', 'location', 'default_profile', 'default_profile_image',\n",
    "       'geo_enabled', 'profile_image_url', 'profile_banner_url',\n",
    "       'profile_use_background_image', 'profile_background_image_url_https',\n",
    "       'profile_text_color', 'profile_image_url_https','follow_request_sent', \n",
    "       'verified','description', 'following']\n",
    "\n",
    "# trim the bot data and add a binary column = 1 to indicate that this data is human data\n",
    "\n",
    "df_gen_users = df_gen_users[columns_to_keep]\n",
    "df_gen_users['bot'] = 0"
   ]
  },
  {
   "cell_type": "code",
   "execution_count": 4,
   "metadata": {},
   "outputs": [],
   "source": [
    "#features from tweet data\n",
    "columns_to_keep_t = ['retweet_count','favorite_count','num_hashtags','num_urls','num_mentions']"
   ]
  },
  {
   "cell_type": "code",
   "execution_count": 5,
   "metadata": {
    "scrolled": true
   },
   "outputs": [
    {
     "name": "stderr",
     "output_type": "stream",
     "text": [
      "/anaconda3/lib/python3.6/site-packages/IPython/core/interactiveshell.py:2785: DtypeWarning: Columns (0) have mixed types. Specify dtype option on import or set low_memory=False.\n",
      "  interactivity=interactivity, compiler=compiler, result=result)\n"
     ]
    }
   ],
   "source": [
    "#combining with tweet data\n",
    "df_gen_tweets = pd.read_csv('datasets_full.csv/genuine_accounts.csv/tweets.csv')\n",
    "temp = df_gen_tweets.groupby(\"user_id\").mean()\n",
    "temp = temp[columns_to_keep_t]\n",
    "df_gen_user_mix = pd.merge(df_gen_users, temp, how = 'left',left_on='id', right_on='user_id')"
   ]
  },
  {
   "cell_type": "code",
   "execution_count": 6,
   "metadata": {},
   "outputs": [],
   "source": [
    "# download data for traditional bots for training purpose\n",
    "# use trad_bot_1 since it was the main focus of the 'traditional model'\n",
    "\n",
    "df_trad_bot1_users = pd.read_csv('datasets_full.csv/traditional_spambots_1.csv/users.csv')\n",
    "\n",
    "# trim the bot data and add a binary column = 1 to indicate that this data is bot data\n",
    "df_trad_bot1_users = df_trad_bot1_users[columns_to_keep]\n",
    "df_trad_bot1_users['bot'] = 1"
   ]
  },
  {
   "cell_type": "code",
   "execution_count": 7,
   "metadata": {
    "scrolled": false
   },
   "outputs": [],
   "source": [
    "#combining with tweet data\n",
    "df_trad_bot1_tweets = pd.read_csv('datasets_full.csv/traditional_spambots_1.csv/tweets.csv')\n",
    "temp = df_trad_bot1_tweets.groupby(\"user_id\").mean()\n",
    "temp = temp[columns_to_keep_t]\n",
    "df_trad_bot1_mix = pd.merge(df_trad_bot1_users, temp, how = 'left',left_on='id', right_on='user_id')"
   ]
  },
  {
   "cell_type": "code",
   "execution_count": 8,
   "metadata": {},
   "outputs": [],
   "source": [
    "# calling results of sentiment analysis\n",
    "df_gen_sentiment = pd.read_csv('datasets_full.csv/sentiments/df_gen_tweets_sentiments.csv')\n",
    "df_trad_bot1_sentiment = pd.read_csv('datasets_full.csv/sentiments/df_trad_bot1_tweets_sentiments_spare.csv')\n",
    "df_test_bot3_sentiment = pd.read_csv('datasets_full.csv/sentiments/df_bot3_tweets_sentiments.csv')\n",
    "df_gen_sentiment_user=df_gen_sentiment.groupby(\"user_id\").mean()\n",
    "df_trad_bot1_sentiment_user=df_trad_bot1_sentiment.groupby(\"user_id\").mean()\n",
    "df_test_bot3_sentiment_user=df_test_bot3_sentiment.groupby(\"user_id\").mean()"
   ]
  },
  {
   "cell_type": "code",
   "execution_count": 9,
   "metadata": {},
   "outputs": [],
   "source": [
    "# combine sentiment data and split the genuine data into training set and test set to avoid overlap\n",
    "df_gen_user_mix = pd.merge(df_gen_user_mix, df_gen_sentiment_user, how = 'left',left_on='id', right_on='user_id')\n",
    "df_trad_bot1_mix = pd.merge(df_trad_bot1_mix, df_trad_bot1_sentiment_user, how = 'left',left_on='id', right_on='user_id')\n",
    "\n",
    "df_gen_train, df_gen_test = train_test_split(df_gen_user_mix, test_size = 0.5, shuffle = True)"
   ]
  },
  {
   "cell_type": "code",
   "execution_count": 10,
   "metadata": {
    "scrolled": true
   },
   "outputs": [],
   "source": [
    "#create training dataset by concatenating the training split of genuine data and trad_bot_1 data\n",
    "df_train = pd.concat([df_gen_train.sample(len(df_trad_bot1_mix)), df_trad_bot1_mix])\n",
    "df_train = shuffle(df_train)"
   ]
  },
  {
   "cell_type": "code",
   "execution_count": 11,
   "metadata": {},
   "outputs": [
    {
     "name": "stderr",
     "output_type": "stream",
     "text": [
      "/anaconda3/lib/python3.6/site-packages/IPython/core/interactiveshell.py:2785: DtypeWarning: Columns (7,10) have mixed types. Specify dtype option on import or set low_memory=False.\n",
      "  interactivity=interactivity, compiler=compiler, result=result)\n"
     ]
    }
   ],
   "source": [
    "# Create the test set\n",
    "# Use social spambots #3 as the separate test data set (social spambots #1 contain Italian tweets and cannot be used for sentiment analysis)\n",
    "\n",
    "df_test_bot3_users = pd.read_csv('datasets_full.csv/social_spambots_3.csv/users.csv')\n",
    "df_test_bot3_users = df_test_bot3_users[columns_to_keep]\n",
    "df_test_bot3_users['bot'] = 1\n",
    "\n",
    "#combining with tweet data\n",
    "df_test_bot3_tweets = pd.read_csv('datasets_full.csv/social_spambots_3.csv/tweets.csv')\n",
    "temp2 = df_test_bot3_tweets.groupby(\"user_id\").mean()\n",
    "temp2 = temp2[columns_to_keep_t]\n",
    "df_test_bot3_mix = pd.merge(df_test_bot3_users, temp2, how = 'left',left_on='id', right_on='user_id')\n",
    "df_test_bot3_mix = pd.merge(df_test_bot3_mix, df_test_bot3_sentiment_user, how = 'left',left_on='id', right_on='user_id')\n",
    "\n",
    "#create test set with 50% genuine data, and 50% social spambot data\n",
    "df_test_3 = pd.concat([df_gen_test.sample(len(df_test_bot3_mix)), df_test_bot3_mix])\n",
    "df_test_3 = shuffle(df_test_3)"
   ]
  },
  {
   "cell_type": "code",
   "execution_count": 12,
   "metadata": {},
   "outputs": [],
   "source": [
    "#define data cleaning functions\n",
    "\n",
    "#cleaning step 1: check if screen_name has a word 'bot' in it\n",
    "\n",
    "def screen_name_check (df):\n",
    "    \n",
    "    word = 'bot'\n",
    "    bot_name = []\n",
    "    k = 0\n",
    "\n",
    "    for i in range (len(df)):\n",
    "        if pd.isnull(df.iloc[i,:]['screen_name']):\n",
    "                k = 0\n",
    "        else: \n",
    "            if word in df.iloc[i,:]['screen_name']:\n",
    "                k = 1\n",
    "            else:\n",
    "                k = 0\n",
    "        bot_name.append(k)\n",
    "    \n",
    "    return bot_name\n",
    "\n",
    "\n",
    "#cleaning step 2: check if location parameter is present\n",
    "\n",
    "def location_check(df):\n",
    "    \n",
    "    loc = []\n",
    "\n",
    "    for i in range (len(df)):\n",
    "        if pd.isnull(df.iloc[i,:]['location']):\n",
    "            loc.append(0)\n",
    "        else:\n",
    "            loc.append(1)\n",
    "            \n",
    "    return loc\n",
    "\n",
    "# cleaning step 3\n",
    "# Set description to 1 if it contains either of these words: \n",
    "#‘bot’, ‘robot’, ‘artificial’, ‘intelligence’, ‘neural’, ‘network’, ‘automatic’ and 0 otherwise.\n",
    "\n",
    "def description_check(df):\n",
    "    keyword = ['bot', 'robot', 'artificial', 'intelligence', 'neural', 'network', 'automatic']\n",
    "    bot_des = []\n",
    "    k = 0\n",
    "\n",
    "    for i in range (len(df)):\n",
    "        for keyword in keyword:\n",
    "            if pd.isnull(df.iloc[i,:]['description']):\n",
    "                k = 0\n",
    "            else:\n",
    "                if df.iloc[i,:]['description'].find(keyword) == -1:\n",
    "                    k = 0\n",
    "                else:\n",
    "                    k = 1\n",
    "        bot_des.append(k)\n",
    "        \n",
    "    return bot_des\n",
    "\n",
    "#cleaning step 4:\n",
    "#Set verified to 1 if the sample’s verified features contents are True and 0 otherwise.\n",
    "\n",
    "def verified_check(df):\n",
    "    ver = []\n",
    "\n",
    "    for i in range (len(df)):\n",
    "        if pd.isnull(df.iloc[i,:]['verified']):\n",
    "            ver.append(0)\n",
    "        else:\n",
    "            ver.append(1)\n",
    "    return ver\n",
    "\n",
    "#cleaning step 5:\n",
    "#Check if default profile exists or not.\n",
    "\n",
    "def default_profile_check (df):\n",
    "    \n",
    "    default_profile = []\n",
    "\n",
    "    for i in range (len(df)):\n",
    "        if pd.isnull(df.iloc[i,:]['default_profile']):\n",
    "            default_profile.append(0)\n",
    "        else:\n",
    "            default_profile.append(1)\n",
    "    \n",
    "    return default_profile\n",
    "\n",
    "#cleaning step 6:\n",
    "#Check if default profile image is used or not.\n",
    "\n",
    "def default_image_check (df):\n",
    "    \n",
    "    default_profile_image = []\n",
    "\n",
    "    for i in range (len(df)):\n",
    "        if pd.isnull(df.iloc[i,:]['default_profile_image']):\n",
    "            default_profile_image.append(0)\n",
    "        else:\n",
    "            default_profile_image.append(1)\n",
    "    \n",
    "    return default_profile_image"
   ]
  },
  {
   "cell_type": "code",
   "execution_count": 13,
   "metadata": {},
   "outputs": [],
   "source": [
    "def master_clean (df):\n",
    "    bot_name = screen_name_check (df)\n",
    "    loc = location_check (df)\n",
    "    bot_des = description_check (df)\n",
    "    ver = verified_check (df)\n",
    "    default_profile = default_profile_check (df)\n",
    "    default_profile_image = default_image_check (df)\n",
    "    \n",
    "    df = pd.DataFrame({'screen_name': df['screen_name'],\n",
    "                       'name': df['name'],\n",
    "                       'bot_in_name':bot_name,\n",
    "                       'bot_in_des':bot_des,\n",
    "                       'location': loc,\n",
    "                       'verified': ver,\n",
    "                       'default_profile': default_profile,\n",
    "                       'default_profile_image': default_profile_image,\n",
    "                       'followers_count': df['followers_count'],\n",
    "                       'listed_count': df['listed_count'],\n",
    "                       'friends_count': df['friends_count'],\n",
    "                       'favourites_count': df['favourites_count'],\n",
    "                       'statuses_count': df['statuses_count'],\n",
    "                       'retweet_count_mean':df['retweet_count'],\n",
    "                       'favorite_count_mean':df['favorite_count'],\n",
    "                       'num_hashtags_mean':df['num_hashtags'],\n",
    "                       'num_urls_mean':df['num_urls'],\n",
    "                       'num_mentions_mean':df['num_mentions'],\n",
    "                       'polarity':df['polarity'],\n",
    "                       'subjectivity':df['subjectivity'],\n",
    "                       'bot_or_not':df['bot']\n",
    "                       })\n",
    "    \n",
    "    return df"
   ]
  },
  {
   "cell_type": "code",
   "execution_count": 14,
   "metadata": {},
   "outputs": [],
   "source": [
    "#apply the cleaning function to training set and testing set\n",
    "df_train = master_clean(df_train)\n",
    "df_test_3 = master_clean(df_test_3)"
   ]
  },
  {
   "cell_type": "code",
   "execution_count": 15,
   "metadata": {},
   "outputs": [],
   "source": [
    "#add a feature of missingness\n",
    "def add_missingness(df):\n",
    "    inds = np.where(df.isnull())\n",
    "    inds = np.array(inds).tolist()\n",
    "    inds\n",
    "    inds_list = []\n",
    "    for i in inds[0]:\n",
    "        if i not in inds_list:\n",
    "            inds_list.append(i)\n",
    "    df[\"Missingness\"] = 0\n",
    "    for i in inds_list:\n",
    "        df.iloc[i,-1] = 1\n",
    "    return df"
   ]
  },
  {
   "cell_type": "code",
   "execution_count": 16,
   "metadata": {},
   "outputs": [],
   "source": [
    "df_train_2=add_missingness(df_train)\n",
    "df_test_3_2=add_missingness(df_test_3)"
   ]
  },
  {
   "cell_type": "code",
   "execution_count": 17,
   "metadata": {},
   "outputs": [],
   "source": [
    "# index of rows which contain NaN\n",
    "inds = np.where(df_train_2.isna())\n",
    "inds = np.array(inds).tolist()\n",
    "inds_list = []\n",
    "for i in inds[0]:\n",
    "    if i not in inds_list:\n",
    "        inds_list.append(i)"
   ]
  },
  {
   "cell_type": "code",
   "execution_count": 18,
   "metadata": {},
   "outputs": [],
   "source": [
    "#prepare for imputation\n",
    "columns_to_keep_nan = ['retweet_count_mean', 'favorite_count_mean', 'num_hashtags_mean', 'num_urls_mean', 'num_mentions_mean', 'polarity','subjectivity']"
   ]
  },
  {
   "cell_type": "code",
   "execution_count": 19,
   "metadata": {},
   "outputs": [],
   "source": [
    "#linear regression imputation\n",
    "from sklearn.linear_model import LinearRegression\n",
    "\n",
    "def linear_imputation(df,columns_withna):\n",
    "    df2=df.copy()\n",
    "    df3=df.copy()\n",
    "    df2=df2.drop(columns=[\"screen_name\",\"name\"])\n",
    "    df_dropna=df2.dropna()\n",
    "    for feature in columns_withna:\n",
    "        x_set = df_dropna[df_dropna.columns.difference(columns_withna)]\n",
    "        y_set = df_dropna[feature]\n",
    "        \n",
    "        linear_reg = LinearRegression()\n",
    "        linear_reg.fit(x_set,y_set)\n",
    "        ytest_hat = linear_reg.predict(df2[df2.columns.difference(columns_withna)])\n",
    "        df3[feature]=ytest_hat\n",
    "    df3.update(df)\n",
    "    return df3"
   ]
  },
  {
   "cell_type": "code",
   "execution_count": 20,
   "metadata": {},
   "outputs": [],
   "source": [
    "df_train_3 = linear_imputation(df_train_2, columns_to_keep_nan)\n",
    "df_test_3_3 = linear_imputation(df_test_3_2, columns_to_keep_nan)"
   ]
  },
  {
   "cell_type": "code",
   "execution_count": 21,
   "metadata": {
    "scrolled": true
   },
   "outputs": [
    {
     "name": "stdout",
     "output_type": "stream",
     "text": [
      "(2000, 22)\n"
     ]
    },
    {
     "data": {
      "text/html": [
       "<div>\n",
       "<style scoped>\n",
       "    .dataframe tbody tr th:only-of-type {\n",
       "        vertical-align: middle;\n",
       "    }\n",
       "\n",
       "    .dataframe tbody tr th {\n",
       "        vertical-align: top;\n",
       "    }\n",
       "\n",
       "    .dataframe thead th {\n",
       "        text-align: right;\n",
       "    }\n",
       "</style>\n",
       "<table border=\"1\" class=\"dataframe\">\n",
       "  <thead>\n",
       "    <tr style=\"text-align: right;\">\n",
       "      <th></th>\n",
       "      <th>screen_name</th>\n",
       "      <th>name</th>\n",
       "      <th>bot_in_name</th>\n",
       "      <th>bot_in_des</th>\n",
       "      <th>location</th>\n",
       "      <th>verified</th>\n",
       "      <th>default_profile</th>\n",
       "      <th>default_profile_image</th>\n",
       "      <th>followers_count</th>\n",
       "      <th>listed_count</th>\n",
       "      <th>friends_count</th>\n",
       "      <th>favourites_count</th>\n",
       "      <th>statuses_count</th>\n",
       "      <th>retweet_count_mean</th>\n",
       "      <th>favorite_count_mean</th>\n",
       "      <th>num_hashtags_mean</th>\n",
       "      <th>num_urls_mean</th>\n",
       "      <th>num_mentions_mean</th>\n",
       "      <th>polarity</th>\n",
       "      <th>subjectivity</th>\n",
       "      <th>bot_or_not</th>\n",
       "      <th>Missingness</th>\n",
       "    </tr>\n",
       "  </thead>\n",
       "  <tbody>\n",
       "    <tr>\n",
       "      <th>211</th>\n",
       "      <td>astefanisilva</td>\n",
       "      <td>Amanda</td>\n",
       "      <td>0</td>\n",
       "      <td>0</td>\n",
       "      <td>0</td>\n",
       "      <td>0</td>\n",
       "      <td>0</td>\n",
       "      <td>0</td>\n",
       "      <td>2630</td>\n",
       "      <td>14</td>\n",
       "      <td>3855</td>\n",
       "      <td>0</td>\n",
       "      <td>588</td>\n",
       "      <td>0.0</td>\n",
       "      <td>0.0</td>\n",
       "      <td>0.047619</td>\n",
       "      <td>0.394558</td>\n",
       "      <td>0.112245</td>\n",
       "      <td>0.072187</td>\n",
       "      <td>0.112252</td>\n",
       "      <td>1</td>\n",
       "      <td>0</td>\n",
       "    </tr>\n",
       "    <tr>\n",
       "      <th>174</th>\n",
       "      <td>JuliannacaMadyi</td>\n",
       "      <td>Julianna Madyson</td>\n",
       "      <td>0</td>\n",
       "      <td>0</td>\n",
       "      <td>1</td>\n",
       "      <td>0</td>\n",
       "      <td>0</td>\n",
       "      <td>0</td>\n",
       "      <td>393</td>\n",
       "      <td>1</td>\n",
       "      <td>1471</td>\n",
       "      <td>0</td>\n",
       "      <td>85</td>\n",
       "      <td>0.0</td>\n",
       "      <td>0.0</td>\n",
       "      <td>0.000000</td>\n",
       "      <td>0.329412</td>\n",
       "      <td>0.011765</td>\n",
       "      <td>0.092592</td>\n",
       "      <td>0.371703</td>\n",
       "      <td>1</td>\n",
       "      <td>0</td>\n",
       "    </tr>\n",
       "    <tr>\n",
       "      <th>863</th>\n",
       "      <td>nordestefureve</td>\n",
       "      <td>Fox</td>\n",
       "      <td>0</td>\n",
       "      <td>0</td>\n",
       "      <td>0</td>\n",
       "      <td>0</td>\n",
       "      <td>0</td>\n",
       "      <td>0</td>\n",
       "      <td>586</td>\n",
       "      <td>0</td>\n",
       "      <td>1989</td>\n",
       "      <td>0</td>\n",
       "      <td>52</td>\n",
       "      <td>0.0</td>\n",
       "      <td>0.0</td>\n",
       "      <td>0.500000</td>\n",
       "      <td>0.807692</td>\n",
       "      <td>0.211538</td>\n",
       "      <td>0.012821</td>\n",
       "      <td>0.025641</td>\n",
       "      <td>1</td>\n",
       "      <td>0</td>\n",
       "    </tr>\n",
       "    <tr>\n",
       "      <th>647</th>\n",
       "      <td>hillaryapplebee</td>\n",
       "      <td>Hillary Applebee</td>\n",
       "      <td>0</td>\n",
       "      <td>0</td>\n",
       "      <td>0</td>\n",
       "      <td>0</td>\n",
       "      <td>0</td>\n",
       "      <td>0</td>\n",
       "      <td>1061</td>\n",
       "      <td>4</td>\n",
       "      <td>1874</td>\n",
       "      <td>0</td>\n",
       "      <td>25</td>\n",
       "      <td>0.0</td>\n",
       "      <td>0.0</td>\n",
       "      <td>0.160000</td>\n",
       "      <td>0.480000</td>\n",
       "      <td>1.200000</td>\n",
       "      <td>0.194369</td>\n",
       "      <td>0.452571</td>\n",
       "      <td>1</td>\n",
       "      <td>0</td>\n",
       "    </tr>\n",
       "    <tr>\n",
       "      <th>871</th>\n",
       "      <td>EduKalore</td>\n",
       "      <td>eduardo rebellato</td>\n",
       "      <td>0</td>\n",
       "      <td>0</td>\n",
       "      <td>0</td>\n",
       "      <td>0</td>\n",
       "      <td>0</td>\n",
       "      <td>0</td>\n",
       "      <td>278</td>\n",
       "      <td>4</td>\n",
       "      <td>911</td>\n",
       "      <td>1</td>\n",
       "      <td>54</td>\n",
       "      <td>0.0</td>\n",
       "      <td>0.0</td>\n",
       "      <td>0.203704</td>\n",
       "      <td>0.425926</td>\n",
       "      <td>0.185185</td>\n",
       "      <td>0.012346</td>\n",
       "      <td>0.024691</td>\n",
       "      <td>1</td>\n",
       "      <td>0</td>\n",
       "    </tr>\n",
       "  </tbody>\n",
       "</table>\n",
       "</div>"
      ],
      "text/plain": [
       "         screen_name               name  bot_in_name  bot_in_des  location  \\\n",
       "211    astefanisilva             Amanda            0           0         0   \n",
       "174  JuliannacaMadyi   Julianna Madyson            0           0         1   \n",
       "863   nordestefureve                Fox            0           0         0   \n",
       "647  hillaryapplebee   Hillary Applebee            0           0         0   \n",
       "871        EduKalore  eduardo rebellato            0           0         0   \n",
       "\n",
       "     verified  default_profile  default_profile_image  followers_count  \\\n",
       "211         0                0                      0             2630   \n",
       "174         0                0                      0              393   \n",
       "863         0                0                      0              586   \n",
       "647         0                0                      0             1061   \n",
       "871         0                0                      0              278   \n",
       "\n",
       "     listed_count  friends_count  favourites_count  statuses_count  \\\n",
       "211            14           3855                 0             588   \n",
       "174             1           1471                 0              85   \n",
       "863             0           1989                 0              52   \n",
       "647             4           1874                 0              25   \n",
       "871             4            911                 1              54   \n",
       "\n",
       "     retweet_count_mean  favorite_count_mean  num_hashtags_mean  \\\n",
       "211                 0.0                  0.0           0.047619   \n",
       "174                 0.0                  0.0           0.000000   \n",
       "863                 0.0                  0.0           0.500000   \n",
       "647                 0.0                  0.0           0.160000   \n",
       "871                 0.0                  0.0           0.203704   \n",
       "\n",
       "     num_urls_mean  num_mentions_mean  polarity  subjectivity  bot_or_not  \\\n",
       "211       0.394558           0.112245  0.072187      0.112252           1   \n",
       "174       0.329412           0.011765  0.092592      0.371703           1   \n",
       "863       0.807692           0.211538  0.012821      0.025641           1   \n",
       "647       0.480000           1.200000  0.194369      0.452571           1   \n",
       "871       0.425926           0.185185  0.012346      0.024691           1   \n",
       "\n",
       "     Missingness  \n",
       "211            0  \n",
       "174            0  \n",
       "863            0  \n",
       "647            0  \n",
       "871            0  "
      ]
     },
     "metadata": {},
     "output_type": "display_data"
    },
    {
     "name": "stdout",
     "output_type": "stream",
     "text": [
      "(928, 22)\n"
     ]
    },
    {
     "data": {
      "text/html": [
       "<div>\n",
       "<style scoped>\n",
       "    .dataframe tbody tr th:only-of-type {\n",
       "        vertical-align: middle;\n",
       "    }\n",
       "\n",
       "    .dataframe tbody tr th {\n",
       "        vertical-align: top;\n",
       "    }\n",
       "\n",
       "    .dataframe thead th {\n",
       "        text-align: right;\n",
       "    }\n",
       "</style>\n",
       "<table border=\"1\" class=\"dataframe\">\n",
       "  <thead>\n",
       "    <tr style=\"text-align: right;\">\n",
       "      <th></th>\n",
       "      <th>screen_name</th>\n",
       "      <th>name</th>\n",
       "      <th>bot_in_name</th>\n",
       "      <th>bot_in_des</th>\n",
       "      <th>location</th>\n",
       "      <th>verified</th>\n",
       "      <th>default_profile</th>\n",
       "      <th>default_profile_image</th>\n",
       "      <th>followers_count</th>\n",
       "      <th>listed_count</th>\n",
       "      <th>friends_count</th>\n",
       "      <th>favourites_count</th>\n",
       "      <th>statuses_count</th>\n",
       "      <th>retweet_count_mean</th>\n",
       "      <th>favorite_count_mean</th>\n",
       "      <th>num_hashtags_mean</th>\n",
       "      <th>num_urls_mean</th>\n",
       "      <th>num_mentions_mean</th>\n",
       "      <th>polarity</th>\n",
       "      <th>subjectivity</th>\n",
       "      <th>bot_or_not</th>\n",
       "      <th>Missingness</th>\n",
       "    </tr>\n",
       "  </thead>\n",
       "  <tbody>\n",
       "    <tr>\n",
       "      <th>89</th>\n",
       "      <td>Alps_Sarsis</td>\n",
       "      <td>Alps Sarsis</td>\n",
       "      <td>0</td>\n",
       "      <td>0</td>\n",
       "      <td>1</td>\n",
       "      <td>0</td>\n",
       "      <td>1</td>\n",
       "      <td>0</td>\n",
       "      <td>87</td>\n",
       "      <td>3</td>\n",
       "      <td>195</td>\n",
       "      <td>66</td>\n",
       "      <td>1523</td>\n",
       "      <td>520.595854</td>\n",
       "      <td>0.252169</td>\n",
       "      <td>0.347316</td>\n",
       "      <td>0.191161</td>\n",
       "      <td>0.746502</td>\n",
       "      <td>0.093155</td>\n",
       "      <td>0.286208</td>\n",
       "      <td>0</td>\n",
       "      <td>1</td>\n",
       "    </tr>\n",
       "    <tr>\n",
       "      <th>402</th>\n",
       "      <td>New_EnglandNews</td>\n",
       "      <td>Tom Fisher</td>\n",
       "      <td>0</td>\n",
       "      <td>0</td>\n",
       "      <td>0</td>\n",
       "      <td>0</td>\n",
       "      <td>0</td>\n",
       "      <td>0</td>\n",
       "      <td>856</td>\n",
       "      <td>8</td>\n",
       "      <td>939</td>\n",
       "      <td>0</td>\n",
       "      <td>24161</td>\n",
       "      <td>0.008736</td>\n",
       "      <td>0.010608</td>\n",
       "      <td>0.000312</td>\n",
       "      <td>0.074571</td>\n",
       "      <td>0.070827</td>\n",
       "      <td>0.177714</td>\n",
       "      <td>0.377957</td>\n",
       "      <td>1</td>\n",
       "      <td>1</td>\n",
       "    </tr>\n",
       "    <tr>\n",
       "      <th>131</th>\n",
       "      <td>idigjamesbond1</td>\n",
       "      <td>idigjamesbond</td>\n",
       "      <td>0</td>\n",
       "      <td>0</td>\n",
       "      <td>0</td>\n",
       "      <td>0</td>\n",
       "      <td>0</td>\n",
       "      <td>0</td>\n",
       "      <td>1018</td>\n",
       "      <td>6</td>\n",
       "      <td>1943</td>\n",
       "      <td>1</td>\n",
       "      <td>13095</td>\n",
       "      <td>0.006169</td>\n",
       "      <td>0.012338</td>\n",
       "      <td>0.000000</td>\n",
       "      <td>0.465762</td>\n",
       "      <td>0.000000</td>\n",
       "      <td>0.178620</td>\n",
       "      <td>0.370753</td>\n",
       "      <td>1</td>\n",
       "      <td>0</td>\n",
       "    </tr>\n",
       "    <tr>\n",
       "      <th>124</th>\n",
       "      <td>Iloveseniorfitn</td>\n",
       "      <td>Love Senior Fitness</td>\n",
       "      <td>0</td>\n",
       "      <td>1</td>\n",
       "      <td>0</td>\n",
       "      <td>0</td>\n",
       "      <td>0</td>\n",
       "      <td>0</td>\n",
       "      <td>1037</td>\n",
       "      <td>10</td>\n",
       "      <td>1799</td>\n",
       "      <td>1</td>\n",
       "      <td>12277</td>\n",
       "      <td>0.004938</td>\n",
       "      <td>0.012963</td>\n",
       "      <td>0.000000</td>\n",
       "      <td>0.457407</td>\n",
       "      <td>0.000000</td>\n",
       "      <td>0.184388</td>\n",
       "      <td>0.377921</td>\n",
       "      <td>1</td>\n",
       "      <td>0</td>\n",
       "    </tr>\n",
       "    <tr>\n",
       "      <th>2211</th>\n",
       "      <td>geithsy</td>\n",
       "      <td>끄 ♡</td>\n",
       "      <td>0</td>\n",
       "      <td>0</td>\n",
       "      <td>1</td>\n",
       "      <td>0</td>\n",
       "      <td>0</td>\n",
       "      <td>0</td>\n",
       "      <td>231</td>\n",
       "      <td>1</td>\n",
       "      <td>92</td>\n",
       "      <td>287</td>\n",
       "      <td>81721</td>\n",
       "      <td>1366.627403</td>\n",
       "      <td>0.148773</td>\n",
       "      <td>0.391821</td>\n",
       "      <td>0.366675</td>\n",
       "      <td>0.898962</td>\n",
       "      <td>0.076938</td>\n",
       "      <td>0.332585</td>\n",
       "      <td>0</td>\n",
       "      <td>1</td>\n",
       "    </tr>\n",
       "  </tbody>\n",
       "</table>\n",
       "</div>"
      ],
      "text/plain": [
       "          screen_name                 name  bot_in_name  bot_in_des  location  \\\n",
       "89        Alps_Sarsis          Alps Sarsis            0           0         1   \n",
       "402   New_EnglandNews           Tom Fisher            0           0         0   \n",
       "131    idigjamesbond1        idigjamesbond            0           0         0   \n",
       "124   Iloveseniorfitn  Love Senior Fitness            0           1         0   \n",
       "2211          geithsy                  끄 ♡            0           0         1   \n",
       "\n",
       "      verified  default_profile  default_profile_image  followers_count  \\\n",
       "89           0                1                      0               87   \n",
       "402          0                0                      0              856   \n",
       "131          0                0                      0             1018   \n",
       "124          0                0                      0             1037   \n",
       "2211         0                0                      0              231   \n",
       "\n",
       "      listed_count  friends_count  favourites_count  statuses_count  \\\n",
       "89               3            195                66            1523   \n",
       "402              8            939                 0           24161   \n",
       "131              6           1943                 1           13095   \n",
       "124             10           1799                 1           12277   \n",
       "2211             1             92               287           81721   \n",
       "\n",
       "      retweet_count_mean  favorite_count_mean  num_hashtags_mean  \\\n",
       "89            520.595854             0.252169           0.347316   \n",
       "402             0.008736             0.010608           0.000312   \n",
       "131             0.006169             0.012338           0.000000   \n",
       "124             0.004938             0.012963           0.000000   \n",
       "2211         1366.627403             0.148773           0.391821   \n",
       "\n",
       "      num_urls_mean  num_mentions_mean  polarity  subjectivity  bot_or_not  \\\n",
       "89         0.191161           0.746502  0.093155      0.286208           0   \n",
       "402        0.074571           0.070827  0.177714      0.377957           1   \n",
       "131        0.465762           0.000000  0.178620      0.370753           1   \n",
       "124        0.457407           0.000000  0.184388      0.377921           1   \n",
       "2211       0.366675           0.898962  0.076938      0.332585           0   \n",
       "\n",
       "      Missingness  \n",
       "89              1  \n",
       "402             1  \n",
       "131             0  \n",
       "124             0  \n",
       "2211            1  "
      ]
     },
     "metadata": {},
     "output_type": "display_data"
    }
   ],
   "source": [
    "print(df_train_3.shape)\n",
    "display(df_train_3.head())\n",
    "print(df_test_3_3.shape)\n",
    "display(df_test_3_3.head())"
   ]
  },
  {
   "cell_type": "code",
   "execution_count": 22,
   "metadata": {},
   "outputs": [],
   "source": [
    "#########\n",
    "#Model by dropping NaN"
   ]
  },
  {
   "cell_type": "code",
   "execution_count": 23,
   "metadata": {},
   "outputs": [
    {
     "name": "stdout",
     "output_type": "stream",
     "text": [
      "(1120, 22)\n"
     ]
    },
    {
     "data": {
      "text/html": [
       "<div>\n",
       "<style scoped>\n",
       "    .dataframe tbody tr th:only-of-type {\n",
       "        vertical-align: middle;\n",
       "    }\n",
       "\n",
       "    .dataframe tbody tr th {\n",
       "        vertical-align: top;\n",
       "    }\n",
       "\n",
       "    .dataframe thead th {\n",
       "        text-align: right;\n",
       "    }\n",
       "</style>\n",
       "<table border=\"1\" class=\"dataframe\">\n",
       "  <thead>\n",
       "    <tr style=\"text-align: right;\">\n",
       "      <th></th>\n",
       "      <th>screen_name</th>\n",
       "      <th>name</th>\n",
       "      <th>bot_in_name</th>\n",
       "      <th>bot_in_des</th>\n",
       "      <th>location</th>\n",
       "      <th>verified</th>\n",
       "      <th>default_profile</th>\n",
       "      <th>default_profile_image</th>\n",
       "      <th>followers_count</th>\n",
       "      <th>listed_count</th>\n",
       "      <th>friends_count</th>\n",
       "      <th>favourites_count</th>\n",
       "      <th>statuses_count</th>\n",
       "      <th>retweet_count_mean</th>\n",
       "      <th>favorite_count_mean</th>\n",
       "      <th>num_hashtags_mean</th>\n",
       "      <th>num_urls_mean</th>\n",
       "      <th>num_mentions_mean</th>\n",
       "      <th>polarity</th>\n",
       "      <th>subjectivity</th>\n",
       "      <th>bot_or_not</th>\n",
       "      <th>Missingness</th>\n",
       "    </tr>\n",
       "  </thead>\n",
       "  <tbody>\n",
       "    <tr>\n",
       "      <th>211</th>\n",
       "      <td>astefanisilva</td>\n",
       "      <td>Amanda</td>\n",
       "      <td>0</td>\n",
       "      <td>0</td>\n",
       "      <td>0</td>\n",
       "      <td>0</td>\n",
       "      <td>0</td>\n",
       "      <td>0</td>\n",
       "      <td>2630</td>\n",
       "      <td>14</td>\n",
       "      <td>3855</td>\n",
       "      <td>0</td>\n",
       "      <td>588</td>\n",
       "      <td>0.0</td>\n",
       "      <td>0.0</td>\n",
       "      <td>0.047619</td>\n",
       "      <td>0.394558</td>\n",
       "      <td>0.112245</td>\n",
       "      <td>0.072187</td>\n",
       "      <td>0.112252</td>\n",
       "      <td>1</td>\n",
       "      <td>0</td>\n",
       "    </tr>\n",
       "    <tr>\n",
       "      <th>174</th>\n",
       "      <td>JuliannacaMadyi</td>\n",
       "      <td>Julianna Madyson</td>\n",
       "      <td>0</td>\n",
       "      <td>0</td>\n",
       "      <td>1</td>\n",
       "      <td>0</td>\n",
       "      <td>0</td>\n",
       "      <td>0</td>\n",
       "      <td>393</td>\n",
       "      <td>1</td>\n",
       "      <td>1471</td>\n",
       "      <td>0</td>\n",
       "      <td>85</td>\n",
       "      <td>0.0</td>\n",
       "      <td>0.0</td>\n",
       "      <td>0.000000</td>\n",
       "      <td>0.329412</td>\n",
       "      <td>0.011765</td>\n",
       "      <td>0.092592</td>\n",
       "      <td>0.371703</td>\n",
       "      <td>1</td>\n",
       "      <td>0</td>\n",
       "    </tr>\n",
       "    <tr>\n",
       "      <th>863</th>\n",
       "      <td>nordestefureve</td>\n",
       "      <td>Fox</td>\n",
       "      <td>0</td>\n",
       "      <td>0</td>\n",
       "      <td>0</td>\n",
       "      <td>0</td>\n",
       "      <td>0</td>\n",
       "      <td>0</td>\n",
       "      <td>586</td>\n",
       "      <td>0</td>\n",
       "      <td>1989</td>\n",
       "      <td>0</td>\n",
       "      <td>52</td>\n",
       "      <td>0.0</td>\n",
       "      <td>0.0</td>\n",
       "      <td>0.500000</td>\n",
       "      <td>0.807692</td>\n",
       "      <td>0.211538</td>\n",
       "      <td>0.012821</td>\n",
       "      <td>0.025641</td>\n",
       "      <td>1</td>\n",
       "      <td>0</td>\n",
       "    </tr>\n",
       "    <tr>\n",
       "      <th>647</th>\n",
       "      <td>hillaryapplebee</td>\n",
       "      <td>Hillary Applebee</td>\n",
       "      <td>0</td>\n",
       "      <td>0</td>\n",
       "      <td>0</td>\n",
       "      <td>0</td>\n",
       "      <td>0</td>\n",
       "      <td>0</td>\n",
       "      <td>1061</td>\n",
       "      <td>4</td>\n",
       "      <td>1874</td>\n",
       "      <td>0</td>\n",
       "      <td>25</td>\n",
       "      <td>0.0</td>\n",
       "      <td>0.0</td>\n",
       "      <td>0.160000</td>\n",
       "      <td>0.480000</td>\n",
       "      <td>1.200000</td>\n",
       "      <td>0.194369</td>\n",
       "      <td>0.452571</td>\n",
       "      <td>1</td>\n",
       "      <td>0</td>\n",
       "    </tr>\n",
       "    <tr>\n",
       "      <th>871</th>\n",
       "      <td>EduKalore</td>\n",
       "      <td>eduardo rebellato</td>\n",
       "      <td>0</td>\n",
       "      <td>0</td>\n",
       "      <td>0</td>\n",
       "      <td>0</td>\n",
       "      <td>0</td>\n",
       "      <td>0</td>\n",
       "      <td>278</td>\n",
       "      <td>4</td>\n",
       "      <td>911</td>\n",
       "      <td>1</td>\n",
       "      <td>54</td>\n",
       "      <td>0.0</td>\n",
       "      <td>0.0</td>\n",
       "      <td>0.203704</td>\n",
       "      <td>0.425926</td>\n",
       "      <td>0.185185</td>\n",
       "      <td>0.012346</td>\n",
       "      <td>0.024691</td>\n",
       "      <td>1</td>\n",
       "      <td>0</td>\n",
       "    </tr>\n",
       "  </tbody>\n",
       "</table>\n",
       "</div>"
      ],
      "text/plain": [
       "         screen_name               name  bot_in_name  bot_in_des  location  \\\n",
       "211    astefanisilva             Amanda            0           0         0   \n",
       "174  JuliannacaMadyi   Julianna Madyson            0           0         1   \n",
       "863   nordestefureve                Fox            0           0         0   \n",
       "647  hillaryapplebee   Hillary Applebee            0           0         0   \n",
       "871        EduKalore  eduardo rebellato            0           0         0   \n",
       "\n",
       "     verified  default_profile  default_profile_image  followers_count  \\\n",
       "211         0                0                      0             2630   \n",
       "174         0                0                      0              393   \n",
       "863         0                0                      0              586   \n",
       "647         0                0                      0             1061   \n",
       "871         0                0                      0              278   \n",
       "\n",
       "     listed_count  friends_count  favourites_count  statuses_count  \\\n",
       "211            14           3855                 0             588   \n",
       "174             1           1471                 0              85   \n",
       "863             0           1989                 0              52   \n",
       "647             4           1874                 0              25   \n",
       "871             4            911                 1              54   \n",
       "\n",
       "     retweet_count_mean  favorite_count_mean  num_hashtags_mean  \\\n",
       "211                 0.0                  0.0           0.047619   \n",
       "174                 0.0                  0.0           0.000000   \n",
       "863                 0.0                  0.0           0.500000   \n",
       "647                 0.0                  0.0           0.160000   \n",
       "871                 0.0                  0.0           0.203704   \n",
       "\n",
       "     num_urls_mean  num_mentions_mean  polarity  subjectivity  bot_or_not  \\\n",
       "211       0.394558           0.112245  0.072187      0.112252           1   \n",
       "174       0.329412           0.011765  0.092592      0.371703           1   \n",
       "863       0.807692           0.211538  0.012821      0.025641           1   \n",
       "647       0.480000           1.200000  0.194369      0.452571           1   \n",
       "871       0.425926           0.185185  0.012346      0.024691           1   \n",
       "\n",
       "     Missingness  \n",
       "211            0  \n",
       "174            0  \n",
       "863            0  \n",
       "647            0  \n",
       "871            0  "
      ]
     },
     "metadata": {},
     "output_type": "display_data"
    },
    {
     "name": "stdout",
     "output_type": "stream",
     "text": [
      "(386, 22)\n"
     ]
    },
    {
     "data": {
      "text/html": [
       "<div>\n",
       "<style scoped>\n",
       "    .dataframe tbody tr th:only-of-type {\n",
       "        vertical-align: middle;\n",
       "    }\n",
       "\n",
       "    .dataframe tbody tr th {\n",
       "        vertical-align: top;\n",
       "    }\n",
       "\n",
       "    .dataframe thead th {\n",
       "        text-align: right;\n",
       "    }\n",
       "</style>\n",
       "<table border=\"1\" class=\"dataframe\">\n",
       "  <thead>\n",
       "    <tr style=\"text-align: right;\">\n",
       "      <th></th>\n",
       "      <th>screen_name</th>\n",
       "      <th>name</th>\n",
       "      <th>bot_in_name</th>\n",
       "      <th>bot_in_des</th>\n",
       "      <th>location</th>\n",
       "      <th>verified</th>\n",
       "      <th>default_profile</th>\n",
       "      <th>default_profile_image</th>\n",
       "      <th>followers_count</th>\n",
       "      <th>listed_count</th>\n",
       "      <th>friends_count</th>\n",
       "      <th>favourites_count</th>\n",
       "      <th>statuses_count</th>\n",
       "      <th>retweet_count_mean</th>\n",
       "      <th>favorite_count_mean</th>\n",
       "      <th>num_hashtags_mean</th>\n",
       "      <th>num_urls_mean</th>\n",
       "      <th>num_mentions_mean</th>\n",
       "      <th>polarity</th>\n",
       "      <th>subjectivity</th>\n",
       "      <th>bot_or_not</th>\n",
       "      <th>Missingness</th>\n",
       "    </tr>\n",
       "  </thead>\n",
       "  <tbody>\n",
       "    <tr>\n",
       "      <th>131</th>\n",
       "      <td>idigjamesbond1</td>\n",
       "      <td>idigjamesbond</td>\n",
       "      <td>0</td>\n",
       "      <td>0</td>\n",
       "      <td>0</td>\n",
       "      <td>0</td>\n",
       "      <td>0</td>\n",
       "      <td>0</td>\n",
       "      <td>1018</td>\n",
       "      <td>6</td>\n",
       "      <td>1943</td>\n",
       "      <td>1</td>\n",
       "      <td>13095</td>\n",
       "      <td>0.006169</td>\n",
       "      <td>0.012338</td>\n",
       "      <td>0.0</td>\n",
       "      <td>0.465762</td>\n",
       "      <td>0.0</td>\n",
       "      <td>0.178620</td>\n",
       "      <td>0.370753</td>\n",
       "      <td>1</td>\n",
       "      <td>0</td>\n",
       "    </tr>\n",
       "    <tr>\n",
       "      <th>124</th>\n",
       "      <td>Iloveseniorfitn</td>\n",
       "      <td>Love Senior Fitness</td>\n",
       "      <td>0</td>\n",
       "      <td>1</td>\n",
       "      <td>0</td>\n",
       "      <td>0</td>\n",
       "      <td>0</td>\n",
       "      <td>0</td>\n",
       "      <td>1037</td>\n",
       "      <td>10</td>\n",
       "      <td>1799</td>\n",
       "      <td>1</td>\n",
       "      <td>12277</td>\n",
       "      <td>0.004938</td>\n",
       "      <td>0.012963</td>\n",
       "      <td>0.0</td>\n",
       "      <td>0.457407</td>\n",
       "      <td>0.0</td>\n",
       "      <td>0.184388</td>\n",
       "      <td>0.377921</td>\n",
       "      <td>1</td>\n",
       "      <td>0</td>\n",
       "    </tr>\n",
       "    <tr>\n",
       "      <th>245</th>\n",
       "      <td>JasonJacksonLeo</td>\n",
       "      <td>Jason Leo</td>\n",
       "      <td>0</td>\n",
       "      <td>1</td>\n",
       "      <td>0</td>\n",
       "      <td>0</td>\n",
       "      <td>0</td>\n",
       "      <td>0</td>\n",
       "      <td>588</td>\n",
       "      <td>4</td>\n",
       "      <td>1324</td>\n",
       "      <td>1</td>\n",
       "      <td>11159</td>\n",
       "      <td>0.008679</td>\n",
       "      <td>0.020769</td>\n",
       "      <td>0.0</td>\n",
       "      <td>0.464042</td>\n",
       "      <td>0.0</td>\n",
       "      <td>0.178078</td>\n",
       "      <td>0.375232</td>\n",
       "      <td>1</td>\n",
       "      <td>0</td>\n",
       "    </tr>\n",
       "    <tr>\n",
       "      <th>167</th>\n",
       "      <td>tommyboyceandbo</td>\n",
       "      <td>Boyce &amp; Bobby</td>\n",
       "      <td>0</td>\n",
       "      <td>1</td>\n",
       "      <td>0</td>\n",
       "      <td>0</td>\n",
       "      <td>0</td>\n",
       "      <td>0</td>\n",
       "      <td>1215</td>\n",
       "      <td>7</td>\n",
       "      <td>733</td>\n",
       "      <td>0</td>\n",
       "      <td>12915</td>\n",
       "      <td>0.004360</td>\n",
       "      <td>0.017440</td>\n",
       "      <td>0.0</td>\n",
       "      <td>0.448147</td>\n",
       "      <td>0.0</td>\n",
       "      <td>0.171472</td>\n",
       "      <td>0.374131</td>\n",
       "      <td>1</td>\n",
       "      <td>0</td>\n",
       "    </tr>\n",
       "    <tr>\n",
       "      <th>327</th>\n",
       "      <td>Whitforddig</td>\n",
       "      <td>Claris Whitford</td>\n",
       "      <td>0</td>\n",
       "      <td>1</td>\n",
       "      <td>0</td>\n",
       "      <td>0</td>\n",
       "      <td>1</td>\n",
       "      <td>0</td>\n",
       "      <td>900</td>\n",
       "      <td>1</td>\n",
       "      <td>384</td>\n",
       "      <td>0</td>\n",
       "      <td>11078</td>\n",
       "      <td>0.002795</td>\n",
       "      <td>0.016460</td>\n",
       "      <td>0.0</td>\n",
       "      <td>0.463975</td>\n",
       "      <td>0.0</td>\n",
       "      <td>0.175562</td>\n",
       "      <td>0.365729</td>\n",
       "      <td>1</td>\n",
       "      <td>0</td>\n",
       "    </tr>\n",
       "  </tbody>\n",
       "</table>\n",
       "</div>"
      ],
      "text/plain": [
       "         screen_name                 name  bot_in_name  bot_in_des  location  \\\n",
       "131   idigjamesbond1        idigjamesbond            0           0         0   \n",
       "124  Iloveseniorfitn  Love Senior Fitness            0           1         0   \n",
       "245  JasonJacksonLeo            Jason Leo            0           1         0   \n",
       "167  tommyboyceandbo       Boyce & Bobby             0           1         0   \n",
       "327      Whitforddig      Claris Whitford            0           1         0   \n",
       "\n",
       "     verified  default_profile  default_profile_image  followers_count  \\\n",
       "131         0                0                      0             1018   \n",
       "124         0                0                      0             1037   \n",
       "245         0                0                      0              588   \n",
       "167         0                0                      0             1215   \n",
       "327         0                1                      0              900   \n",
       "\n",
       "     listed_count  friends_count  favourites_count  statuses_count  \\\n",
       "131             6           1943                 1           13095   \n",
       "124            10           1799                 1           12277   \n",
       "245             4           1324                 1           11159   \n",
       "167             7            733                 0           12915   \n",
       "327             1            384                 0           11078   \n",
       "\n",
       "     retweet_count_mean  favorite_count_mean  num_hashtags_mean  \\\n",
       "131            0.006169             0.012338                0.0   \n",
       "124            0.004938             0.012963                0.0   \n",
       "245            0.008679             0.020769                0.0   \n",
       "167            0.004360             0.017440                0.0   \n",
       "327            0.002795             0.016460                0.0   \n",
       "\n",
       "     num_urls_mean  num_mentions_mean  polarity  subjectivity  bot_or_not  \\\n",
       "131       0.465762                0.0  0.178620      0.370753           1   \n",
       "124       0.457407                0.0  0.184388      0.377921           1   \n",
       "245       0.464042                0.0  0.178078      0.375232           1   \n",
       "167       0.448147                0.0  0.171472      0.374131           1   \n",
       "327       0.463975                0.0  0.175562      0.365729           1   \n",
       "\n",
       "     Missingness  \n",
       "131            0  \n",
       "124            0  \n",
       "245            0  \n",
       "167            0  \n",
       "327            0  "
      ]
     },
     "metadata": {},
     "output_type": "display_data"
    }
   ],
   "source": [
    "df_train_dn = df_train.dropna()\n",
    "print(df_train_dn.shape)\n",
    "display(df_train_dn.head())\n",
    "df_test_3_dn = df_test_3.dropna()\n",
    "print(df_test_3_dn.shape)\n",
    "display(df_test_3_dn.head())"
   ]
  },
  {
   "cell_type": "code",
   "execution_count": 24,
   "metadata": {},
   "outputs": [],
   "source": [
    "#Prepare dataset to feed into the model\n",
    "\n",
    "# X_train from df_train\n",
    "X_train = df_train_3.drop(columns=['bot_or_not', 'screen_name', 'name'])\n",
    "X_train_dn = df_train_dn.drop(columns=['bot_or_not', 'screen_name', 'name'])\n",
    "\n",
    "# y_trian from df_train\n",
    "y_train = df_train_3[['bot_or_not']]\n",
    "y_train_dn = df_train_dn[['bot_or_not']]\n",
    "\n",
    "# X_test_3 from df_test_3\n",
    "X_test_3 = df_test_3_3.drop(columns=['bot_or_not', 'screen_name', 'name'])\n",
    "X_test_dn = df_test_3_dn.drop(columns=['bot_or_not', 'screen_name', 'name'])\n",
    "\n",
    "# y_test_3 from df_test_3\n",
    "y_test_3 = df_test_3_3[['bot_or_not']]\n",
    "y_test_dn = df_test_3_dn[['bot_or_not']]"
   ]
  },
  {
   "cell_type": "code",
   "execution_count": 25,
   "metadata": {},
   "outputs": [],
   "source": [
    "# standardize dataset\n",
    "\n",
    "def standardize (df,df_train):\n",
    "    con_var = ['followers_count', 'listed_count', 'friends_count', 'favourites_count', 'statuses_count',\n",
    "               'retweet_count_mean','favorite_count_mean','num_hashtags_mean','num_urls_mean','num_mentions_mean',\n",
    "              'polarity','subjectivity']\n",
    "\n",
    "    for var in con_var:\n",
    "        x = df[var]\n",
    "        x = (x - x.mean())/x.std()\n",
    "        df[var] = x\n",
    "    \n",
    "    return df\n",
    "\n",
    "X_train_norm = standardize(X_train,X_train)\n",
    "X_test_3_norm = standardize(X_test_3,X_train)\n",
    "X_train_norm_dn = standardize(X_train_dn,X_train_dn)\n",
    "X_test_3_norm_dn = standardize(X_test_dn,X_train_dn)"
   ]
  },
  {
   "cell_type": "code",
   "execution_count": 26,
   "metadata": {},
   "outputs": [
    {
     "name": "stdout",
     "output_type": "stream",
     "text": [
      "accuracy score of the training set is 100.0%\n",
      "accuracy score of the test set with social spambot #3 is 49.0301724137931%\n"
     ]
    }
   ],
   "source": [
    "# Simple Decision Tree with linear imputation\n",
    "\n",
    "decision_model = DecisionTreeClassifier(criterion='gini', splitter='best', max_depth=3)\n",
    "decision_model.fit(X_train, y_train)\n",
    "\n",
    "y_pred_train_dec = decision_model.predict(X_train_norm)\n",
    "y_pred_test_3_dec = decision_model.predict(X_test_3_norm)\n",
    "\n",
    "train_score_dec = accuracy_score(y_train, y_pred_train_dec) * 100\n",
    "test_score_3_dec = accuracy_score(y_test_3, y_pred_test_3_dec) * 100\n",
    "\n",
    "print('accuracy score of the training set is {}%'.format(train_score_dec))\n",
    "print('accuracy score of the test set with social spambot #3 is {}%'.format(test_score_3_dec))"
   ]
  },
  {
   "cell_type": "code",
   "execution_count": 27,
   "metadata": {},
   "outputs": [
    {
     "name": "stdout",
     "output_type": "stream",
     "text": [
      "accuracy score of the training set is 100.0%\n",
      "accuracy score of the test set with social spambot #3 is 95.07772020725389%\n"
     ]
    }
   ],
   "source": [
    "# Simple Decision Tree with dropna\n",
    "\n",
    "decision_model = DecisionTreeClassifier(criterion='gini', splitter='best', max_depth=3)\n",
    "decision_model.fit(X_train_dn, y_train_dn)\n",
    "\n",
    "y_pred_train_dec = decision_model.predict(X_train_norm_dn)\n",
    "y_pred_test_3_dec = decision_model.predict(X_test_3_norm_dn)\n",
    "\n",
    "train_score_dec = accuracy_score(y_train_dn, y_pred_train_dec) * 100\n",
    "test_score_3_dec = accuracy_score(y_test_dn, y_pred_test_3_dec) * 100\n",
    "\n",
    "print('accuracy score of the training set is {}%'.format(train_score_dec))\n",
    "print('accuracy score of the test set with social spambot #3 is {}%'.format(test_score_3_dec))"
   ]
  },
  {
   "cell_type": "code",
   "execution_count": 28,
   "metadata": {},
   "outputs": [],
   "source": [
    "depth = np.arange(2,30,1)\n",
    "decision_score_mean=[]\n",
    "decision_score_std=[]\n",
    "test_1_score = []\n",
    "test_3_score = []\n",
    "\n",
    "for i in depth:\n",
    "    decision_model = DecisionTreeClassifier(criterion='gini', splitter='best', max_depth=i)\n",
    "    decision_model.fit(X_train_norm, y_train)\n",
    "    score = cross_val_score(estimator = decision_model, X = X_train_norm, y = y_train, cv = 5)\n",
    "    decision_score_mean.append(score.mean())\n",
    "    decision_score_std.append(score.std())\n",
    "    test_3_score.append(accuracy_score(y_test_3, decision_model.predict(X_test_3_norm)))"
   ]
  },
  {
   "cell_type": "code",
   "execution_count": 29,
   "metadata": {},
   "outputs": [
    {
     "data": {
      "text/plain": [
       "Text(0,0.5,'test set accuracy score')"
      ]
     },
     "execution_count": 29,
     "metadata": {},
     "output_type": "execute_result"
    },
    {
     "data": {
      "image/png": "[encoded data removed]",
      "text/plain": [
       "<Figure size 1080x360 with 2 Axes>"
      ]
     },
     "metadata": {},
     "output_type": "display_data"
    }
   ],
   "source": [
    "fig, ax = plt.subplots(1,2, figsize = (15,5))\n",
    "\n",
    "ax[0].plot(depth, decision_score_mean, '-*')\n",
    "ax[0].fill_between(\n",
    "    depth,\n",
    "    np.array(decision_score_mean) - 2 * np.array(decision_score_std),\n",
    "    np.array(decision_score_mean) + 2 * np.array(decision_score_std),\n",
    "    alpha=.3)\n",
    "ax[0].set_title('validation accuracy vs depth')\n",
    "ax[0].set_xlabel('max depth')\n",
    "ax[0].set_ylabel('validation accuracy +- 2 std')\n",
    "\n",
    "ax[1].plot(depth, test_3_score)\n",
    "ax[1].set_title('spambots3 test set accuracy vs depth')\n",
    "ax[1].set_xlabel('max depth')\n",
    "ax[1].set_ylabel('test set accuracy score')"
   ]
  },
  {
   "cell_type": "code",
   "execution_count": 30,
   "metadata": {},
   "outputs": [
    {
     "name": "stderr",
     "output_type": "stream",
     "text": [
      "/anaconda3/lib/python3.6/site-packages/sklearn/utils/validation.py:578: DataConversionWarning: A column-vector y was passed when a 1d array was expected. Please change the shape of y to (n_samples, ), for example using ravel().\n",
      "  y = column_or_1d(y, warn=True)\n"
     ]
    },
    {
     "name": "stdout",
     "output_type": "stream",
     "text": [
      "accuracy score of the training set is 100.0%\n",
      "accuracy score of the test set with social spambot #3 is 94.07327586206897%\n"
     ]
    }
   ],
   "source": [
    "# bagging with linear imputation\n",
    "overfit_depth = 100\n",
    "N = 100\n",
    "\n",
    "bagging_model = BaggingClassifier(DecisionTreeClassifier(criterion='gini', splitter='best', max_depth=overfit_depth), \n",
    "                                  n_estimators = N, bootstrap = True, oob_score = True)\n",
    "bagging_model.fit(X_train_norm, y_train)\n",
    "\n",
    "y_pred_train_bag = bagging_model.predict(X_train_norm)\n",
    "y_pred_test_3_bag = bagging_model.predict(X_test_3_norm)\n",
    "\n",
    "train_score_bag = accuracy_score(y_train, y_pred_train_bag) * 100\n",
    "test_score_3_bag = accuracy_score(y_test_3, y_pred_test_3_bag) * 100\n",
    "\n",
    "print('accuracy score of the training set is {}%'.format(train_score_bag))\n",
    "print('accuracy score of the test set with social spambot #3 is {}%'.format(test_score_3_bag))"
   ]
  },
  {
   "cell_type": "code",
   "execution_count": 31,
   "metadata": {},
   "outputs": [
    {
     "name": "stdout",
     "output_type": "stream",
     "text": [
      "accuracy score of the training set is 100.0%\n",
      "accuracy score of the test set with social spambot #3 is 95.07772020725389%\n"
     ]
    },
    {
     "name": "stderr",
     "output_type": "stream",
     "text": [
      "/anaconda3/lib/python3.6/site-packages/sklearn/utils/validation.py:578: DataConversionWarning: A column-vector y was passed when a 1d array was expected. Please change the shape of y to (n_samples, ), for example using ravel().\n",
      "  y = column_or_1d(y, warn=True)\n"
     ]
    }
   ],
   "source": [
    "# bagging with dropna\n",
    "overfit_depth = 100\n",
    "N = 100\n",
    "\n",
    "bagging_model = BaggingClassifier(DecisionTreeClassifier(criterion='gini', splitter='best', max_depth=overfit_depth), \n",
    "                                  n_estimators = N, bootstrap = True, oob_score = True)\n",
    "bagging_model.fit(X_train_norm_dn, y_train_dn)\n",
    "\n",
    "y_pred_train_bag = bagging_model.predict(X_train_norm_dn)\n",
    "y_pred_test_3_bag = bagging_model.predict(X_test_3_norm_dn)\n",
    "\n",
    "train_score_bag = accuracy_score(y_train_dn, y_pred_train_bag) * 100\n",
    "test_score_3_bag = accuracy_score(y_test_dn, y_pred_test_3_bag) * 100\n",
    "\n",
    "print('accuracy score of the training set is {}%'.format(train_score_bag))\n",
    "print('accuracy score of the test set with social spambot #3 is {}%'.format(test_score_3_bag))"
   ]
  },
  {
   "cell_type": "code",
   "execution_count": 32,
   "metadata": {},
   "outputs": [
    {
     "name": "stdout",
     "output_type": "stream",
     "text": [
      "accuracy score of the training set is 100.0%\n",
      "accuracy score of the test set with social spambot #3 is 82.4353448275862%\n"
     ]
    },
    {
     "name": "stderr",
     "output_type": "stream",
     "text": [
      "/anaconda3/lib/python3.6/site-packages/sklearn/utils/validation.py:578: DataConversionWarning: A column-vector y was passed when a 1d array was expected. Please change the shape of y to (n_samples, ), for example using ravel().\n",
      "  y = column_or_1d(y, warn=True)\n"
     ]
    }
   ],
   "source": [
    "#ada boosting with linear imputation\n",
    "ada_model = AdaBoostClassifier(base_estimator=DecisionTreeClassifier(max_depth=3),  \n",
    "                               n_estimators=800, learning_rate=0.05)\n",
    "\n",
    "ada_model.fit(X_train_norm, y_train)\n",
    "\n",
    "y_pred_train_ada = ada_model.predict(X_train_norm)\n",
    "y_pred_test_3_ada = ada_model.predict(X_test_3_norm)\n",
    "\n",
    "train_score_ada = accuracy_score(y_train, y_pred_train_ada) * 100\n",
    "test_score_3_ada = accuracy_score(y_test_3, y_pred_test_3_ada) * 100\n",
    "\n",
    "print('accuracy score of the training set is {}%'.format(train_score_ada))\n",
    "print('accuracy score of the test set with social spambot #3 is {}%'.format(test_score_3_ada))"
   ]
  },
  {
   "cell_type": "code",
   "execution_count": 33,
   "metadata": {},
   "outputs": [
    {
     "name": "stdout",
     "output_type": "stream",
     "text": [
      "accuracy score of the training set is 100.0%\n",
      "accuracy score of the test set with social spambot #3 is 95.07772020725389%\n"
     ]
    },
    {
     "name": "stderr",
     "output_type": "stream",
     "text": [
      "/anaconda3/lib/python3.6/site-packages/sklearn/utils/validation.py:578: DataConversionWarning: A column-vector y was passed when a 1d array was expected. Please change the shape of y to (n_samples, ), for example using ravel().\n",
      "  y = column_or_1d(y, warn=True)\n"
     ]
    }
   ],
   "source": [
    "#ada boosting with dropna\n",
    "ada_model = AdaBoostClassifier(base_estimator=DecisionTreeClassifier(max_depth=3),  \n",
    "                               n_estimators=800, learning_rate=0.05)\n",
    "\n",
    "ada_model.fit(X_train_norm_dn, y_train_dn)\n",
    "\n",
    "y_pred_train_ada = ada_model.predict(X_train_norm_dn)\n",
    "y_pred_test_3_ada = ada_model.predict(X_test_3_norm_dn)\n",
    "\n",
    "train_score_ada = accuracy_score(y_train_dn, y_pred_train_ada) * 100\n",
    "test_score_3_ada = accuracy_score(y_test_dn, y_pred_test_3_ada) * 100\n",
    "\n",
    "print('accuracy score of the training set is {}%'.format(train_score_ada))\n",
    "print('accuracy score of the test set with social spambot #3 is {}%'.format(test_score_3_ada))"
   ]
  },
  {
   "cell_type": "code",
   "execution_count": 34,
   "metadata": {},
   "outputs": [
    {
     "name": "stderr",
     "output_type": "stream",
     "text": [
      "/anaconda3/lib/python3.6/site-packages/ipykernel_launcher.py:8: DataConversionWarning: A column-vector y was passed when a 1d array was expected. Please change the shape of y to (n_samples,), for example using ravel().\n",
      "  \n"
     ]
    },
    {
     "name": "stdout",
     "output_type": "stream",
     "text": [
      "accuracy score of the training set is 100.0%\n",
      "accuracy score of the test set with social spambot #3 is 83.1896551724138%\n"
     ]
    }
   ],
   "source": [
    "#Random Forests with linear imputation\n",
    "overfit_depth = 100\n",
    "N = 100\n",
    "\n",
    "rf_model = RandomForestClassifier(n_estimators = N, criterion='gini', \n",
    "                                  max_features='auto', max_depth = overfit_depth, bootstrap=True,\n",
    "                                 oob_score=True)\n",
    "rf_model.fit(X_train_norm, y_train)\n",
    "\n",
    "y_pred_train = rf_model.predict(X_train_norm)\n",
    "y_pred_test_3 = rf_model.predict(X_test_3_norm)\n",
    "\n",
    "train_score = accuracy_score(y_train, y_pred_train) * 100\n",
    "test_score_3 = accuracy_score(y_test_3, y_pred_test_3) * 100\n",
    "\n",
    "oobs_score = rf_model.oob_score_\n",
    "\n",
    "print('accuracy score of the training set is {}%'.format(train_score))\n",
    "print('accuracy score of the test set with social spambot #3 is {}%'.format(test_score_3))"
   ]
  },
  {
   "cell_type": "code",
   "execution_count": 35,
   "metadata": {},
   "outputs": [
    {
     "data": {
      "text/plain": [
       "<matplotlib.axes._subplots.AxesSubplot at 0x1a228d3080>"
      ]
     },
     "execution_count": 35,
     "metadata": {},
     "output_type": "execute_result"
    },
    {
     "data": {
      "image/png": "[encoded data removed]",
      "text/plain": [
       "<Figure size 432x288 with 1 Axes>"
      ]
     },
     "metadata": {},
     "output_type": "display_data"
    }
   ],
   "source": [
    "#showing significant features\n",
    "pd.Series(rf_model.feature_importances_,index=list(X_train_norm)).sort_values().plot(kind=\"barh\")"
   ]
  },
  {
   "cell_type": "code",
   "execution_count": 36,
   "metadata": {},
   "outputs": [
    {
     "name": "stderr",
     "output_type": "stream",
     "text": [
      "/anaconda3/lib/python3.6/site-packages/ipykernel_launcher.py:8: DataConversionWarning: A column-vector y was passed when a 1d array was expected. Please change the shape of y to (n_samples,), for example using ravel().\n",
      "  \n"
     ]
    },
    {
     "name": "stdout",
     "output_type": "stream",
     "text": [
      "accuracy score of the training set is 100.0%\n",
      "accuracy score of the test set with social spambot #3 is 96.6321243523316%\n"
     ]
    }
   ],
   "source": [
    "#Random Forests with dropna\n",
    "overfit_depth = 100\n",
    "N = 100\n",
    "\n",
    "rf_model = RandomForestClassifier(n_estimators = N, criterion='gini', \n",
    "                                  max_features='auto', max_depth = overfit_depth, bootstrap=True,\n",
    "                                 oob_score=True)\n",
    "rf_model.fit(X_train_norm_dn, y_train_dn)\n",
    "\n",
    "y_pred_train = rf_model.predict(X_train_norm_dn)\n",
    "y_pred_test_3 = rf_model.predict(X_test_3_norm_dn)\n",
    "\n",
    "train_score = accuracy_score(y_train_dn, y_pred_train) * 100\n",
    "test_score_3 = accuracy_score(y_test_dn, y_pred_test_3) * 100\n",
    "\n",
    "oobs_score = rf_model.oob_score_\n",
    "\n",
    "print('accuracy score of the training set is {}%'.format(train_score))\n",
    "print('accuracy score of the test set with social spambot #3 is {}%'.format(test_score_3))"
   ]
  },
  {
   "cell_type": "code",
   "execution_count": 37,
   "metadata": {},
   "outputs": [
    {
     "data": {
      "text/plain": [
       "<matplotlib.axes._subplots.AxesSubplot at 0x1a21919ef0>"
      ]
     },
     "execution_count": 37,
     "metadata": {},
     "output_type": "execute_result"
    },
    {
     "data": {
      "image/png": "[encoded data removed]",
      "text/plain": [
       "<Figure size 432x288 with 1 Axes>"
      ]
     },
     "metadata": {},
     "output_type": "display_data"
    }
   ],
   "source": [
    "#showing significant features\n",
    "pd.Series(rf_model.feature_importances_,index=list(X_train_norm_dn)).sort_values().plot(kind=\"barh\")"
   ]
  },
  {
   "cell_type": "code",
   "execution_count": 38,
   "metadata": {
    "scrolled": false
   },
   "outputs": [
    {
     "name": "stdout",
     "output_type": "stream",
     "text": [
      "accuracy score of the training set is 99.95%\n",
      "accuracy score of the test set with social spambot #3 is 95.6896551724138%\n"
     ]
    }
   ],
   "source": [
    "# Multinominal Logistic Regression with linear imputation\n",
    "\n",
    "log_model = LogisticRegressionCV(fit_intercept=True, cv=5, multi_class=\"ovr\", penalty='l2', max_iter=10000)\n",
    "log_model.fit(X_train, y_train.values.reshape(-1))\n",
    "\n",
    "y_pred_train_log = log_model.predict(X_train_norm)\n",
    "y_pred_test_3_log = log_model.predict(X_test_3_norm)\n",
    "\n",
    "train_score_log = accuracy_score(y_train, y_pred_train_log) * 100\n",
    "test_score_3_log = accuracy_score(y_test_3, y_pred_test_3_log) * 100\n",
    "\n",
    "print('accuracy score of the training set is {}%'.format(train_score_log))\n",
    "print('accuracy score of the test set with social spambot #3 is {}%'.format(test_score_3_log))"
   ]
  },
  {
   "cell_type": "code",
   "execution_count": 39,
   "metadata": {},
   "outputs": [
    {
     "name": "stdout",
     "output_type": "stream",
     "text": [
      "accuracy score of the training set is 100.0%\n",
      "accuracy score of the test set with social spambot #3 is 95.59585492227978%\n"
     ]
    }
   ],
   "source": [
    "# Multinominal Logistic Regression with dropna\n",
    "\n",
    "log_model = LogisticRegressionCV(fit_intercept=True, cv=5, multi_class=\"ovr\", penalty='l2', max_iter=10000)\n",
    "log_model.fit(X_train_dn, y_train_dn.values.reshape(-1))\n",
    "\n",
    "y_pred_train_log = log_model.predict(X_train_norm_dn)\n",
    "y_pred_test_3_log = log_model.predict(X_test_3_norm_dn)\n",
    "\n",
    "train_score_log = accuracy_score(y_train_dn, y_pred_train_log) * 100\n",
    "test_score_3_log = accuracy_score(y_test_dn, y_pred_test_3_log) * 100\n",
    "\n",
    "print('accuracy score of the training set is {}%'.format(train_score_log))\n",
    "print('accuracy score of the test set with social spambot #3 is {}%'.format(test_score_3_log))"
   ]
  },
  {
   "cell_type": "code",
   "execution_count": 40,
   "metadata": {},
   "outputs": [
    {
     "data": {
      "text/plain": [
       "Text(0,0.5,'Mean Accuracy Score')"
      ]
     },
     "execution_count": 40,
     "metadata": {},
     "output_type": "execute_result"
    },
    {
     "data": {
      "image/png": "[encoded data removed]",
      "text/plain": [
       "<Figure size 864x360 with 1 Axes>"
      ]
     },
     "metadata": {},
     "output_type": "display_data"
    }
   ],
   "source": [
    "#kNN  with linear imputation\n",
    "kvals = [1, 2, 5, 7, 10, 15, 20, 25, 30, 50]\n",
    "knn_score_train = []\n",
    "\n",
    "for i in kvals:\n",
    "    model_knn = KNeighborsClassifier(n_neighbors=i, weights = 'uniform')\n",
    "    train_score = cross_val_score(model_knn, X = X_train_norm, y = y_train.values.reshape(-1), cv=5)\n",
    "    knn_score_train.append(train_score.mean())\n",
    "\n",
    "fig, ax = plt.subplots(1,1, figsize = (12,5))\n",
    "\n",
    "ax.plot(kvals, knn_score_train)\n",
    "ax.set_title(\"Train Set Score\")\n",
    "ax.set_xlabel(\"kvals\")\n",
    "ax.set_ylabel(\"Mean Accuracy Score\")"
   ]
  },
  {
   "cell_type": "code",
   "execution_count": 41,
   "metadata": {
    "scrolled": true
   },
   "outputs": [
    {
     "name": "stdout",
     "output_type": "stream",
     "text": [
      "accuracy score of the training set is 100.0%\n",
      "accuracy score of the test set with social spambot #3 is 92.88793103448276%\n"
     ]
    }
   ],
   "source": [
    "knn_model = KNeighborsClassifier(n_neighbors=10,weights = 'uniform')\n",
    "knn_model.fit(X_train, y_train.values.reshape(-1))\n",
    "\n",
    "y_pred_train_knn = knn_model.predict(X_train)\n",
    "y_pred_test_3_knn = knn_model.predict(X_test_3)\n",
    "\n",
    "train_score_knn = accuracy_score(y_train, y_pred_train_knn) * 100\n",
    "test_score_3_knn = accuracy_score(y_test_3, y_pred_test_3_knn) * 100\n",
    "\n",
    "print('accuracy score of the training set is {}%'.format(train_score_log))\n",
    "print('accuracy score of the test set with social spambot #3 is {}%'.format(test_score_3_knn))"
   ]
  },
  {
   "cell_type": "code",
   "execution_count": 42,
   "metadata": {},
   "outputs": [
    {
     "data": {
      "text/plain": [
       "Text(0,0.5,'Mean Accuracy Score')"
      ]
     },
     "execution_count": 42,
     "metadata": {},
     "output_type": "execute_result"
    },
    {
     "data": {
      "image/png": "[encoded data removed]",
      "text/plain": [
       "<Figure size 864x360 with 1 Axes>"
      ]
     },
     "metadata": {},
     "output_type": "display_data"
    }
   ],
   "source": [
    "#kNN  with dropna\n",
    "kvals = [1, 2, 5, 7, 10, 15, 20, 25, 30, 50]\n",
    "knn_score_train = []\n",
    "\n",
    "for i in kvals:\n",
    "    model_knn = KNeighborsClassifier(n_neighbors=i, weights = 'uniform')\n",
    "    train_score = cross_val_score(model_knn, X = X_train_norm_dn, y = y_train_dn.values.reshape(-1), cv=5)\n",
    "    knn_score_train.append(train_score.mean())\n",
    "\n",
    "fig, ax = plt.subplots(1,1, figsize = (12,5))\n",
    "\n",
    "ax.plot(kvals, knn_score_train)\n",
    "ax.set_title(\"Train Set Score\")\n",
    "ax.set_xlabel(\"kvals\")\n",
    "ax.set_ylabel(\"Mean Accuracy Score\")"
   ]
  },
  {
   "cell_type": "code",
   "execution_count": 43,
   "metadata": {},
   "outputs": [
    {
     "name": "stdout",
     "output_type": "stream",
     "text": [
      "accuracy score of the training set is 100.0%\n",
      "accuracy score of the test set with social spambot #3 is 91.19170984455958%\n"
     ]
    }
   ],
   "source": [
    "knn_model = KNeighborsClassifier(n_neighbors=10,weights = 'uniform')\n",
    "knn_model.fit(X_train_dn, y_train_dn.values.reshape(-1))\n",
    "\n",
    "y_pred_train_knn = knn_model.predict(X_train_norm_dn)\n",
    "y_pred_test_3_knn = knn_model.predict(X_test_3_norm_dn)\n",
    "\n",
    "train_score_knn = accuracy_score(y_train_dn, y_pred_train_knn) * 100\n",
    "test_score_3_knn = accuracy_score(y_test_dn, y_pred_test_3_knn) * 100\n",
    "\n",
    "print('accuracy score of the training set is {}%'.format(train_score_log))\n",
    "print('accuracy score of the test set with social spambot #3 is {}%'.format(test_score_3_knn))"
   ]
  }
 ],
 "metadata": {
  "kernelspec": {
   "display_name": "Python 3",
   "language": "python",
   "name": "python3"
  },
  "language_info": {
   "codemirror_mode": {
    "name": "ipython",
    "version": 3
   },
   "file_extension": ".py",
   "mimetype": "text/x-python",
   "name": "python",
   "nbconvert_exporter": "python",
   "pygments_lexer": "ipython3",
   "version": "3.6.5"
  }
 },
 "nbformat": 4,
 "nbformat_minor": 2
}
