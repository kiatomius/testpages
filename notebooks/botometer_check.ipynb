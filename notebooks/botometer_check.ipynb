{
 "cells": [
  {
   "cell_type": "code",
   "execution_count": 1,
   "metadata": {},
   "outputs": [],
   "source": [
    "import json\n",
    "import numpy as np\n",
    "import scipy as sp\n",
    "import matplotlib as mpl\n",
    "import matplotlib.cm as cm\n",
    "import matplotlib.pyplot as plt\n",
    "import pandas as pd\n",
    "from collections import Counter\n",
    "import os\n",
    "import re \n",
    "from textblob import TextBlob \n",
    "import plotly as py\n",
    "import plotly.graph_objs as go"
   ]
  },
  {
   "cell_type": "code",
   "execution_count": 4,
   "metadata": {},
   "outputs": [],
   "source": [
    "data = []\n",
    "with open('data/brexit_latest.json') as f:\n",
    "    for line in f:\n",
    "        data.append(json.loads(line))"
   ]
  },
  {
   "cell_type": "code",
   "execution_count": 7,
   "metadata": {},
   "outputs": [],
   "source": [
    "screen_name = []\n",
    "name = []\n",
    "\n",
    "for i in range (len(data)):\n",
    "    screen_name.append(data[i]['user']['screen_name'])\n",
    "    name.append(data[i]['user']['name'])"
   ]
  },
  {
   "cell_type": "code",
   "execution_count": 44,
   "metadata": {},
   "outputs": [],
   "source": [
    "import random\n",
    "\n",
    "screen_name_1 = random.sample(screen_name, 1000)"
   ]
  },
  {
   "cell_type": "code",
   "execution_count": 16,
   "metadata": {},
   "outputs": [],
   "source": [
    "import botometer\n",
    "\n",
    "mashape_key = \"S0GLQjABpCmsh9mt2JHMXGB8ppUwp1SQt6hjsn5niEpiSqMnrQ\"\n",
    "twitter_app_auth = {\n",
    "    'consumer_key': 'tQUurlNey0pY9UMwzTkdBK2hq',\n",
    "    'consumer_secret': '1Dx3gB5VxDPKzJ3uGn93KrxcA6sH2cRMYKivvIE3mTtFeneuFS',\n",
    "    'access_token': '1059154645216620544-3KALQOTnFBySXWfDjfREMPLc6cgpAc',\n",
    "    'access_token_secret': 'TzyzIS3ZyolV55XcgiIuA0oYkm8TS3LZKiC8UVRkAurAE',\n",
    "  }\n",
    "bom = botometer.Botometer(wait_on_ratelimit=True,\n",
    "                          mashape_key=mashape_key,\n",
    "                          **twitter_app_auth)\n"
   ]
  },
  {
   "cell_type": "code",
   "execution_count": 46,
   "metadata": {},
   "outputs": [],
   "source": [
    "result_1 = []\n",
    "\n",
    "for i in screen_name_1:\n",
    "    result_1.append(bom.check_account(i))"
   ]
  },
  {
   "cell_type": "code",
   "execution_count": 59,
   "metadata": {},
   "outputs": [
    {
     "data": {
      "text/plain": [
       "{'cap': {'english': 0.0038317559975942547, 'universal': 0.004725361816828223},\n",
       " 'categories': {'content': 0.19935698741177266,\n",
       "  'friend': 0.1594575816736603,\n",
       "  'network': 0.44801550652707667,\n",
       "  'sentiment': 0.09785188233608959,\n",
       "  'temporal': 0.08388930474225163,\n",
       "  'user': 0.07248797510053138},\n",
       " 'display_scores': {'content': 1.0,\n",
       "  'english': 0.5,\n",
       "  'friend': 0.8,\n",
       "  'network': 2.2,\n",
       "  'sentiment': 0.5,\n",
       "  'temporal': 0.4,\n",
       "  'universal': 0.5,\n",
       "  'user': 0.4},\n",
       " 'scores': {'english': 0.10030935716061677, 'universal': 0.10328573467123618},\n",
       " 'user': {'id_str': '344141508', 'screen_name': 'Manuel_TSSA'}}"
      ]
     },
     "execution_count": 59,
     "metadata": {},
     "output_type": "execute_result"
    }
   ],
   "source": [
    "result_1[0]"
   ]
  },
  {
   "cell_type": "code",
   "execution_count": 62,
   "metadata": {},
   "outputs": [],
   "source": [
    "english_score=[]\n",
    "universal_score=[]\n",
    "user_id = []\n",
    "screen_name = []\n",
    "content = []\n",
    "english = []\n",
    "friend = []\n",
    "network = []\n",
    "sentiment =[]\n",
    "temporal = []\n",
    "universal = []\n",
    "user = []\n",
    "\n",
    "for i in result_1:\n",
    "    english_score.append(i['scores']['english'])\n",
    "    universal_score.append(i['scores']['universal'])\n",
    "    user_id.append(i['user']['id_str'])\n",
    "    screen_name.append(i['user']['screen_name'])\n",
    "    content.append(i['display_scores']['content'])\n",
    "    english.append(i['display_scores']['english'])\n",
    "    friend.append(i['display_scores']['friend'])\n",
    "    network.append(i['display_scores']['network'])\n",
    "    sentiment.append(i['display_scores']['sentiment'])\n",
    "    temporal.append(i['display_scores']['temporal'])\n",
    "    universal.append(i['display_scores']['universal'])\n",
    "    user.append(i['display_scores']['user'])"
   ]
  },
  {
   "cell_type": "code",
   "execution_count": 65,
   "metadata": {},
   "outputs": [],
   "source": [
    "df = pd.DataFrame({'english_score': english_score, \n",
    "                  'universal_score': universal_score,\n",
    "                  'user_id': user_id,\n",
    "                  'screen_name': screen_name,\n",
    "                  'content': content,\n",
    "                  'english': english,\n",
    "                  'friend': friend,\n",
    "                  'network': network,\n",
    "                  'sentiment': sentiment,\n",
    "                  'temporal': temporal,\n",
    "                  'universal': universal,\n",
    "                  'user': user})"
   ]
  },
  {
   "cell_type": "code",
   "execution_count": 66,
   "metadata": {},
   "outputs": [
    {
     "data": {
      "text/html": [
       "<div>\n",
       "<style scoped>\n",
       "    .dataframe tbody tr th:only-of-type {\n",
       "        vertical-align: middle;\n",
       "    }\n",
       "\n",
       "    .dataframe tbody tr th {\n",
       "        vertical-align: top;\n",
       "    }\n",
       "\n",
       "    .dataframe thead th {\n",
       "        text-align: right;\n",
       "    }\n",
       "</style>\n",
       "<table border=\"1\" class=\"dataframe\">\n",
       "  <thead>\n",
       "    <tr style=\"text-align: right;\">\n",
       "      <th></th>\n",
       "      <th>english_score</th>\n",
       "      <th>universal_score</th>\n",
       "      <th>user_id</th>\n",
       "      <th>screen_name</th>\n",
       "      <th>content</th>\n",
       "      <th>english</th>\n",
       "      <th>friend</th>\n",
       "      <th>network</th>\n",
       "      <th>sentiment</th>\n",
       "      <th>temporal</th>\n",
       "      <th>universal</th>\n",
       "      <th>user</th>\n",
       "    </tr>\n",
       "  </thead>\n",
       "  <tbody>\n",
       "    <tr>\n",
       "      <th>0</th>\n",
       "      <td>0.100309</td>\n",
       "      <td>0.103286</td>\n",
       "      <td>344141508</td>\n",
       "      <td>Manuel_TSSA</td>\n",
       "      <td>1.0</td>\n",
       "      <td>0.5</td>\n",
       "      <td>0.8</td>\n",
       "      <td>2.2</td>\n",
       "      <td>0.5</td>\n",
       "      <td>0.4</td>\n",
       "      <td>0.5</td>\n",
       "      <td>0.4</td>\n",
       "    </tr>\n",
       "    <tr>\n",
       "      <th>1</th>\n",
       "      <td>0.035466</td>\n",
       "      <td>0.052029</td>\n",
       "      <td>161682665</td>\n",
       "      <td>IsmiseMartin</td>\n",
       "      <td>0.4</td>\n",
       "      <td>0.2</td>\n",
       "      <td>0.4</td>\n",
       "      <td>0.6</td>\n",
       "      <td>0.7</td>\n",
       "      <td>0.6</td>\n",
       "      <td>0.3</td>\n",
       "      <td>0.1</td>\n",
       "    </tr>\n",
       "    <tr>\n",
       "      <th>2</th>\n",
       "      <td>0.067835</td>\n",
       "      <td>0.119570</td>\n",
       "      <td>2349924301</td>\n",
       "      <td>NeillSchofield</td>\n",
       "      <td>1.8</td>\n",
       "      <td>0.3</td>\n",
       "      <td>1.0</td>\n",
       "      <td>1.0</td>\n",
       "      <td>1.3</td>\n",
       "      <td>0.7</td>\n",
       "      <td>0.6</td>\n",
       "      <td>0.5</td>\n",
       "    </tr>\n",
       "    <tr>\n",
       "      <th>3</th>\n",
       "      <td>0.771954</td>\n",
       "      <td>0.495058</td>\n",
       "      <td>486317823</td>\n",
       "      <td>garyt4547</td>\n",
       "      <td>3.5</td>\n",
       "      <td>3.9</td>\n",
       "      <td>3.5</td>\n",
       "      <td>3.5</td>\n",
       "      <td>3.2</td>\n",
       "      <td>3.5</td>\n",
       "      <td>2.5</td>\n",
       "      <td>2.8</td>\n",
       "    </tr>\n",
       "    <tr>\n",
       "      <th>4</th>\n",
       "      <td>0.116795</td>\n",
       "      <td>0.088995</td>\n",
       "      <td>277316560</td>\n",
       "      <td>smickie123</td>\n",
       "      <td>1.6</td>\n",
       "      <td>0.6</td>\n",
       "      <td>0.9</td>\n",
       "      <td>1.9</td>\n",
       "      <td>2.1</td>\n",
       "      <td>1.4</td>\n",
       "      <td>0.4</td>\n",
       "      <td>0.8</td>\n",
       "    </tr>\n",
       "  </tbody>\n",
       "</table>\n",
       "</div>"
      ],
      "text/plain": [
       "   english_score  universal_score     user_id     screen_name  content  \\\n",
       "0       0.100309         0.103286   344141508     Manuel_TSSA      1.0   \n",
       "1       0.035466         0.052029   161682665    IsmiseMartin      0.4   \n",
       "2       0.067835         0.119570  2349924301  NeillSchofield      1.8   \n",
       "3       0.771954         0.495058   486317823       garyt4547      3.5   \n",
       "4       0.116795         0.088995   277316560      smickie123      1.6   \n",
       "\n",
       "   english  friend  network  sentiment  temporal  universal  user  \n",
       "0      0.5     0.8      2.2        0.5       0.4        0.5   0.4  \n",
       "1      0.2     0.4      0.6        0.7       0.6        0.3   0.1  \n",
       "2      0.3     1.0      1.0        1.3       0.7        0.6   0.5  \n",
       "3      3.9     3.5      3.5        3.2       3.5        2.5   2.8  \n",
       "4      0.6     0.9      1.9        2.1       1.4        0.4   0.8  "
      ]
     },
     "execution_count": 66,
     "metadata": {},
     "output_type": "execute_result"
    }
   ],
   "source": [
    "df.head()"
   ]
  },
  {
   "cell_type": "code",
   "execution_count": 71,
   "metadata": {},
   "outputs": [],
   "source": [
    "from pandas import ExcelWriter\n",
    "from pandas import ExcelFile\n",
    " \n",
    "writer = ExcelWriter('botometer.xlsx')\n",
    "df.to_excel(writer,'Sheet1',index=False)\n",
    "writer.save()"
   ]
  },
  {
   "cell_type": "code",
   "execution_count": 3,
   "metadata": {},
   "outputs": [],
   "source": [
    "df2 = pd.read_excel('botometer.xlsx')"
   ]
  },
  {
   "cell_type": "code",
   "execution_count": 4,
   "metadata": {},
   "outputs": [
    {
     "data": {
      "text/html": [
       "<div>\n",
       "<style scoped>\n",
       "    .dataframe tbody tr th:only-of-type {\n",
       "        vertical-align: middle;\n",
       "    }\n",
       "\n",
       "    .dataframe tbody tr th {\n",
       "        vertical-align: top;\n",
       "    }\n",
       "\n",
       "    .dataframe thead th {\n",
       "        text-align: right;\n",
       "    }\n",
       "</style>\n",
       "<table border=\"1\" class=\"dataframe\">\n",
       "  <thead>\n",
       "    <tr style=\"text-align: right;\">\n",
       "      <th></th>\n",
       "      <th>english_score</th>\n",
       "      <th>universal_score</th>\n",
       "      <th>user_id</th>\n",
       "      <th>screen_name</th>\n",
       "      <th>content</th>\n",
       "      <th>english</th>\n",
       "      <th>friend</th>\n",
       "      <th>network</th>\n",
       "      <th>sentiment</th>\n",
       "      <th>temporal</th>\n",
       "      <th>universal</th>\n",
       "      <th>user</th>\n",
       "    </tr>\n",
       "  </thead>\n",
       "  <tbody>\n",
       "    <tr>\n",
       "      <th>0</th>\n",
       "      <td>0.100309</td>\n",
       "      <td>0.103286</td>\n",
       "      <td>344141508</td>\n",
       "      <td>Manuel_TSSA</td>\n",
       "      <td>1.0</td>\n",
       "      <td>0.5</td>\n",
       "      <td>0.8</td>\n",
       "      <td>2.2</td>\n",
       "      <td>0.5</td>\n",
       "      <td>0.4</td>\n",
       "      <td>0.5</td>\n",
       "      <td>0.4</td>\n",
       "    </tr>\n",
       "    <tr>\n",
       "      <th>1</th>\n",
       "      <td>0.035466</td>\n",
       "      <td>0.052029</td>\n",
       "      <td>161682665</td>\n",
       "      <td>IsmiseMartin</td>\n",
       "      <td>0.4</td>\n",
       "      <td>0.2</td>\n",
       "      <td>0.4</td>\n",
       "      <td>0.6</td>\n",
       "      <td>0.7</td>\n",
       "      <td>0.6</td>\n",
       "      <td>0.3</td>\n",
       "      <td>0.1</td>\n",
       "    </tr>\n",
       "    <tr>\n",
       "      <th>2</th>\n",
       "      <td>0.067835</td>\n",
       "      <td>0.119570</td>\n",
       "      <td>2349924301</td>\n",
       "      <td>NeillSchofield</td>\n",
       "      <td>1.8</td>\n",
       "      <td>0.3</td>\n",
       "      <td>1.0</td>\n",
       "      <td>1.0</td>\n",
       "      <td>1.3</td>\n",
       "      <td>0.7</td>\n",
       "      <td>0.6</td>\n",
       "      <td>0.5</td>\n",
       "    </tr>\n",
       "    <tr>\n",
       "      <th>3</th>\n",
       "      <td>0.771954</td>\n",
       "      <td>0.495058</td>\n",
       "      <td>486317823</td>\n",
       "      <td>garyt4547</td>\n",
       "      <td>3.5</td>\n",
       "      <td>3.9</td>\n",
       "      <td>3.5</td>\n",
       "      <td>3.5</td>\n",
       "      <td>3.2</td>\n",
       "      <td>3.5</td>\n",
       "      <td>2.5</td>\n",
       "      <td>2.8</td>\n",
       "    </tr>\n",
       "    <tr>\n",
       "      <th>4</th>\n",
       "      <td>0.116795</td>\n",
       "      <td>0.088995</td>\n",
       "      <td>277316560</td>\n",
       "      <td>smickie123</td>\n",
       "      <td>1.6</td>\n",
       "      <td>0.6</td>\n",
       "      <td>0.9</td>\n",
       "      <td>1.9</td>\n",
       "      <td>2.1</td>\n",
       "      <td>1.4</td>\n",
       "      <td>0.4</td>\n",
       "      <td>0.8</td>\n",
       "    </tr>\n",
       "  </tbody>\n",
       "</table>\n",
       "</div>"
      ],
      "text/plain": [
       "   english_score  universal_score     user_id     screen_name  content  \\\n",
       "0       0.100309         0.103286   344141508     Manuel_TSSA      1.0   \n",
       "1       0.035466         0.052029   161682665    IsmiseMartin      0.4   \n",
       "2       0.067835         0.119570  2349924301  NeillSchofield      1.8   \n",
       "3       0.771954         0.495058   486317823       garyt4547      3.5   \n",
       "4       0.116795         0.088995   277316560      smickie123      1.6   \n",
       "\n",
       "   english  friend  network  sentiment  temporal  universal  user  \n",
       "0      0.5     0.8      2.2        0.5       0.4        0.5   0.4  \n",
       "1      0.2     0.4      0.6        0.7       0.6        0.3   0.1  \n",
       "2      0.3     1.0      1.0        1.3       0.7        0.6   0.5  \n",
       "3      3.9     3.5      3.5        3.2       3.5        2.5   2.8  \n",
       "4      0.6     0.9      1.9        2.1       1.4        0.4   0.8  "
      ]
     },
     "execution_count": 4,
     "metadata": {},
     "output_type": "execute_result"
    }
   ],
   "source": [
    "df2.head()"
   ]
  },
  {
   "cell_type": "code",
   "execution_count": 13,
   "metadata": {},
   "outputs": [
    {
     "data": {
      "text/plain": [
       "<matplotlib.legend.Legend at 0x20e873963c8>"
      ]
     },
     "execution_count": 13,
     "metadata": {},
     "output_type": "execute_result"
    },
    {
     "data": {
      "image/png": "[encoded data removed]",
      "text/plain": [
       "<Figure size 720x360 with 1 Axes>"
      ]
     },
     "metadata": {
      "needs_background": "light"
     },
     "output_type": "display_data"
    }
   ],
   "source": [
    "fig, ax = plt.subplots(1, 1, figsize = (10, 5))\n",
    "                       \n",
    "ax.hist(df2['english_score'], alpha = 0.5, label = 'english_score')\n",
    "ax.hist(df2['universal_score'], alpha = 0.5, label = 'universal_score')\n",
    "ax.set_title('Botometer Scores')\n",
    "ax.legend()"
   ]
  },
  {
   "cell_type": "code",
   "execution_count": 21,
   "metadata": {},
   "outputs": [
    {
     "data": {
      "text/plain": [
       "<matplotlib.legend.Legend at 0x20e889c8c88>"
      ]
     },
     "execution_count": 21,
     "metadata": {},
     "output_type": "execute_result"
    },
    {
     "data": {
      "image/png": "[encoded data removed]",
      "text/plain": [
       "<Figure size 720x360 with 1 Axes>"
      ]
     },
     "metadata": {
      "needs_background": "light"
     },
     "output_type": "display_data"
    }
   ],
   "source": [
    "fig, ax = plt.subplots(1, 1, figsize = (10, 5))\n",
    "\n",
    "alpha = 0.3\n",
    "\n",
    "ax.hist(df2['content'], alpha = alpha, label = 'content')\n",
    "ax.hist(df2['english'], alpha = alpha, label = 'english')\n",
    "ax.hist(df2['friend'], alpha = alpha, label = 'friend')\n",
    "ax.hist(df2['network'], alpha = alpha, label = 'network')\n",
    "ax.hist(df2['sentiment'], alpha = alpha, label = 'sentiment')\n",
    "ax.hist(df2['temporal'], alpha = alpha, label = 'temporal')\n",
    "ax.hist(df2['universal'], alpha = alpha, label = 'universal')\n",
    "ax.hist(df2['user'], alpha = alpha, label = 'user')\n",
    "\n",
    "ax.set_title('Botometer Scores')\n",
    "ax.legend()"
   ]
  },
  {
   "cell_type": "code",
   "execution_count": 29,
   "metadata": {},
   "outputs": [
    {
     "data": {
      "text/plain": [
       "<matplotlib.legend.Legend at 0x20e89bdbc18>"
      ]
     },
     "execution_count": 29,
     "metadata": {},
     "output_type": "execute_result"
    },
    {
     "data": {
      "image/png": "[encoded data removed]",
      "text/plain": [
       "<Figure size 1080x360 with 8 Axes>"
      ]
     },
     "metadata": {
      "needs_background": "light"
     },
     "output_type": "display_data"
    }
   ],
   "source": [
    "fig, ax = plt.subplots(2, 4, figsize = (15, 5))\n",
    "\n",
    "alpha = 1\n",
    "\n",
    "ax[0,0].hist(df2['content'], alpha = alpha, label = 'content', color = 'blue')\n",
    "ax[0,1].hist(df2['english'], alpha = alpha, label = 'english')\n",
    "ax[0,2].hist(df2['friend'], alpha = alpha, label = 'friend')\n",
    "ax[0,3].hist(df2['network'], alpha = alpha, label = 'network')\n",
    "ax[1,0].hist(df2['sentiment'], alpha = alpha, label = 'sentiment')\n",
    "ax[1,1].hist(df2['temporal'], alpha = alpha, label = 'temporal')\n",
    "ax[1,2].hist(df2['universal'], alpha = alpha, label = 'universal')\n",
    "ax[1,3].hist(df2['user'], alpha = alpha, label = 'user')\n",
    "\n",
    "ax[0,0].legend()\n",
    "ax[0,1].legend()\n",
    "ax[0,2].legend()\n",
    "ax[0,3].legend()\n",
    "ax[1,0].legend()\n",
    "ax[1,1].legend()\n",
    "ax[1,2].legend()\n",
    "ax[1,3].legend()"
   ]
  },
  {
   "cell_type": "code",
   "execution_count": null,
   "metadata": {},
   "outputs": [],
   "source": []
  }
 ],
 "metadata": {
  "kernelspec": {
   "display_name": "Python 3",
   "language": "python",
   "name": "python3"
  },
  "language_info": {
   "codemirror_mode": {
    "name": "ipython",
    "version": 3
   },
   "file_extension": ".py",
   "mimetype": "text/x-python",
   "name": "python",
   "nbconvert_exporter": "python",
   "pygments_lexer": "ipython3",
   "version": "3.6.6"
  }
 },
 "nbformat": 4,
 "nbformat_minor": 2
}
